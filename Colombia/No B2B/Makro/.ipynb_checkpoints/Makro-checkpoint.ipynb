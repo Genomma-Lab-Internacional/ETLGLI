{
 "cells": [
  {
   "cell_type": "markdown",
   "metadata": {},
   "source": [
    "# Libraries"
   ]
  },
  {
   "cell_type": "code",
   "execution_count": 1,
   "metadata": {},
   "outputs": [],
   "source": [
    "import pandas as pd\n",
    "from datetime import datetime\n",
    "import numpy as np\n",
    "import os\n",
    "\n",
    "## Remove default formatting in header\n",
    "pd.io.formats.excel.ExcelFormatter.header_style = None"
   ]
  },
  {
   "cell_type": "markdown",
   "metadata": {},
   "source": [
    "# Parameters"
   ]
  },
  {
   "cell_type": "code",
   "execution_count": 2,
   "metadata": {},
   "outputs": [],
   "source": [
    "year = 2022\n",
    "week = 5\n",
    "path = r'C:\\Users\\jshernandezm\\OneDrive - genommalabinternacional\\02Paises\\Colombia\\Makro\\{0}\\S{1}'\n",
    "path = path.format(year, str(week).zfill(2))\n",
    "filename = r'Stock and PO and Sales Report_Stock and PO and Sales Report.xlsx'"
   ]
  },
  {
   "cell_type": "markdown",
   "metadata": {},
   "source": [
    "# Import Data"
   ]
  },
  {
   "cell_type": "code",
   "execution_count": 3,
   "metadata": {},
   "outputs": [
    {
     "name": "stdout",
     "output_type": "stream",
     "text": [
      "Wall time: 963 ms\n"
     ]
    }
   ],
   "source": [
    "%%time\n",
    "df = pd.read_excel(path + '\\\\' + filename)"
   ]
  },
  {
   "cell_type": "markdown",
   "metadata": {},
   "source": [
    "# Data Cleaning"
   ]
  },
  {
   "cell_type": "code",
   "execution_count": 4,
   "metadata": {},
   "outputs": [],
   "source": [
    "# Ignore rows with no data\n",
    "def get_data(data, column):\n",
    "    df = data.copy()\n",
    "    not_null = df[df[column].notnull()].index.min()\n",
    "    df.columns = df.loc[not_null].tolist()\n",
    "    df = df[not_null + 1:].copy()\n",
    "    #df.dropna(axis=0, inplace=True)\n",
    "    df.reset_index(drop=True, inplace=True)\n",
    "    return df"
   ]
  },
  {
   "cell_type": "code",
   "execution_count": 5,
   "metadata": {},
   "outputs": [],
   "source": [
    "data = get_data(df, 'Unnamed: 5')"
   ]
  },
  {
   "cell_type": "markdown",
   "metadata": {},
   "source": [
    "Quitamos las últimas 4 filas ya que son nulas"
   ]
  },
  {
   "cell_type": "code",
   "execution_count": 6,
   "metadata": {},
   "outputs": [],
   "source": [
    "data = data[:data.shape[0]-4]"
   ]
  },
  {
   "cell_type": "markdown",
   "metadata": {},
   "source": [
    "Quitamos las columnas que no tienen información"
   ]
  },
  {
   "cell_type": "code",
   "execution_count": 7,
   "metadata": {},
   "outputs": [],
   "source": [
    "num_cols_nan = [2, 4, 6, 11, 14, 18, 19]\n",
    "num_cols_notnan = [col for col in range(0, 20) if col not in num_cols_nan]\n",
    "data = data.iloc[:, num_cols_notnan]"
   ]
  },
  {
   "cell_type": "code",
   "execution_count": 8,
   "metadata": {},
   "outputs": [
    {
     "data": {
      "text/html": [
       "<div>\n",
       "<style scoped>\n",
       "    .dataframe tbody tr th:only-of-type {\n",
       "        vertical-align: middle;\n",
       "    }\n",
       "\n",
       "    .dataframe tbody tr th {\n",
       "        vertical-align: top;\n",
       "    }\n",
       "\n",
       "    .dataframe thead th {\n",
       "        text-align: right;\n",
       "    }\n",
       "</style>\n",
       "<table border=\"1\" class=\"dataframe\">\n",
       "  <thead>\n",
       "    <tr style=\"text-align: right;\">\n",
       "      <th></th>\n",
       "      <th>Número de producto del vendedor</th>\n",
       "      <th>Número de producto Makro</th>\n",
       "      <th>Descripción</th>\n",
       "      <th>Ubicación</th>\n",
       "      <th>Cantidad de stock</th>\n",
       "      <th>Valor de stock disponible</th>\n",
       "      <th>Cantidad de compra</th>\n",
       "      <th>Monto de las compras</th>\n",
       "      <th>Cantidad de ventas</th>\n",
       "      <th>Monto de ventas</th>\n",
       "      <th>Fase CAS</th>\n",
       "      <th>Main Group</th>\n",
       "      <th>Grupo</th>\n",
       "    </tr>\n",
       "  </thead>\n",
       "  <tbody>\n",
       "    <tr>\n",
       "      <th>0</th>\n",
       "      <td>NaN</td>\n",
       "      <td>121445</td>\n",
       "      <td>ACONDICIONADOR TIO NACHO ENGROSADOR 415ml</td>\n",
       "      <td>1 - VDRIO</td>\n",
       "      <td>0</td>\n",
       "      <td>0</td>\n",
       "      <td>0</td>\n",
       "      <td>0</td>\n",
       "      <td>0</td>\n",
       "      <td>NaN</td>\n",
       "      <td>NaN</td>\n",
       "      <td>243 - PERSONAL CARE</td>\n",
       "      <td>514 -CUIDADO DEL CABELLO</td>\n",
       "    </tr>\n",
       "    <tr>\n",
       "      <th>1</th>\n",
       "      <td>NaN</td>\n",
       "      <td>121445</td>\n",
       "      <td>ACONDICIONADOR TIO NACHO ENGROSADOR 415ml</td>\n",
       "      <td>10 - CARTG</td>\n",
       "      <td>10</td>\n",
       "      <td>190890</td>\n",
       "      <td>0</td>\n",
       "      <td>0</td>\n",
       "      <td>2</td>\n",
       "      <td>41848</td>\n",
       "      <td>FASE 0</td>\n",
       "      <td>243 - PERSONAL CARE</td>\n",
       "      <td>514 -CUIDADO DEL CABELLO</td>\n",
       "    </tr>\n",
       "  </tbody>\n",
       "</table>\n",
       "</div>"
      ],
      "text/plain": [
       "  Número de producto del vendedor Número de producto Makro  \\\n",
       "0                             NaN                   121445   \n",
       "1                             NaN                   121445   \n",
       "\n",
       "                                  Descripción   Ubicación Cantidad de stock  \\\n",
       "0   ACONDICIONADOR TIO NACHO ENGROSADOR 415ml   1 - VDRIO                 0   \n",
       "1   ACONDICIONADOR TIO NACHO ENGROSADOR 415ml  10 - CARTG                10   \n",
       "\n",
       "  Valor de stock disponible Cantidad de compra Monto de las compras  \\\n",
       "0                         0                  0                    0   \n",
       "1                    190890                  0                    0   \n",
       "\n",
       "  Cantidad de ventas Monto de ventas Fase CAS           Main Group  \\\n",
       "0                  0             NaN      NaN  243 - PERSONAL CARE   \n",
       "1                  2           41848   FASE 0  243 - PERSONAL CARE   \n",
       "\n",
       "                      Grupo  \n",
       "0  514 -CUIDADO DEL CABELLO  \n",
       "1  514 -CUIDADO DEL CABELLO  "
      ]
     },
     "execution_count": 8,
     "metadata": {},
     "output_type": "execute_result"
    }
   ],
   "source": [
    "data[:2]"
   ]
  },
  {
   "cell_type": "code",
   "execution_count": 9,
   "metadata": {},
   "outputs": [
    {
     "data": {
      "text/plain": [
       "Descripción           0\n",
       "Ubicación             0\n",
       "Cantidad de stock     0\n",
       "Cantidad de ventas    0\n",
       "dtype: int64"
      ]
     },
     "execution_count": 9,
     "metadata": {},
     "output_type": "execute_result"
    }
   ],
   "source": [
    "data[['Descripción', 'Ubicación', 'Cantidad de stock', 'Cantidad de ventas']].isnull().sum()"
   ]
  },
  {
   "cell_type": "markdown",
   "metadata": {},
   "source": [
    "Creamos una pivot tables para exportar:"
   ]
  },
  {
   "cell_type": "code",
   "execution_count": 10,
   "metadata": {},
   "outputs": [],
   "source": [
    "final = data.pivot_table(index=['Descripción'], \n",
    "                         values=['Cantidad de stock', 'Cantidad de ventas'], \n",
    "                         aggfunc='sum').reset_index()"
   ]
  },
  {
   "cell_type": "code",
   "execution_count": 11,
   "metadata": {},
   "outputs": [
    {
     "data": {
      "text/html": [
       "<div>\n",
       "<style scoped>\n",
       "    .dataframe tbody tr th:only-of-type {\n",
       "        vertical-align: middle;\n",
       "    }\n",
       "\n",
       "    .dataframe tbody tr th {\n",
       "        vertical-align: top;\n",
       "    }\n",
       "\n",
       "    .dataframe thead th {\n",
       "        text-align: right;\n",
       "    }\n",
       "</style>\n",
       "<table border=\"1\" class=\"dataframe\">\n",
       "  <thead>\n",
       "    <tr style=\"text-align: right;\">\n",
       "      <th></th>\n",
       "      <th>Descripción</th>\n",
       "      <th>Cantidad de stock</th>\n",
       "      <th>Cantidad de ventas</th>\n",
       "    </tr>\n",
       "  </thead>\n",
       "  <tbody>\n",
       "    <tr>\n",
       "      <th>0</th>\n",
       "      <td>ACONDICIONADOR TIO NACHO ENGROSADOR 415ml</td>\n",
       "      <td>243</td>\n",
       "      <td>33</td>\n",
       "    </tr>\n",
       "    <tr>\n",
       "      <th>1</th>\n",
       "      <td>ACONDICIONADOR ANTIESPONJADO COCO KERATINA VAN...</td>\n",
       "      <td>562</td>\n",
       "      <td>28</td>\n",
       "    </tr>\n",
       "    <tr>\n",
       "      <th>2</th>\n",
       "      <td>ACONDICIONADOR LISO COCO KERATINA VANART 600ml</td>\n",
       "      <td>547</td>\n",
       "      <td>9</td>\n",
       "    </tr>\n",
       "  </tbody>\n",
       "</table>\n",
       "</div>"
      ],
      "text/plain": [
       "                                         Descripción  Cantidad de stock  \\\n",
       "0          ACONDICIONADOR TIO NACHO ENGROSADOR 415ml                243   \n",
       "1  ACONDICIONADOR ANTIESPONJADO COCO KERATINA VAN...                562   \n",
       "2     ACONDICIONADOR LISO COCO KERATINA VANART 600ml                547   \n",
       "\n",
       "   Cantidad de ventas  \n",
       "0                  33  \n",
       "1                  28  \n",
       "2                   9  "
      ]
     },
     "execution_count": 11,
     "metadata": {},
     "output_type": "execute_result"
    }
   ],
   "source": [
    "final[:3]"
   ]
  },
  {
   "cell_type": "code",
   "execution_count": 12,
   "metadata": {},
   "outputs": [],
   "source": [
    "final.to_excel(path + '\\\\Makro_{0}_{1}.xlsx'.format(year, str(week).zfill(2)), \n",
    "               index=False,\n",
    "               sheet_name=f'Semana {week}')"
   ]
  },
  {
   "cell_type": "markdown",
   "metadata": {},
   "source": [
    "# Next Steps"
   ]
  },
  {
   "cell_type": "markdown",
   "metadata": {},
   "source": [
    "- Maestra para cruzar las Descripciones y obtener los EAN\n",
    "- Pedir catálogo de direcciones por PDV al cliente Makro\n",
    "    - Dar de alta en el DWH las sucursales\n",
    "- Hacer el cruce de productos para obtener el ProPstID\n",
    "- Hacer el cruce con el catálogo de precios\n",
    "- Traer la fecha"
   ]
  }
 ],
 "metadata": {
  "kernelspec": {
   "display_name": "Python 3 (ipykernel)",
   "language": "python",
   "name": "python3"
  },
  "language_info": {
   "codemirror_mode": {
    "name": "ipython",
    "version": 3
   },
   "file_extension": ".py",
   "mimetype": "text/x-python",
   "name": "python",
   "nbconvert_exporter": "python",
   "pygments_lexer": "ipython3",
   "version": "3.8.10"
  },
  "toc": {
   "base_numbering": 1,
   "nav_menu": {},
   "number_sections": true,
   "sideBar": true,
   "skip_h1_title": false,
   "title_cell": "Table of Contents",
   "title_sidebar": "Contents",
   "toc_cell": false,
   "toc_position": {
    "height": "calc(100% - 180px)",
    "left": "10px",
    "top": "150px",
    "width": "165px"
   },
   "toc_section_display": true,
   "toc_window_display": true
  }
 },
 "nbformat": 4,
 "nbformat_minor": 4
}
