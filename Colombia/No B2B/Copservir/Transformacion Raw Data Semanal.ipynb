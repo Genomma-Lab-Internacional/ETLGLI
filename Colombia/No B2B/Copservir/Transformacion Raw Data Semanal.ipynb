{
 "cells": [
  {
   "cell_type": "markdown",
   "metadata": {},
   "source": [
    "# Libraries"
   ]
  },
  {
   "cell_type": "code",
   "execution_count": 1,
   "metadata": {},
   "outputs": [
    {
     "data": {
      "application/javascript": [
       "if (!(\"Notification\" in window)) {\n",
       "    alert(\"This browser does not support desktop notifications, so the %%notify magic will not work.\");\n",
       "} else if (Notification.permission !== 'granted' && Notification.permission !== 'denied') {\n",
       "    Notification.requestPermission(function (permission) {\n",
       "        if(!('permission' in Notification)) {\n",
       "            Notification.permission = permission;\n",
       "        }\n",
       "    })\n",
       "}\n"
      ],
      "text/plain": [
       "<IPython.core.display.Javascript object>"
      ]
     },
     "metadata": {},
     "output_type": "display_data"
    }
   ],
   "source": [
    "import pyodbc\n",
    "import pandas as pd\n",
    "import jupyternotify\n",
    "from datetime import datetime\n",
    "import pandas.io.formats.excel\n",
    "pandas.io.formats.excel.ExcelFormatter.header_style = None\n",
    "ip = get_ipython()\n",
    "ip.register_magics(jupyternotify.JupyterNotifyMagics)\n",
    "pd.set_option('display.float_format', lambda x: '%.3f' % x)"
   ]
  },
  {
   "cell_type": "markdown",
   "metadata": {},
   "source": [
    "# Parámetros"
   ]
  },
  {
   "cell_type": "code",
   "execution_count": 2,
   "metadata": {},
   "outputs": [],
   "source": [
    "anio = 2021\n",
    "semana = 29\n",
    "file = '\\\\INFOR GENOMMA LAB COLOMBIA JULIO 20 2021.xlsx'\n",
    "path = r\"C:\\Users\\jshernandezm\\genommalabinternacional\\Cristian Javier Sanchez Yepez - NoB2B\\Copservir\\Copservir Faltante\\2021\\S {0}\"\n",
    "path = path.format(semana)"
   ]
  },
  {
   "cell_type": "markdown",
   "metadata": {},
   "source": [
    "# Importación"
   ]
  },
  {
   "cell_type": "code",
   "execution_count": 3,
   "metadata": {},
   "outputs": [
    {
     "name": "stdout",
     "output_type": "stream",
     "text": [
      "Wall time: 2min 34s\n"
     ]
    }
   ],
   "source": [
    "%%time\n",
    "# Carga de Inventario por PDV\n",
    "sheet_names = ['INV POR PDV', 'inv x pdv', 'INV X PDV']\n",
    "for sheet in sheet_names:\n",
    "    try:\n",
    "        df_ip = pd.read_excel(path + file, sheet_name=sheet)\n",
    "        break\n",
    "    except:\n",
    "        continue\n",
    "    \n",
    "# Carga de Venta Diaria\n",
    "sheet_names = ['vta x dia', 'VTA X DIA', 'VTA POR DIA', 'VTA POR DIA ', 'Sheet1']\n",
    "for sheet in sheet_names:\n",
    "    try:\n",
    "        df_vd = pd.read_excel(path + file, sheet_name=sheet)\n",
    "        break\n",
    "    except:\n",
    "        continue\n",
    "\n",
    "        # Carga de Inventario de CEDIS\n",
    "df_ic = pd.read_excel(path + file, sheet_name='INV CONSOLIDADO', header=2)"
   ]
  },
  {
   "cell_type": "markdown",
   "metadata": {},
   "source": [
    "## DWH"
   ]
  },
  {
   "cell_type": "code",
   "execution_count": 4,
   "metadata": {},
   "outputs": [],
   "source": [
    "server = 'SFEDWH01'\n",
    "database1 = 'Gnm_DWH'\n",
    "\n",
    "conn1 = pyodbc.connect('Driver={SQL Server};'\n",
    "                     'Server=' + server + ';'\n",
    "                     'Database=' + database1 + ';'\n",
    "                     'Trusted_Connection=yes;')\n",
    "\n",
    "query_dias = '''SELECT TmpFecha\n",
    "                FROM Gnm_DWH.dbo.Dim_Tiempo\n",
    "                WHERE TmpAnioSemanaGenomma = {0} AND TmpSemanaAnioGenomma = {1}'''"
   ]
  },
  {
   "cell_type": "code",
   "execution_count": 5,
   "metadata": {},
   "outputs": [],
   "source": [
    "df_dias = pd.read_sql(query_dias.format(anio, semana), conn1)"
   ]
  },
  {
   "cell_type": "markdown",
   "metadata": {},
   "source": [
    "# Transformación de Inventarios"
   ]
  },
  {
   "cell_type": "markdown",
   "metadata": {},
   "source": [
    "Primero transformamos el *Inventario por PDV (ip)*:"
   ]
  },
  {
   "cell_type": "code",
   "execution_count": 6,
   "metadata": {},
   "outputs": [],
   "source": [
    "data_ip = df_ip[['Mostrador', 'Código producto', 'Producto', 'Cantidad Saldo']].copy()\n",
    "data_ip['codHoml'] = df_ip['Mostrador'].apply(lambda x: x.split('-')[0])\n",
    "data_ip['so'] = 0"
   ]
  },
  {
   "cell_type": "markdown",
   "metadata": {},
   "source": [
    "Luego, transformamos el *inventario de CEDIS (ic)*:"
   ]
  },
  {
   "cell_type": "code",
   "execution_count": 7,
   "metadata": {},
   "outputs": [],
   "source": [
    "data_ic = df_ic[['Código producto', 'Producto', 'Cantidad Saldo.1', 'Cantidad Saldo.2', 'Cantidad Saldo.3', 'Cantidad Saldo.4']].copy()\n",
    "data_ic.rename({'Cantidad Saldo.1':'BAR', 'Cantidad Saldo.2':'BOG', 'Cantidad Saldo.3':'BUC', 'Cantidad Saldo.4':'CAL'}, axis=1, inplace=True)\n",
    "\n",
    "# Despivoteamos las columnas y lo guardamos en data_ic_t\n",
    "data_ic_t = data_ic.melt(id_vars=['Código producto', 'Producto'], value_vars=['BAR', 'BOG', 'BUC', 'CAL'])\n",
    "\n",
    "# Transformación de los datos despivoteados\n",
    "data_ic_t.rename({'value':'Cantidad Saldo', 'variable':'codHoml'}, axis=1, inplace=True)\n",
    "data_ic_t['Mostrador'] = data_ic_t['codHoml'].map({'BAR':'BARRANQUILLA', 'BOG':'BOGOTA', 'BUC':'BUCARAMANGA', 'CAL':'CALI'})\n",
    "data_ic_t['so'] = 0"
   ]
  },
  {
   "cell_type": "markdown",
   "metadata": {},
   "source": [
    "Y concatenamos ambos inventarios en unos solo:"
   ]
  },
  {
   "cell_type": "code",
   "execution_count": 8,
   "metadata": {},
   "outputs": [],
   "source": [
    "data_inv = pd.concat([data_ip, data_ic_t])"
   ]
  },
  {
   "cell_type": "markdown",
   "metadata": {},
   "source": [
    "Y limpiamos algunas columnas"
   ]
  },
  {
   "cell_type": "code",
   "execution_count": 9,
   "metadata": {},
   "outputs": [],
   "source": [
    "data_inv.loc[data_inv['Cantidad Saldo'] == '-', 'Cantidad Saldo'] = 0\n",
    "\n",
    "data_inv['Cantidad Saldo'] = data_inv['Cantidad Saldo'].astype(float)"
   ]
  },
  {
   "cell_type": "markdown",
   "metadata": {},
   "source": [
    "# Transformación de Ventas"
   ]
  },
  {
   "cell_type": "markdown",
   "metadata": {},
   "source": [
    "Función para obtener el nombre de las columnas según las fechas de la semana en cuestión:"
   ]
  },
  {
   "cell_type": "code",
   "execution_count": 10,
   "metadata": {},
   "outputs": [],
   "source": [
    "def ftarget(dias):\n",
    "    \n",
    "    meses = {\"01\":'Ene', \"02\":'Feb', \"03\":'Mar',\n",
    "             \"04\":'Abr', \"05\":'May', \"06\":'Jun',\n",
    "             \"07\":'Jul', \"08\":'Ago', \"09\":'Sep',\n",
    "             \"10\":'Oct', \"11\":'Nov', \"12\":'Dic'}\n",
    "    \n",
    "    fechas_list = []\n",
    "    range_fechas = dias['TmpFecha'].tolist()\n",
    "    for f in range_fechas:\n",
    "        fechas_list.append(str(f.day).zfill(2) + '_' + meses[str(f.month).zfill(2)] + '_' + str(f.year)[-2:])\n",
    "    return fechas_list"
   ]
  },
  {
   "cell_type": "code",
   "execution_count": 11,
   "metadata": {},
   "outputs": [],
   "source": [
    "# Obtenemos los nombres de las columnas a tomar\n",
    "cols_datos = ftarget(df_dias)\n",
    "#data_vd = df_vd[['Unnamed: 4', 'Unnamed: 5', 'Unnamed: 6', 'Día'] + cols_datos].copy()\n",
    "data_vd = df_vd[['Unnamed: 4', 'Unnamed: 5', 'Unnamed: 6', 'Unnamed: 7', 'Día'] + [c for c in cols_datos if c in df_vd.columns]].copy()\n",
    "\n",
    "# Limpiamos\n",
    "data_vd.replace('-', 0, inplace=True)\n",
    "\n",
    "# Sumamos los diarios para tener semanal\n",
    "#data_vd['so'] = data_vd[cols_datos].sum(axis=1)\n",
    "data_vd['so'] = data_vd[[c for c in cols_datos if c in data_vd.columns]].sum(axis=1)\n",
    "\n",
    "# Renombramos columnas \n",
    "data_vd.rename(dict(zip(data_vd.columns[:-1], data_vd.loc[0].tolist()[:-1])), axis=1, inplace=True)\n",
    "\n",
    "# Limpiamos\n",
    "data_vd.drop(['Cantidad'], axis=1, inplace=True)\n",
    "data_vd.drop(0, axis=0, inplace=True)\n",
    "data_vd.reset_index(inplace=True, drop=True)\n",
    "data_vd['Cantidad Saldo'] = 0"
   ]
  },
  {
   "cell_type": "markdown",
   "metadata": {},
   "source": [
    "# Merge de inventario y stock"
   ]
  },
  {
   "cell_type": "markdown",
   "metadata": {},
   "source": [
    "Función para homologar los códigos de sucursales"
   ]
  },
  {
   "cell_type": "code",
   "execution_count": 12,
   "metadata": {},
   "outputs": [],
   "source": [
    "def homolog_codigos(codigo):\n",
    "    \n",
    "    dict_locales = {'400000000':'4E8', '4000000':'4E6', '400000':'4E5',\n",
    "                    '40000':'4E4', '4000':'4E3', '400':'4E2', '40':'4E1',\n",
    "                    '3000000000':'3E9', '300000000':'3E8', '30000000':'3E7',\n",
    "                    '3000000':'3E6', '300000':'3E5', '30000':'3E4', \n",
    "                    '3000':'3E3', '30':'3E1', '200000000':'2E8', '20000000':'2E7',\n",
    "                    '200000':'2E5', '20000':'2E4', '200':'2E2',  '20':'2E1',\n",
    "                    '1000000000':'1E9', '100000000':'1E8', '10000000':'1E7',\n",
    "                    '100000':'1E5', '10000':'1E4', '1000':'1E3', '100':'1E2', '10':'1E1'}\n",
    "    \n",
    "    try:\n",
    "        return dict_locales[codigo]\n",
    "    except:\n",
    "        return codigo"
   ]
  },
  {
   "cell_type": "markdown",
   "metadata": {},
   "source": [
    "Preparación de los datos de inventario y ventas para el merge"
   ]
  },
  {
   "cell_type": "code",
   "execution_count": 13,
   "metadata": {},
   "outputs": [],
   "source": [
    "# Limpieza Inventario\n",
    "data_inv['codHoml'] = data_inv['codHoml'].astype(str)\n",
    "data_inv['codHoml'] = data_inv['codHoml'].map(homolog_codigos)\n",
    "data_inv['Código producto'] = data_inv['Código producto'].astype(str)\n",
    "data_inv['ID'] = data_inv['codHoml'] + data_inv['Código producto']"
   ]
  },
  {
   "cell_type": "code",
   "execution_count": 14,
   "metadata": {},
   "outputs": [],
   "source": [
    "data_vd = data_vd.pivot_table(index=['CodigoComercial', 'Nombre Mostrador', 'Código producto', 'Nombre Producto', 'so'],\n",
    "                              values=['so', 'Cantidad Saldo'], aggfunc='sum').reset_index()"
   ]
  },
  {
   "cell_type": "code",
   "execution_count": 15,
   "metadata": {},
   "outputs": [],
   "source": [
    "# Limpieza Ventas\n",
    "data_vd['CodigoComercial'] = data_vd['CodigoComercial'].astype(str)\n",
    "data_vd['CodigoComercial'] = data_vd['CodigoComercial'].map(homolog_codigos)\n",
    "data_vd['Código producto'] = data_vd['Código producto'].astype(str)\n",
    "data_vd['ID'] = data_vd['CodigoComercial'] + data_vd['Código producto']"
   ]
  },
  {
   "cell_type": "code",
   "execution_count": 16,
   "metadata": {},
   "outputs": [],
   "source": [
    "data = pd.merge(data_inv, data_vd, on='ID', how='outer')"
   ]
  },
  {
   "cell_type": "markdown",
   "metadata": {},
   "source": [
    "Ya hecho el merge, se filtran las columnas de interés"
   ]
  },
  {
   "cell_type": "code",
   "execution_count": 17,
   "metadata": {},
   "outputs": [],
   "source": [
    "def fillna_another_column(df, col1, col2, new_name):\n",
    "    df[new_name] = df[col1].fillna(df[col2])\n",
    "    df.drop([col1, col2], axis=1, inplace=True)\n",
    "    return df"
   ]
  },
  {
   "cell_type": "code",
   "execution_count": 18,
   "metadata": {},
   "outputs": [],
   "source": [
    "columns_to_fill = [('Código producto_x', 'Código producto_y', 'Código producto'),\n",
    "                   ('Cantidad Saldo_x', 'Cantidad Saldo_y', 'Cantidad Saldo'),\n",
    "                   ('so_y', 'so_x', 'so'), \n",
    "                   ('Mostrador', 'Nombre Mostrador', 'Mostrad'), \n",
    "                   ('codHoml', 'CodigoComercial', 'codHomol'),\n",
    "                   ('Producto', 'Nombre Producto', 'Product')]"
   ]
  },
  {
   "cell_type": "code",
   "execution_count": 19,
   "metadata": {},
   "outputs": [],
   "source": [
    "for c1, c2, nn in columns_to_fill:\n",
    "    data = fillna_another_column(data, c1, c2, nn)\n",
    "data.drop(['ID'], axis=1, inplace=True)\n",
    "data.rename({'Mostrad':'Mostrador', 'codHomol':'codHoml', 'Product':'Producto'}, axis=1, inplace=True)"
   ]
  },
  {
   "cell_type": "code",
   "execution_count": 20,
   "metadata": {},
   "outputs": [
    {
     "data": {
      "text/plain": [
       "Código producto    0\n",
       "Cantidad Saldo     0\n",
       "so                 0\n",
       "Mostrador          0\n",
       "codHoml            0\n",
       "Producto           0\n",
       "dtype: int64"
      ]
     },
     "execution_count": 20,
     "metadata": {},
     "output_type": "execute_result"
    }
   ],
   "source": [
    "data.isnull().sum()"
   ]
  },
  {
   "cell_type": "code",
   "execution_count": 21,
   "metadata": {},
   "outputs": [
    {
     "data": {
      "text/plain": [
       "(90895, 6)"
      ]
     },
     "execution_count": 21,
     "metadata": {},
     "output_type": "execute_result"
    }
   ],
   "source": [
    "data.shape"
   ]
  },
  {
   "cell_type": "markdown",
   "metadata": {},
   "source": [
    "# Exportación de datos"
   ]
  },
  {
   "cell_type": "code",
   "execution_count": 22,
   "metadata": {},
   "outputs": [
    {
     "data": {
      "application/javascript": [
       "$(document).ready(\n",
       "    function() {\n",
       "        function appendUniqueDiv(){\n",
       "            // append a div with our uuid so we can check that it's already\n",
       "            // been sent and avoid duplicates on page reload\n",
       "            var notifiedDiv = document.createElement(\"div\")\n",
       "            notifiedDiv.id = \"8d8fe7eb-9270-4512-9667-0286b6d34a5b\"\n",
       "            element.append(notifiedDiv)\n",
       "        }\n",
       "\n",
       "        // only send notifications if the pageload is complete; this will\n",
       "        // help stop extra notifications when a saved notebook is loaded,\n",
       "        // which during testing gives us state \"interactive\", not \"complete\"\n",
       "        if (document.readyState === 'complete') {\n",
       "            // check for the div that signifies that the notification\n",
       "            // was already sent\n",
       "            if (document.getElementById(\"8d8fe7eb-9270-4512-9667-0286b6d34a5b\") === null) {\n",
       "                var notificationPayload = {\"requireInteraction\": false, \"icon\": \"/static/base/images/favicon.ico\", \"body\": \"Exportaci\\u00f3n de Copservir \"};\n",
       "                if (Notification.permission !== 'denied') {\n",
       "                    if (Notification.permission !== 'granted') { \n",
       "                        Notification.requestPermission(function (permission) {\n",
       "                            if(!('permission' in Notification)) {\n",
       "                                Notification.permission = permission\n",
       "                            }\n",
       "                        })\n",
       "                    }\n",
       "                    if (Notification.permission === 'granted') {\n",
       "                    var notification = new Notification(\"Jupyter Notebook\", notificationPayload)\n",
       "                    appendUniqueDiv()\n",
       "                    notification.onclick = function () {\n",
       "                        window.focus();\n",
       "                        this.close();\n",
       "                        };\n",
       "                    } \n",
       "                }     \n",
       "            }\n",
       "        }\n",
       "    }\n",
       ")\n"
      ],
      "text/plain": [
       "<IPython.core.display.Javascript object>"
      ]
     },
     "metadata": {},
     "output_type": "display_data"
    }
   ],
   "source": [
    "%%notify -m \"Exportación de Copservir \"\n",
    "filename = '{0}_{1}-20211122'.format(anio, str(semana).zfill(2))\n",
    "data[['codHoml', 'Mostrador', 'Código producto', 'Producto', 'Cantidad Saldo', 'so']].to_excel(path + '\\\\{}.xlsx'.format(filename), index=False, sheet_name=filename)"
   ]
  },
  {
   "cell_type": "code",
   "execution_count": 23,
   "metadata": {},
   "outputs": [
    {
     "data": {
      "text/plain": [
       "'C:\\\\Users\\\\jshernandezm\\\\genommalabinternacional\\\\Cristian Javier Sanchez Yepez - NoB2B\\\\Copservir\\\\Copservir Faltante\\\\2021\\\\S 29'"
      ]
     },
     "execution_count": 23,
     "metadata": {},
     "output_type": "execute_result"
    }
   ],
   "source": [
    "path"
   ]
  },
  {
   "cell_type": "code",
   "execution_count": null,
   "metadata": {},
   "outputs": [],
   "source": []
  }
 ],
 "metadata": {
  "kernelspec": {
   "display_name": "Python 3 (ipykernel)",
   "language": "python",
   "name": "python3"
  },
  "language_info": {
   "codemirror_mode": {
    "name": "ipython",
    "version": 3
   },
   "file_extension": ".py",
   "mimetype": "text/x-python",
   "name": "python",
   "nbconvert_exporter": "python",
   "pygments_lexer": "ipython3",
   "version": "3.8.10"
  },
  "toc": {
   "base_numbering": 1,
   "nav_menu": {},
   "number_sections": true,
   "sideBar": true,
   "skip_h1_title": false,
   "title_cell": "Table of Contents",
   "title_sidebar": "Contents",
   "toc_cell": false,
   "toc_position": {
    "height": "calc(100% - 180px)",
    "left": "10px",
    "top": "150px",
    "width": "232.727px"
   },
   "toc_section_display": true,
   "toc_window_display": true
  }
 },
 "nbformat": 4,
 "nbformat_minor": 4
}
