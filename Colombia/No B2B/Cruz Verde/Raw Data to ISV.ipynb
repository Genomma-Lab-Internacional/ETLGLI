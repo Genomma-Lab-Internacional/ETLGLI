{
 "cells": [
  {
   "cell_type": "markdown",
   "metadata": {},
   "source": [
    "# Libraries"
   ]
  },
  {
   "cell_type": "code",
   "execution_count": 1,
   "metadata": {},
   "outputs": [],
   "source": [
    "import pandas as pd\n",
    "from datetime import datetime\n",
    "import pyodbc\n",
    "import shutil\n",
    "import os\n",
    "from openpyxl import load_workbook"
   ]
  },
  {
   "cell_type": "markdown",
   "metadata": {},
   "source": [
    "# Parameters"
   ]
  },
  {
   "cell_type": "code",
   "execution_count": 2,
   "metadata": {},
   "outputs": [],
   "source": [
    "# Ruta de la data de Cruz Verde\n",
    "path = r'C:\\Users\\jshernandezm\\OneDrive - genommalabinternacional\\02Paises\\Colombia\\Cruz Verde\\2021'\n",
    "\n",
    "# Año y Mes a transformar\n",
    "anio = 2021\n",
    "mes = 'Abril'\n",
    "\n",
    "# Nombre de los archivos de Cruz Verde\n",
    "filename_so = r'\\Rotacion_CruzVerde_900199922_Consumo_Farma_A_202104.xlsx'\n",
    "filename_st = r'\\Inventario_CruzVerde_900199922_Consumo_Farma_A_202104.xlsx'\n",
    "\n",
    "# Ruta del layout de ISV No B2B\n",
    "path_original_layout = r'C:\\Users\\jshernandezm\\OneDrive - genommalabinternacional\\01Code\\01ISV\\COL\\1Data\\2Catalogue\\toISV'"
   ]
  },
  {
   "cell_type": "markdown",
   "metadata": {},
   "source": [
    "## Data Base"
   ]
  },
  {
   "cell_type": "code",
   "execution_count": 3,
   "metadata": {},
   "outputs": [],
   "source": [
    "conn1 = pyodbc.connect('Driver={SQL Server};'\n",
    "                     'Server=SFEDWH01;'\n",
    "                     'Database=Gnm_DWH;'\n",
    "                     'Trusted_Connection=yes;')"
   ]
  },
  {
   "cell_type": "markdown",
   "metadata": {},
   "source": [
    "Nos traemos el primer domingo del mes Genomma:"
   ]
  },
  {
   "cell_type": "code",
   "execution_count": 4,
   "metadata": {},
   "outputs": [],
   "source": [
    "mes_numero = {\n",
    "    'Enero':1,\n",
    "    'Febrero':2,\n",
    "    'Marzo':3,\n",
    "    'Abril':4,\n",
    "    'Mayo':5,\n",
    "    'Junio':6,\n",
    "    'Julio':7,\n",
    "    'Agosto':8,\n",
    "    'Septiembre':9,\n",
    "    'Octubre':10,\n",
    "    'Noviembre':11,\n",
    "    'Diciembre':12\n",
    "}"
   ]
  },
  {
   "cell_type": "code",
   "execution_count": 5,
   "metadata": {},
   "outputs": [],
   "source": [
    "qfecha = '''\n",
    "SELECT MIN(TmpFecha) Fecha\n",
    "FROM Gnm_DWH.dbo.Dim_Tiempo\n",
    "WHERE TmpAnioSemanaGenomma = {0} AND TmpMesGenomma = {1} AND TmpNombreDiaSemana = 'Domingo';\n",
    "'''"
   ]
  },
  {
   "cell_type": "code",
   "execution_count": 6,
   "metadata": {},
   "outputs": [],
   "source": [
    "fecha = pd.read_sql(qfecha.format(anio, mes_numero[mes]), conn1)"
   ]
  },
  {
   "cell_type": "markdown",
   "metadata": {},
   "source": [
    "# Load Data"
   ]
  },
  {
   "cell_type": "markdown",
   "metadata": {},
   "source": [
    "**df_so**: Hace referecia a los datos de \"Sell Out\" <br>\n",
    "**df_st**: Hace referecia a los datos de \"Stock\""
   ]
  },
  {
   "cell_type": "code",
   "execution_count": 7,
   "metadata": {},
   "outputs": [
    {
     "name": "stdout",
     "output_type": "stream",
     "text": [
      "Wall time: 12.5 s\n"
     ]
    }
   ],
   "source": [
    "%%time\n",
    "df_so = pd.read_excel(path + '\\\\' + mes + filename_so)\n",
    "df_st = pd.read_excel(path + '\\\\' + mes + filename_st)"
   ]
  },
  {
   "cell_type": "markdown",
   "metadata": {},
   "source": [
    "# Clean Data"
   ]
  },
  {
   "cell_type": "markdown",
   "metadata": {},
   "source": [
    "## Sell Out"
   ]
  },
  {
   "cell_type": "code",
   "execution_count": 8,
   "metadata": {},
   "outputs": [],
   "source": [
    "data_so = df_so[['Código Producto', 'Código de Barras', 'Descripción Producto', 'Codigo Org Inventario', 'Nombre Org Inventario', 'Unidades vendidas']].copy()\n",
    "\n",
    "# Agregamos dos columnas nuevas\n",
    "data_so['Cadena'] = 'Cruz Verde'\n",
    "data_so['Fecha_Venta'] = fecha.loc[0, 'Fecha']"
   ]
  },
  {
   "cell_type": "code",
   "execution_count": 9,
   "metadata": {},
   "outputs": [],
   "source": [
    "names_so = {'Código Producto':'Cod_Prod de la Cadena',\n",
    "            'Código de Barras':'EAN o UPC Genomma',\n",
    "            'Descripción Producto':'Descripcion_Prod',\n",
    "            'Codigo Org Inventario':'Cod_Local',\n",
    "            'Nombre Org Inventario':'Descripcion_Local',\n",
    "            'Unidades vendidas':'Unidades'}\n",
    "\n",
    "data_so.rename(names_so, axis=1, inplace=True)"
   ]
  },
  {
   "cell_type": "code",
   "execution_count": 10,
   "metadata": {},
   "outputs": [],
   "source": [
    "data_so = data_so.pivot_table(index=['Fecha_Venta', 'Cadena', 'Cod_Prod de la Cadena',\n",
    "                                     'EAN o UPC Genomma', 'Descripcion_Prod',\n",
    "                                     'Cod_Local', 'Descripcion_Local'],\n",
    "                              values=['Unidades'], aggfunc='sum').reset_index()"
   ]
  },
  {
   "cell_type": "markdown",
   "metadata": {},
   "source": [
    "Ya tenemos lista la información de Sell Out en el layout de ISV."
   ]
  },
  {
   "cell_type": "markdown",
   "metadata": {},
   "source": [
    "## Stocks"
   ]
  },
  {
   "cell_type": "code",
   "execution_count": 11,
   "metadata": {},
   "outputs": [],
   "source": [
    "data_st = df_st[['ARTICULO', 'EAN', 'DESCRIPCION', 'CODIGO ORGANIZACION', 'ORGANIZACION', 'CANTIDAD ARTICULO']].copy()\n",
    "\n",
    "# Agregamos dos columnas nuevas\n",
    "data_st['Cadena'] = 'Cruz Verde'\n",
    "data_st['Fecha_Stock'] = fecha.loc[0, 'Fecha']"
   ]
  },
  {
   "cell_type": "code",
   "execution_count": 12,
   "metadata": {},
   "outputs": [],
   "source": [
    "names_st = {'ARTICULO':'Cod_Prod', 'EAN':'EAN o UPC Genomma',\n",
    "            'DESCRIPCION':'Descripcion_Prod',\n",
    "            'CODIGO ORGANIZACION':'Cod_Local',\n",
    "            'ORGANIZACION':'Descripcion_Local',\n",
    "            'CANTIDAD ARTICULO':'Unidades'}\n",
    "\n",
    "data_st.rename(names_st, axis=1, inplace=True)"
   ]
  },
  {
   "cell_type": "code",
   "execution_count": 13,
   "metadata": {},
   "outputs": [],
   "source": [
    "data_st = data_st.pivot_table(index=['Fecha_Stock', 'Cadena', 'Cod_Prod',\n",
    "                                     'EAN o UPC Genomma', 'Descripcion_Prod',\n",
    "                                     'Cod_Local', 'Descripcion_Local'],\n",
    "                              values=['Unidades'], aggfunc='sum').reset_index()"
   ]
  },
  {
   "cell_type": "markdown",
   "metadata": {},
   "source": [
    "Ya tenemos lista la información de Inventarios en el layout de ISV."
   ]
  },
  {
   "cell_type": "markdown",
   "metadata": {},
   "source": [
    "## General"
   ]
  },
  {
   "cell_type": "markdown",
   "metadata": {},
   "source": [
    "Generamos algunos últimos cambios en las columnas de Sell Out e Inventario:"
   ]
  },
  {
   "cell_type": "code",
   "execution_count": 14,
   "metadata": {},
   "outputs": [],
   "source": [
    "# Cambio a str de EAN y Cod_Local\n",
    "data_so['EAN o UPC Genomma'] = data_so['EAN o UPC Genomma'].map(int).map(str)\n",
    "data_so['Cod_Local'] = data_so['Cod_Local'].map(int).map(str)\n",
    "\n",
    "data_st['EAN o UPC Genomma'] = data_st['EAN o UPC Genomma'].map(int).map(str)\n",
    "data_st['Cod_Local'] = data_st['Cod_Local'].map(int).map(str)"
   ]
  },
  {
   "cell_type": "markdown",
   "metadata": {},
   "source": [
    "# Export to ISV"
   ]
  },
  {
   "cell_type": "code",
   "execution_count": 15,
   "metadata": {},
   "outputs": [],
   "source": [
    "def write_layout(filename, df, sellout=True):\n",
    "    writer = pd.ExcelWriter(filename, engine='openpyxl', mode='a')\n",
    "    writer.book = load_workbook(filename)\n",
    "    writer.sheets = {ws.title:ws for ws in writer.book.worksheets}\n",
    "    if sellout == True:\n",
    "        df.to_excel(writer, sheet_name='Ventas', startcol=1, startrow=18, index=False, header=None)\n",
    "    else:\n",
    "        df.to_excel(writer, sheet_name='Stock', startcol=1, startrow=18, index=False, header=None)\n",
    "    writer.save()"
   ]
  },
  {
   "cell_type": "markdown",
   "metadata": {},
   "source": [
    "Creando un nuevo folder donde se guardará el archivo ISV No B2B con la información de CV."
   ]
  },
  {
   "cell_type": "code",
   "execution_count": 16,
   "metadata": {},
   "outputs": [],
   "source": [
    "new_folder = path_original_layout + '\\\\{0}\\\\{1}'.format(anio, mes)\n",
    "\n",
    "if not os.path.exists(new_folder):\n",
    "    os.mkdir(new_folder)"
   ]
  },
  {
   "cell_type": "markdown",
   "metadata": {},
   "source": [
    "Creando la ruta de donde se encuentra el layout de ISV y donde vamos a exportar la información"
   ]
  },
  {
   "cell_type": "code",
   "execution_count": 17,
   "metadata": {},
   "outputs": [],
   "source": [
    "path_original_layout = path_original_layout + '\\\\Formato No B2B Orig.xlsx'\n",
    "filename = f'Formato No B2B Cruz Verde {mes} - {anio}.xlsx'\n",
    "path_export = new_folder + '\\\\' + filename"
   ]
  },
  {
   "cell_type": "markdown",
   "metadata": {},
   "source": [
    "Exportación tanto de sell out como inventario:"
   ]
  },
  {
   "cell_type": "code",
   "execution_count": 18,
   "metadata": {},
   "outputs": [
    {
     "name": "stdout",
     "output_type": "stream",
     "text": [
      "Wall time: 30.8 s\n"
     ]
    }
   ],
   "source": [
    "%%time\n",
    "shutil.copy(path_original_layout, path_export)\n",
    "write_layout(path_export, data_so, True)\n",
    "write_layout(path_export, data_st, False)"
   ]
  }
 ],
 "metadata": {
  "kernelspec": {
   "display_name": "Python 3 (ipykernel)",
   "language": "python",
   "name": "python3"
  },
  "language_info": {
   "codemirror_mode": {
    "name": "ipython",
    "version": 3
   },
   "file_extension": ".py",
   "mimetype": "text/x-python",
   "name": "python",
   "nbconvert_exporter": "python",
   "pygments_lexer": "ipython3",
   "version": "3.8.10"
  },
  "toc": {
   "base_numbering": 1,
   "nav_menu": {},
   "number_sections": true,
   "sideBar": true,
   "skip_h1_title": false,
   "title_cell": "Table of Contents",
   "title_sidebar": "Contents",
   "toc_cell": false,
   "toc_position": {
    "height": "calc(100% - 180px)",
    "left": "10px",
    "top": "150px",
    "width": "165px"
   },
   "toc_section_display": true,
   "toc_window_display": true
  }
 },
 "nbformat": 4,
 "nbformat_minor": 4
}
