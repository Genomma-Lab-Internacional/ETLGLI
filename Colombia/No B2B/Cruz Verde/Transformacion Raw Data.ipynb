{
 "cells": [
  {
   "cell_type": "markdown",
   "metadata": {},
   "source": [
    "# Libraries"
   ]
  },
  {
   "cell_type": "code",
   "execution_count": 1,
   "metadata": {},
   "outputs": [],
   "source": [
    "import pandas as pd\n",
    "import pyodbc\n",
    "import os"
   ]
  },
  {
   "cell_type": "markdown",
   "metadata": {},
   "source": [
    "# Parameters"
   ]
  },
  {
   "cell_type": "code",
   "execution_count": 2,
   "metadata": {},
   "outputs": [],
   "source": [
    "path = r'C:\\Users\\jshernandezm\\OneDrive - genommalabinternacional\\02Paises\\Colombia\\Cruz Verde\\2021'\n",
    "anio = 2021\n",
    "mes = 'Febrero'\n",
    "filename_so = r'\\Rotacion_CruzVerde_900199922_Consumo_Farma_A_202102.xlsx'\n",
    "filename_st = r'\\Inventario_CruzVerde_900199922_Consumo_Farma_A_202102.xlsx'"
   ]
  },
  {
   "cell_type": "markdown",
   "metadata": {},
   "source": [
    "## Data Base"
   ]
  },
  {
   "cell_type": "code",
   "execution_count": 3,
   "metadata": {},
   "outputs": [],
   "source": [
    "conn1 = pyodbc.connect('Driver={SQL Server};'\n",
    "                     'Server=SFEDWH01;'\n",
    "                     'Database=Gnm_DWH;'\n",
    "                     'Trusted_Connection=yes;')"
   ]
  },
  {
   "cell_type": "code",
   "execution_count": 4,
   "metadata": {},
   "outputs": [],
   "source": [
    "qfecha = '''SELECT MIN(TmpFecha) Fecha\n",
    "            FROM Gnm_DWH.dbo.Dim_Tiempo\n",
    "            WHERE TmpAnioSemanaGenomma = {0} AND TmpNombreMes = '{1}' AND TmpNombreDiaSemana = 'Domingo';\n",
    "            '''"
   ]
  },
  {
   "cell_type": "markdown",
   "metadata": {},
   "source": [
    "# Load Data"
   ]
  },
  {
   "cell_type": "code",
   "execution_count": 5,
   "metadata": {},
   "outputs": [
    {
     "name": "stdout",
     "output_type": "stream",
     "text": [
      "Wall time: 4.15 s\n"
     ]
    }
   ],
   "source": [
    "%%time\n",
    "df_so = pd.read_excel(path + '\\\\' + mes + filename_so)\n",
    "df_st = pd.read_excel(path + '\\\\' + mes + filename_st)"
   ]
  },
  {
   "cell_type": "code",
   "execution_count": 6,
   "metadata": {},
   "outputs": [],
   "source": [
    "fecha = pd.read_sql(qfecha.format(anio, mes), conn1)"
   ]
  },
  {
   "cell_type": "markdown",
   "metadata": {},
   "source": [
    "# Clean Data"
   ]
  },
  {
   "cell_type": "markdown",
   "metadata": {},
   "source": [
    "## Sell Out"
   ]
  },
  {
   "cell_type": "code",
   "execution_count": 7,
   "metadata": {},
   "outputs": [],
   "source": [
    "data_so = df_so[['Código Producto', 'Código de Barras', 'Descripción Producto', 'Codigo Org Inventario', 'Nombre Org Inventario', 'Unidades vendidas']].copy()\n",
    "\n",
    "data_so['Cadena'] = 'Cruz Verde'\n",
    "data_so['Fecha_Venta'] = fecha.loc[0, 'Fecha']"
   ]
  },
  {
   "cell_type": "code",
   "execution_count": 8,
   "metadata": {},
   "outputs": [],
   "source": [
    "names_so = {'Código Producto':'Cod_Prod de la Cadena',\n",
    "            'Código de Barras':'EAN o UPC Genomma',\n",
    "            'Descripción Producto':'Descripcion_Prod',\n",
    "            'Codigo Org Inventario':'Cod_Local',\n",
    "            'Nombre Org Inventario':'Descripcion_Local',\n",
    "            'Unidades vendidas':'Unidades'}\n",
    "\n",
    "data_so.rename(names_so, axis=1, inplace=True)"
   ]
  },
  {
   "cell_type": "code",
   "execution_count": 9,
   "metadata": {},
   "outputs": [],
   "source": [
    "data_so = data_so.pivot_table(index=['Fecha_Venta', 'Cadena', 'Cod_Prod de la Cadena',\n",
    "                                     'EAN o UPC Genomma', 'Descripcion_Prod',\n",
    "                                     'Cod_Local', 'Descripcion_Local'],\n",
    "                              values=['Unidades'], aggfunc='sum').reset_index()"
   ]
  },
  {
   "cell_type": "markdown",
   "metadata": {},
   "source": [
    "## Stocks"
   ]
  },
  {
   "cell_type": "code",
   "execution_count": 10,
   "metadata": {},
   "outputs": [],
   "source": [
    "data_st = df_st[['ARTICULO', 'EAN', 'DESCRIPCION', 'CODIGO ORGANIZACION', 'ORGANIZACION', 'CANTIDAD ARTICULO']].copy()\n",
    "\n",
    "data_st['Cadena'] = 'Cruz Verde'\n",
    "data_st['Fecha_Stock'] = fecha.loc[0, 'Fecha']"
   ]
  },
  {
   "cell_type": "code",
   "execution_count": 11,
   "metadata": {},
   "outputs": [],
   "source": [
    "names_st = {'ARTICULO':'Cod_Prod', 'EAN':'EAN o UPC Genomma',\n",
    "            'DESCRIPCION':'Descripcion_Prod',\n",
    "            'CODIGO ORGANIZACION':'Cod_Local',\n",
    "            'ORGANIZACION':'Descripcion_Local',\n",
    "            'CANTIDAD ARTICULO':'Unidades'}\n",
    "\n",
    "data_st.rename(names_st, axis=1, inplace=True)"
   ]
  },
  {
   "cell_type": "code",
   "execution_count": 12,
   "metadata": {},
   "outputs": [],
   "source": [
    "data_st = data_st.pivot_table(index=['Fecha_Stock', 'Cadena', 'Cod_Prod',\n",
    "                                     'EAN o UPC Genomma', 'Descripcion_Prod',\n",
    "                                     'Cod_Local', 'Descripcion_Local'],\n",
    "                              values=['Unidades'], aggfunc='sum').reset_index()"
   ]
  },
  {
   "cell_type": "markdown",
   "metadata": {},
   "source": [
    "**Falta agregarle los precios**"
   ]
  },
  {
   "cell_type": "markdown",
   "metadata": {},
   "source": [
    "# Export to ISV"
   ]
  },
  {
   "cell_type": "code",
   "execution_count": 13,
   "metadata": {},
   "outputs": [
    {
     "data": {
      "text/plain": [
       "400913088.24523807"
      ]
     },
     "execution_count": 13,
     "metadata": {},
     "output_type": "execute_result"
    }
   ],
   "source": [
    "df_so['Costo Compra'].sum()"
   ]
  },
  {
   "cell_type": "code",
   "execution_count": 14,
   "metadata": {},
   "outputs": [
    {
     "data": {
      "text/plain": [
       "22728.95238095238"
      ]
     },
     "execution_count": 14,
     "metadata": {},
     "output_type": "execute_result"
    }
   ],
   "source": [
    "data_so['Unidades'].sum()"
   ]
  },
  {
   "cell_type": "code",
   "execution_count": 15,
   "metadata": {},
   "outputs": [],
   "source": [
    "path = '../../../../../../02PriceUpdate/COL/1Data/2Catalogue/1Current/'\n",
    "filename = 'LISTA DE PRECIOS 020221 + DURACELL.xlsx'\n",
    "df_precios = pd.read_excel(path + filename, header=5, sheet_name='Hoja1').query(\"Cliente == 'DROGUERÍAS Y FARMACIAS CRUZ VERDE S.A.S'\")\n",
    "df_precios.reset_index(drop=True, inplace=True)"
   ]
  },
  {
   "cell_type": "code",
   "execution_count": 16,
   "metadata": {},
   "outputs": [],
   "source": [
    "df_precios['Ean'] = df_precios['Ean'].astype('int64')"
   ]
  },
  {
   "cell_type": "markdown",
   "metadata": {},
   "source": [
    "df_precios['Ean'] = df_precios['Ean'].astype('int64')\n",
    "df_precios.drop([1, 2], axis=0, inplace=True)\n",
    "df_precios.reset_index(drop=True, inplace=True)"
   ]
  },
  {
   "cell_type": "code",
   "execution_count": 17,
   "metadata": {},
   "outputs": [],
   "source": [
    "precios = df_precios[['Ean', 'LISTA']]"
   ]
  },
  {
   "cell_type": "code",
   "execution_count": 18,
   "metadata": {},
   "outputs": [
    {
     "name": "stderr",
     "output_type": "stream",
     "text": [
      "C:\\Users\\jshernandezm\\Anaconda3\\lib\\site-packages\\pandas\\core\\frame.py:4133: SettingWithCopyWarning: \n",
      "A value is trying to be set on a copy of a slice from a DataFrame\n",
      "\n",
      "See the caveats in the documentation: https://pandas.pydata.org/pandas-docs/stable/user_guide/indexing.html#returning-a-view-versus-a-copy\n",
      "  errors=errors,\n"
     ]
    }
   ],
   "source": [
    "precios.rename({'Ean':'EAN o UPC Genomma'}, axis=1, inplace=True)"
   ]
  },
  {
   "cell_type": "code",
   "execution_count": 19,
   "metadata": {},
   "outputs": [],
   "source": [
    "aux = data_so.merge(precios, on='EAN o UPC Genomma', how='left')"
   ]
  },
  {
   "cell_type": "code",
   "execution_count": 51,
   "metadata": {},
   "outputs": [
    {
     "data": {
      "text/plain": [
       "Fecha_Venta               0\n",
       "Cadena                    0\n",
       "Cod_Prod de la Cadena     0\n",
       "EAN o UPC Genomma         0\n",
       "Descripcion_Prod          0\n",
       "Cod_Local                 0\n",
       "Descripcion_Local         0\n",
       "Unidades                  0\n",
       "LISTA                    19\n",
       "Monto                    19\n",
       "dtype: int64"
      ]
     },
     "execution_count": 51,
     "metadata": {},
     "output_type": "execute_result"
    }
   ],
   "source": [
    "aux.isnull().sum()"
   ]
  },
  {
   "cell_type": "code",
   "execution_count": null,
   "metadata": {},
   "outputs": [],
   "source": [
    "400,965,802.8"
   ]
  },
  {
   "cell_type": "code",
   "execution_count": null,
   "metadata": {},
   "outputs": [],
   "source": [
    "650240004292, 650240014307, 650240009563, 650240032431, 650240032516, 650240036316"
   ]
  },
  {
   "cell_type": "code",
   "execution_count": 53,
   "metadata": {},
   "outputs": [
    {
     "data": {
      "text/plain": [
       "array([650240004292, 650240014307, 650240009563, 650240032431,\n",
       "       650240032516, 650240036316], dtype=int64)"
      ]
     },
     "execution_count": 53,
     "metadata": {},
     "output_type": "execute_result"
    }
   ],
   "source": [
    "aux['EAN o UPC Genomma'][aux['LISTA'].isnull()].unique()"
   ]
  },
  {
   "cell_type": "code",
   "execution_count": 20,
   "metadata": {},
   "outputs": [],
   "source": [
    "aux['Monto'] = aux['Unidades']*aux['LISTA']"
   ]
  },
  {
   "cell_type": "code",
   "execution_count": 55,
   "metadata": {},
   "outputs": [
    {
     "data": {
      "text/plain": [
       "400516052.42857146"
      ]
     },
     "execution_count": 55,
     "metadata": {},
     "output_type": "execute_result"
    }
   ],
   "source": [
    "aux['Monto'].sum()"
   ]
  },
  {
   "cell_type": "code",
   "execution_count": 21,
   "metadata": {},
   "outputs": [
    {
     "data": {
      "text/plain": [
       "22728.95238095238"
      ]
     },
     "execution_count": 21,
     "metadata": {},
     "output_type": "execute_result"
    }
   ],
   "source": [
    "df_so['Unidades vendidas'].sum()"
   ]
  },
  {
   "cell_type": "code",
   "execution_count": 22,
   "metadata": {},
   "outputs": [
    {
     "data": {
      "text/plain": [
       "400913088.24523807"
      ]
     },
     "execution_count": 22,
     "metadata": {},
     "output_type": "execute_result"
    }
   ],
   "source": [
    "df_so['Costo Compra'].sum()"
   ]
  },
  {
   "cell_type": "code",
   "execution_count": 79,
   "metadata": {},
   "outputs": [
    {
     "data": {
      "text/plain": [
       "22728.95238095238"
      ]
     },
     "execution_count": 79,
     "metadata": {},
     "output_type": "execute_result"
    }
   ],
   "source": [
    "aux['Unidades'].sum()"
   ]
  },
  {
   "cell_type": "code",
   "execution_count": 23,
   "metadata": {},
   "outputs": [
    {
     "data": {
      "text/plain": [
       "400516052.42857146"
      ]
     },
     "execution_count": 23,
     "metadata": {},
     "output_type": "execute_result"
    }
   ],
   "source": [
    "aux['Monto'].sum()"
   ]
  },
  {
   "cell_type": "code",
   "execution_count": 81,
   "metadata": {},
   "outputs": [
    {
     "data": {
      "text/plain": [
       "140438617.0"
      ]
     },
     "execution_count": 81,
     "metadata": {},
     "output_type": "execute_result"
    }
   ],
   "source": [
    "aux['LISTA'].sum()"
   ]
  },
  {
   "cell_type": "code",
   "execution_count": 82,
   "metadata": {},
   "outputs": [
    {
     "data": {
      "text/plain": [
       "60816.190376190476"
      ]
     },
     "execution_count": 82,
     "metadata": {},
     "output_type": "execute_result"
    }
   ],
   "source": [
    "data_st['Unidades'].sum()"
   ]
  },
  {
   "cell_type": "markdown",
   "metadata": {},
   "source": [
    "# Tranformation to report"
   ]
  },
  {
   "cell_type": "code",
   "execution_count": 24,
   "metadata": {},
   "outputs": [],
   "source": [
    "data_st['EAN o UPC Genomma'] = data_st['EAN o UPC Genomma'].astype('int64')\n",
    "data_st['EAN o UPC Genomma'] = data_st['EAN o UPC Genomma'].astype(str)\n",
    "data_st['Cod_Local'] = data_st['Cod_Local'].astype('int64')\n",
    "data_st['Cod_Local'] = data_st['Cod_Local'].astype(str)\n",
    "\n",
    "data_so['EAN o UPC Genomma'] = data_so['EAN o UPC Genomma'].astype('int64')\n",
    "data_so['EAN o UPC Genomma'] = data_so['EAN o UPC Genomma'].astype(str)\n",
    "data_so['Cod_Local'] = data_so['Cod_Local'].astype('int64')\n",
    "data_so['Cod_Local'] = data_so['Cod_Local'].astype(str)\n",
    "\n",
    "data_st['ID'] = data_st['EAN o UPC Genomma'] + data_st['Cod_Local']\n",
    "data_so['ID'] = data_so['EAN o UPC Genomma'] + data_so['Cod_Local']\n",
    "\n",
    "data_sost = data_so.merge(data_st, on='ID', how='outer')"
   ]
  },
  {
   "cell_type": "code",
   "execution_count": 25,
   "metadata": {},
   "outputs": [],
   "source": [
    "def fillna_numeric_columns(df, list_columns):\n",
    "    data = df.copy()\n",
    "    for column in list_columns:\n",
    "        data[column] = data[column].fillna(value=0)\n",
    "    return data"
   ]
  },
  {
   "cell_type": "code",
   "execution_count": 26,
   "metadata": {},
   "outputs": [],
   "source": [
    "def fillna_nominal_columns(df, dict_equivalent):\n",
    "    data = df.copy()\n",
    "    for col1, col2 in dict_equivalent.items():\n",
    "        data[col1] = data[col1].fillna(data[col2])\n",
    "    return data"
   ]
  },
  {
   "cell_type": "code",
   "execution_count": 27,
   "metadata": {},
   "outputs": [],
   "source": [
    "num_cols = ['Unidades_x', 'Unidades_y']\n",
    "data_sost = fillna_numeric_columns(data_sost, num_cols)"
   ]
  },
  {
   "cell_type": "code",
   "execution_count": 28,
   "metadata": {},
   "outputs": [],
   "source": [
    "nom_cols = {'Fecha_Venta':'Fecha_Stock',\n",
    "            'Cadena_x':'Cadena_y',\n",
    "            'Cod_Prod de la Cadena':'Cod_Prod', \n",
    "            'EAN o UPC Genomma_x':'EAN o UPC Genomma_y',\n",
    "            'Descripcion_Prod_x':'Descripcion_Prod_y', \n",
    "            'Cod_Local_x':'Cod_Local_y',\n",
    "            'Descripcion_Local_x':'Descripcion_Local_y'}"
   ]
  },
  {
   "cell_type": "code",
   "execution_count": 29,
   "metadata": {},
   "outputs": [],
   "source": [
    "data_sost = fillna_nominal_columns(data_sost, nom_cols)"
   ]
  },
  {
   "cell_type": "code",
   "execution_count": 30,
   "metadata": {},
   "outputs": [],
   "source": [
    "final = data_sost.pivot_table(index=['Fecha_Venta', 'Cadena_x', 'Cod_Prod de la Cadena', \n",
    "                                     'EAN o UPC Genomma_x', 'Descripcion_Prod_x',\n",
    "                                     'Cod_Local_x','Descripcion_Local_x'],\n",
    "                              values=['Unidades_x', 'Unidades_y'], aggfunc='sum').reset_index()"
   ]
  },
  {
   "cell_type": "code",
   "execution_count": 31,
   "metadata": {},
   "outputs": [],
   "source": [
    "new_names = {'Fecha_Venta':'Fecha',\n",
    "             'Cadena_x':'Cadena',\n",
    "             'Cod_Prod de la Cadena':'Cod_Prod',\n",
    "             'EAN o UPC Genomma_x':'EAN',\n",
    "             'Descripcion_Prod_x':'Descripcion',\n",
    "             'Cod_Local_x':'Cod_Local',\n",
    "             'Descripcion_Local_x':'Local',\n",
    "             'Unidades_x':'SO',\n",
    "             'Unidades_y':'Inventario'}\n",
    "\n",
    "final.rename(new_names, axis=1, inplace=True)"
   ]
  },
  {
   "cell_type": "code",
   "execution_count": 32,
   "metadata": {},
   "outputs": [
    {
     "data": {
      "text/plain": [
       "(14061, 17)"
      ]
     },
     "execution_count": 32,
     "metadata": {},
     "output_type": "execute_result"
    }
   ],
   "source": [
    "data_sost.shape"
   ]
  },
  {
   "cell_type": "code",
   "execution_count": 33,
   "metadata": {},
   "outputs": [
    {
     "data": {
      "text/plain": [
       "(14061, 9)"
      ]
     },
     "execution_count": 33,
     "metadata": {},
     "output_type": "execute_result"
    }
   ],
   "source": [
    "final.shape"
   ]
  },
  {
   "cell_type": "code",
   "execution_count": 34,
   "metadata": {},
   "outputs": [
    {
     "data": {
      "text/plain": [
       "Fecha          0\n",
       "Cadena         0\n",
       "Cod_Prod       0\n",
       "EAN            0\n",
       "Descripcion    0\n",
       "Cod_Local      0\n",
       "Local          0\n",
       "SO             0\n",
       "Inventario     0\n",
       "dtype: int64"
      ]
     },
     "execution_count": 34,
     "metadata": {},
     "output_type": "execute_result"
    }
   ],
   "source": [
    "final.isnull().sum()"
   ]
  },
  {
   "cell_type": "code",
   "execution_count": 36,
   "metadata": {},
   "outputs": [
    {
     "data": {
      "text/plain": [
       "SO            22728.952381\n",
       "Inventario    60816.190376\n",
       "dtype: float64"
      ]
     },
     "execution_count": 36,
     "metadata": {},
     "output_type": "execute_result"
    }
   ],
   "source": [
    "final[['SO', 'Inventario']].sum()"
   ]
  },
  {
   "cell_type": "code",
   "execution_count": 37,
   "metadata": {},
   "outputs": [
    {
     "data": {
      "text/plain": [
       "Index(['Fecha', 'Cadena', 'Cod_Prod', 'EAN', 'Descripcion', 'Cod_Local',\n",
       "       'Local', 'SO', 'Inventario'],\n",
       "      dtype='object')"
      ]
     },
     "execution_count": 37,
     "metadata": {},
     "output_type": "execute_result"
    }
   ],
   "source": [
    "final.columns"
   ]
  },
  {
   "cell_type": "code",
   "execution_count": null,
   "metadata": {},
   "outputs": [],
   "source": [
    "final.merge(precios, on='EAN o UPC Genomma', how='left')"
   ]
  },
  {
   "cell_type": "code",
   "execution_count": 48,
   "metadata": {},
   "outputs": [],
   "source": [
    "final['EAN'] = final['EAN'].astype('int64')"
   ]
  },
  {
   "cell_type": "code",
   "execution_count": 49,
   "metadata": {},
   "outputs": [
    {
     "data": {
      "text/html": [
       "<div>\n",
       "<style scoped>\n",
       "    .dataframe tbody tr th:only-of-type {\n",
       "        vertical-align: middle;\n",
       "    }\n",
       "\n",
       "    .dataframe tbody tr th {\n",
       "        vertical-align: top;\n",
       "    }\n",
       "\n",
       "    .dataframe thead th {\n",
       "        text-align: right;\n",
       "    }\n",
       "</style>\n",
       "<table border=\"1\" class=\"dataframe\">\n",
       "  <thead>\n",
       "    <tr style=\"text-align: right;\">\n",
       "      <th></th>\n",
       "      <th>Fecha</th>\n",
       "      <th>Cadena</th>\n",
       "      <th>Cod_Prod</th>\n",
       "      <th>EAN</th>\n",
       "      <th>Descripcion</th>\n",
       "      <th>Cod_Local</th>\n",
       "      <th>Local</th>\n",
       "      <th>SO</th>\n",
       "      <th>Inventario</th>\n",
       "      <th>LISTA</th>\n",
       "    </tr>\n",
       "  </thead>\n",
       "  <tbody>\n",
       "    <tr>\n",
       "      <th>0</th>\n",
       "      <td>2021-02-07</td>\n",
       "      <td>Cruz Verde</td>\n",
       "      <td>74122.0</td>\n",
       "      <td>650240004681</td>\n",
       "      <td>ASEPXIA CAMOUFLAGE    TUB X 28GR</td>\n",
       "      <td>129</td>\n",
       "      <td>129_CRUZ_VERDE_TUNJA</td>\n",
       "      <td>0.0</td>\n",
       "      <td>1.0</td>\n",
       "      <td>NaN</td>\n",
       "    </tr>\n",
       "    <tr>\n",
       "      <th>1</th>\n",
       "      <td>2021-02-07</td>\n",
       "      <td>Cruz Verde</td>\n",
       "      <td>74122.0</td>\n",
       "      <td>650240004681</td>\n",
       "      <td>ASEPXIA CAMOUFLAGE    TUB X 28GR</td>\n",
       "      <td>143</td>\n",
       "      <td>143_CRUZ_VERDE_FACATATIVA</td>\n",
       "      <td>0.0</td>\n",
       "      <td>1.0</td>\n",
       "      <td>NaN</td>\n",
       "    </tr>\n",
       "    <tr>\n",
       "      <th>2</th>\n",
       "      <td>2021-02-07</td>\n",
       "      <td>Cruz Verde</td>\n",
       "      <td>74122.0</td>\n",
       "      <td>650240004681</td>\n",
       "      <td>ASEPXIA CAMOUFLAGE    TUB X 28GR</td>\n",
       "      <td>454</td>\n",
       "      <td>454_CRUZ_VERDE_COLINA</td>\n",
       "      <td>0.0</td>\n",
       "      <td>2.0</td>\n",
       "      <td>NaN</td>\n",
       "    </tr>\n",
       "    <tr>\n",
       "      <th>3</th>\n",
       "      <td>2021-02-07</td>\n",
       "      <td>Cruz Verde</td>\n",
       "      <td>74122.0</td>\n",
       "      <td>650240004681</td>\n",
       "      <td>ASEPXIA CAMOUFLAGE    TUB X 28GR</td>\n",
       "      <td>564</td>\n",
       "      <td>564_CRUZ_VERDE_LA_MERCED</td>\n",
       "      <td>0.0</td>\n",
       "      <td>2.0</td>\n",
       "      <td>NaN</td>\n",
       "    </tr>\n",
       "    <tr>\n",
       "      <th>4</th>\n",
       "      <td>2021-02-07</td>\n",
       "      <td>Cruz Verde</td>\n",
       "      <td>74123.0</td>\n",
       "      <td>650240004001</td>\n",
       "      <td>ASEPXIA SPOT    TUB X 28GR</td>\n",
       "      <td>171</td>\n",
       "      <td>171_CRUZ_VERDE_PLAZA_DE_LAS_AMERICAS</td>\n",
       "      <td>0.0</td>\n",
       "      <td>1.0</td>\n",
       "      <td>14375.0</td>\n",
       "    </tr>\n",
       "    <tr>\n",
       "      <th>...</th>\n",
       "      <td>...</td>\n",
       "      <td>...</td>\n",
       "      <td>...</td>\n",
       "      <td>...</td>\n",
       "      <td>...</td>\n",
       "      <td>...</td>\n",
       "      <td>...</td>\n",
       "      <td>...</td>\n",
       "      <td>...</td>\n",
       "      <td>...</td>\n",
       "    </tr>\n",
       "    <tr>\n",
       "      <th>14056</th>\n",
       "      <td>2021-02-07</td>\n",
       "      <td>Cruz Verde</td>\n",
       "      <td>167138.0</td>\n",
       "      <td>7798140259428</td>\n",
       "      <td>TOALLITAS EFECTO PURIFICANTE   ASEPXIA PAQ X 2...</td>\n",
       "      <td>748</td>\n",
       "      <td>748_CRUZ_VERDE_PALMETTO</td>\n",
       "      <td>1.0</td>\n",
       "      <td>1.0</td>\n",
       "      <td>11529.0</td>\n",
       "    </tr>\n",
       "    <tr>\n",
       "      <th>14057</th>\n",
       "      <td>2021-02-07</td>\n",
       "      <td>Cruz Verde</td>\n",
       "      <td>167138.0</td>\n",
       "      <td>7798140259428</td>\n",
       "      <td>TOALLITAS EFECTO PURIFICANTE   ASEPXIA PAQ X 2...</td>\n",
       "      <td>750</td>\n",
       "      <td>750_CRUZ_VERDE_CALLE 67</td>\n",
       "      <td>0.0</td>\n",
       "      <td>4.0</td>\n",
       "      <td>11529.0</td>\n",
       "    </tr>\n",
       "    <tr>\n",
       "      <th>14058</th>\n",
       "      <td>2021-02-07</td>\n",
       "      <td>Cruz Verde</td>\n",
       "      <td>167138.0</td>\n",
       "      <td>7798140259428</td>\n",
       "      <td>TOALLITAS EFECTO PURIFICANTE   ASEPXIA PAQ X 2...</td>\n",
       "      <td>816</td>\n",
       "      <td>816_CRUZ_VERDE_SANTA_ROSA_DOMICILIOS</td>\n",
       "      <td>0.0</td>\n",
       "      <td>2.0</td>\n",
       "      <td>11529.0</td>\n",
       "    </tr>\n",
       "    <tr>\n",
       "      <th>14059</th>\n",
       "      <td>2021-02-07</td>\n",
       "      <td>Cruz Verde</td>\n",
       "      <td>167138.0</td>\n",
       "      <td>7798140259428</td>\n",
       "      <td>TOALLITAS EFECTO PURIFICANTE   ASEPXIA PAQ X 2...</td>\n",
       "      <td>97</td>\n",
       "      <td>97_CRUZ_VERDE_CHICO</td>\n",
       "      <td>1.0</td>\n",
       "      <td>7.0</td>\n",
       "      <td>11529.0</td>\n",
       "    </tr>\n",
       "    <tr>\n",
       "      <th>14060</th>\n",
       "      <td>2021-02-07</td>\n",
       "      <td>Cruz Verde</td>\n",
       "      <td>167138.0</td>\n",
       "      <td>7798140259428</td>\n",
       "      <td>TOALLITAS EFECTO PURIFICANTE   ASEPXIA PAQ X 2...</td>\n",
       "      <td>98</td>\n",
       "      <td>98_CRUZ_VERDE_BELMIRA</td>\n",
       "      <td>0.0</td>\n",
       "      <td>6.0</td>\n",
       "      <td>11529.0</td>\n",
       "    </tr>\n",
       "  </tbody>\n",
       "</table>\n",
       "<p>14061 rows × 10 columns</p>\n",
       "</div>"
      ],
      "text/plain": [
       "           Fecha      Cadena  Cod_Prod            EAN  \\\n",
       "0     2021-02-07  Cruz Verde   74122.0   650240004681   \n",
       "1     2021-02-07  Cruz Verde   74122.0   650240004681   \n",
       "2     2021-02-07  Cruz Verde   74122.0   650240004681   \n",
       "3     2021-02-07  Cruz Verde   74122.0   650240004681   \n",
       "4     2021-02-07  Cruz Verde   74123.0   650240004001   \n",
       "...          ...         ...       ...            ...   \n",
       "14056 2021-02-07  Cruz Verde  167138.0  7798140259428   \n",
       "14057 2021-02-07  Cruz Verde  167138.0  7798140259428   \n",
       "14058 2021-02-07  Cruz Verde  167138.0  7798140259428   \n",
       "14059 2021-02-07  Cruz Verde  167138.0  7798140259428   \n",
       "14060 2021-02-07  Cruz Verde  167138.0  7798140259428   \n",
       "\n",
       "                                             Descripcion Cod_Local  \\\n",
       "0                       ASEPXIA CAMOUFLAGE    TUB X 28GR       129   \n",
       "1                       ASEPXIA CAMOUFLAGE    TUB X 28GR       143   \n",
       "2                       ASEPXIA CAMOUFLAGE    TUB X 28GR       454   \n",
       "3                       ASEPXIA CAMOUFLAGE    TUB X 28GR       564   \n",
       "4                             ASEPXIA SPOT    TUB X 28GR       171   \n",
       "...                                                  ...       ...   \n",
       "14056  TOALLITAS EFECTO PURIFICANTE   ASEPXIA PAQ X 2...       748   \n",
       "14057  TOALLITAS EFECTO PURIFICANTE   ASEPXIA PAQ X 2...       750   \n",
       "14058  TOALLITAS EFECTO PURIFICANTE   ASEPXIA PAQ X 2...       816   \n",
       "14059  TOALLITAS EFECTO PURIFICANTE   ASEPXIA PAQ X 2...        97   \n",
       "14060  TOALLITAS EFECTO PURIFICANTE   ASEPXIA PAQ X 2...        98   \n",
       "\n",
       "                                      Local   SO  Inventario    LISTA  \n",
       "0                      129_CRUZ_VERDE_TUNJA  0.0         1.0      NaN  \n",
       "1                 143_CRUZ_VERDE_FACATATIVA  0.0         1.0      NaN  \n",
       "2                     454_CRUZ_VERDE_COLINA  0.0         2.0      NaN  \n",
       "3                  564_CRUZ_VERDE_LA_MERCED  0.0         2.0      NaN  \n",
       "4      171_CRUZ_VERDE_PLAZA_DE_LAS_AMERICAS  0.0         1.0  14375.0  \n",
       "...                                     ...  ...         ...      ...  \n",
       "14056               748_CRUZ_VERDE_PALMETTO  1.0         1.0  11529.0  \n",
       "14057               750_CRUZ_VERDE_CALLE 67  0.0         4.0  11529.0  \n",
       "14058  816_CRUZ_VERDE_SANTA_ROSA_DOMICILIOS  0.0         2.0  11529.0  \n",
       "14059                   97_CRUZ_VERDE_CHICO  1.0         7.0  11529.0  \n",
       "14060                 98_CRUZ_VERDE_BELMIRA  0.0         6.0  11529.0  \n",
       "\n",
       "[14061 rows x 10 columns]"
      ]
     },
     "execution_count": 49,
     "metadata": {},
     "output_type": "execute_result"
    }
   ],
   "source": [
    "final.merge(precios, on='EAN', how='left')"
   ]
  },
  {
   "cell_type": "code",
   "execution_count": null,
   "metadata": {},
   "outputs": [],
   "source": [
    "data_so"
   ]
  },
  {
   "cell_type": "code",
   "execution_count": null,
   "metadata": {},
   "outputs": [],
   "source": []
  },
  {
   "cell_type": "code",
   "execution_count": null,
   "metadata": {},
   "outputs": [],
   "source": []
  },
  {
   "cell_type": "code",
   "execution_count": null,
   "metadata": {},
   "outputs": [],
   "source": []
  }
 ],
 "metadata": {
  "kernelspec": {
   "display_name": "Python 3.7.6 64-bit ('base': conda)",
   "language": "python",
   "name": "python37664bitbaseconda8f2870ef7b8b4a659a1cfb9279b52c39"
  },
  "language_info": {
   "codemirror_mode": {
    "name": "ipython",
    "version": 3
   },
   "file_extension": ".py",
   "mimetype": "text/x-python",
   "name": "python",
   "nbconvert_exporter": "python",
   "pygments_lexer": "ipython3",
   "version": "3.7.6"
  },
  "toc": {
   "base_numbering": 1,
   "nav_menu": {},
   "number_sections": true,
   "sideBar": true,
   "skip_h1_title": false,
   "title_cell": "Table of Contents",
   "title_sidebar": "Contents",
   "toc_cell": false,
   "toc_position": {
    "height": "calc(100% - 180px)",
    "left": "10px",
    "top": "150px",
    "width": "243.097px"
   },
   "toc_section_display": true,
   "toc_window_display": true
  }
 },
 "nbformat": 4,
 "nbformat_minor": 4
}
