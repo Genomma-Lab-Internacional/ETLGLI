{
 "cells": [
  {
   "cell_type": "markdown",
   "metadata": {},
   "source": [
    "Testear el no. de unidades del output de este script con el no. de unidades de los cierres."
   ]
  },
  {
   "cell_type": "markdown",
   "metadata": {},
   "source": [
    "# Libraries"
   ]
  },
  {
   "cell_type": "code",
   "execution_count": 1,
   "metadata": {},
   "outputs": [],
   "source": [
    "from datetime import datetime\n",
    "import pandas as pd\n",
    "import calendar\n",
    "import locale\n",
    "#locale.setlocale(locale.LC_TIME, 'es_ES.UTF-8')\n",
    "import pyodbc\n",
    "\n",
    "pd.io.formats.excel.ExcelFormatter.header_style = None"
   ]
  },
  {
   "cell_type": "markdown",
   "metadata": {},
   "source": [
    "# Parameters"
   ]
  },
  {
   "cell_type": "code",
   "execution_count": 2,
   "metadata": {},
   "outputs": [],
   "source": [
    "year = 2021\n",
    "week = 31\n",
    "\n",
    "path = r'\\\\NASPRO.infovisiontv.com\\DWH01\\Cognos\\Genomma lab Colombia\\Informacion de punto de venta\\Archivos de carga\\UNIDROGAS\\{0}\\S {1}'\n",
    "filename_stock = 'INVENTARIO GENOMMA 2 AGOSTO 2021.xlsx'\n",
    "filename_sales_units = 'VENTA DISTRIBUCION EN UNIDADES GENOMMA DEL 27 AL 2 AGOSTO 2021.xlsx'\n",
    "\n",
    "path_prices = r'C:\\Users\\jshernandezm\\OneDrive - genommalabinternacional\\01Code\\02PriceUpdate\\COL\\1Data\\2Catalogue\\1Current\\Precios'\n",
    "filename_prices = '\\\\Catalogo_Precios-202108.xlsx'"
   ]
  },
  {
   "cell_type": "markdown",
   "metadata": {},
   "source": [
    "# Import data"
   ]
  },
  {
   "cell_type": "code",
   "execution_count": 3,
   "metadata": {},
   "outputs": [],
   "source": [
    "# Ignore rows with no data\n",
    "def get_data(data, column):\n",
    "    df = data.copy()\n",
    "    not_null = df[df[column].notnull()].index.min()\n",
    "    df.columns = df.loc[not_null].tolist()\n",
    "    df = df[not_null + 1:].copy()\n",
    "    df.dropna(axis=0, inplace=True)\n",
    "    df.reset_index(drop=True, inplace=True)\n",
    "    return df"
   ]
  },
  {
   "cell_type": "code",
   "execution_count": 4,
   "metadata": {},
   "outputs": [],
   "source": [
    "df_stock = pd.read_excel(path.format(year, week) + '\\\\' + filename_stock)\n",
    "df_stock = get_data(df_stock, 'Unnamed: 6')"
   ]
  },
  {
   "cell_type": "code",
   "execution_count": 5,
   "metadata": {},
   "outputs": [],
   "source": [
    "# Connection to DWH\n",
    "conx = pyodbc.connect('Driver={SQL Server};'\n",
    "                      'Server=SFEDWH01;'\n",
    "                      'Database=Gnm_DWH;'\n",
    "                      'Trusted_Connection=yes;')"
   ]
  },
  {
   "cell_type": "code",
   "execution_count": 6,
   "metadata": {},
   "outputs": [
    {
     "data": {
      "text/plain": [
       "(7, 2)"
      ]
     },
     "execution_count": 6,
     "metadata": {},
     "output_type": "execute_result"
    }
   ],
   "source": [
    "# Data dates from DWH\n",
    "query_dates = 'SELECT TmpFecha, TmpSemanaAnioGenomma FROM Gnm_DWH.dbo.Dim_Tiempo WHERE TmpAnioSemanaGenomma = {0} AND TmpSemanaAnioGenomma = {1}'\n",
    "df_weeksGL = pd.read_sql(query_dates.format(year, week), conx)\n",
    "# Data weeks from DWH\n",
    "df_weeksGL.rename({'TmpFecha':'Fecha', 'TmpSemanaAnioGenomma':'Semana'}, axis=1, inplace=True)\n",
    "df_weeksGL.shape"
   ]
  },
  {
   "cell_type": "markdown",
   "metadata": {},
   "source": [
    "# Transform"
   ]
  },
  {
   "cell_type": "code",
   "execution_count": 7,
   "metadata": {},
   "outputs": [],
   "source": [
    "# SucCod\n",
    "loc_inv = {'Inventario BQUILLA':1001, 'Inventario BOGOTA':1002, 'Inventario BMANGA':1003,\n",
    "           'Inventario MEDELLIN':1004, 'Inventario VDUPAR':1006, 'BARRANQUILLA':1001, 'BOGOTA':1002,\n",
    "           'BUCARAMANGA':1003, 'MEDELLIN':1004, 'VALLEDUPAR':1006, 'SANTAMARTA':1005}"
   ]
  },
  {
   "cell_type": "code",
   "execution_count": 8,
   "metadata": {},
   "outputs": [],
   "source": [
    "# month abbreviations\n",
    "month_abbr = [m.capitalize() for m in list(calendar.month_abbr)]\n",
    "nmonth_abbr = dict(zip(month_abbr, range(13)))"
   ]
  },
  {
   "cell_type": "code",
   "execution_count": 9,
   "metadata": {},
   "outputs": [],
   "source": [
    "# Clean dates and transform to datetime\n",
    "def clean_date(str_date):\n",
    "    year = int(str_date.split('/')[1])\n",
    "    month = nmonth_abbr[str_date[:3]]\n",
    "    day = int(str_date.split('/')[0][-2:])\n",
    "    return datetime(year, month, day)"
   ]
  },
  {
   "cell_type": "code",
   "execution_count": 10,
   "metadata": {},
   "outputs": [],
   "source": [
    "def clean_name_sku(name):\n",
    "    try:\n",
    "        return name.split('  COMERCIAL ')[0]\n",
    "    except:\n",
    "        return name"
   ]
  },
  {
   "cell_type": "code",
   "execution_count": 11,
   "metadata": {},
   "outputs": [],
   "source": [
    "# Merge between units sales & weeks GL\n",
    "def clean_join(sales_units, weeks_GL, city):\n",
    "    total_sales = sales_units[['Fecha', 'Sku', 'Ven Und']]\n",
    "    total_sales['Fecha'] = total_sales['Fecha'].map(clean_date)\n",
    "    total_sales = total_sales.merge(weeks_GL, on='Fecha', how='left')\n",
    "    final = total_sales.pivot_table(index=['Semana', 'Sku'], values=['Ven Und'], aggfunc='sum').reset_index()\n",
    "    final['Loc'] = city\n",
    "    return final[['Semana', 'Loc', 'Sku', 'Ven Und']]"
   ]
  },
  {
   "cell_type": "markdown",
   "metadata": {},
   "source": [
    "## Sales"
   ]
  },
  {
   "cell_type": "markdown",
   "metadata": {},
   "source": [
    "### Import all PDV"
   ]
  },
  {
   "cell_type": "code",
   "execution_count": 12,
   "metadata": {},
   "outputs": [
    {
     "name": "stdout",
     "output_type": "stream",
     "text": [
      "Wall time: 2.03 s\n"
     ]
    }
   ],
   "source": [
    "%%time\n",
    "# Import units sales and tranform data\n",
    "data_sales = pd.DataFrame()\n",
    "for city in ['BARRANQUILLA', 'BOGOTA', 'BUCARAMANGA', 'MEDELLIN', 'VALLEDUPAR']:\n",
    "    df_unit = pd.read_excel(path.format(year, week) + '\\\\' + filename_sales_units, sheet_name=city)\n",
    "    df_unit = get_data(df_unit, 'Unnamed: 7')\n",
    "    cols_unit = df_unit.columns    \n",
    "    data_unit = df_unit.melt(id_vars='Fecha', value_vars=cols_unit[1:], var_name='Sku', value_name='Ven Und')\n",
    "\n",
    "    data = clean_join(data_unit, df_weeksGL, city)\n",
    "    data_sales = pd.concat([data_sales, data], axis=0)\n",
    "# Create columns \"CodSuc\"\n",
    "data_sales['CodSuc'] = data_sales['Loc'].map(loc_inv)\n",
    "# Remove last whitespace from \"Sku\"\n",
    "data_sales['Sku'] = data_sales['Sku'].str.rstrip()\n",
    "# Remove CEDIS, this make match with the names of stocks\n",
    "data_sales['Sku'] = data_sales['Sku'].map(clean_name_sku)\n",
    "data_sales.reset_index(drop=True, inplace=True)"
   ]
  },
  {
   "cell_type": "code",
   "execution_count": 13,
   "metadata": {},
   "outputs": [
    {
     "data": {
      "text/plain": [
       "Semana     0\n",
       "Loc        0\n",
       "Sku        0\n",
       "Ven Und    0\n",
       "CodSuc     0\n",
       "dtype: int64"
      ]
     },
     "execution_count": 13,
     "metadata": {},
     "output_type": "execute_result"
    }
   ],
   "source": [
    "data_sales.isnull().sum()"
   ]
  },
  {
   "cell_type": "markdown",
   "metadata": {},
   "source": [
    "## Stock"
   ]
  },
  {
   "cell_type": "markdown",
   "metadata": {},
   "source": [
    "### Clean"
   ]
  },
  {
   "cell_type": "code",
   "execution_count": 14,
   "metadata": {},
   "outputs": [
    {
     "data": {
      "text/plain": [
       "Index(['Codigo', 'Nombre comercial', 'Laboratorio', 'Linea', 'Precio',\n",
       "       'Inventario BQUILLA', 'Inventario BOGOTA', 'Inventario BMANGA',\n",
       "       'Inventario MEDELLIN', 'Inventario STMARTA', 'Inventario VDUPAR'],\n",
       "      dtype='object')"
      ]
     },
     "execution_count": 14,
     "metadata": {},
     "output_type": "execute_result"
    }
   ],
   "source": [
    "df_stock.columns"
   ]
  },
  {
   "cell_type": "code",
   "execution_count": 15,
   "metadata": {},
   "outputs": [],
   "source": [
    "# Unpivoting\n",
    "data_stock = df_stock.melt(id_vars=['Codigo', 'Nombre comercial', 'Laboratorio', 'Linea', 'Precio'],\n",
    "                           value_vars=['Inventario BQUILLA', 'Inventario BOGOTA', 'Inventario BMANGA',\n",
    "                                       'Inventario MEDELLIN', 'Inventario STMARTA', 'Inventario VDUPAR'], \n",
    "                           var_name='Loc', value_name='Inv Und')"
   ]
  },
  {
   "cell_type": "code",
   "execution_count": 16,
   "metadata": {},
   "outputs": [
    {
     "data": {
      "text/plain": [
       "Codigo              0\n",
       "Nombre comercial    0\n",
       "Laboratorio         0\n",
       "Linea               0\n",
       "Precio              0\n",
       "Loc                 0\n",
       "Inv Und             0\n",
       "dtype: int64"
      ]
     },
     "execution_count": 16,
     "metadata": {},
     "output_type": "execute_result"
    }
   ],
   "source": [
    "data_stock.isnull().sum()"
   ]
  },
  {
   "cell_type": "code",
   "execution_count": 17,
   "metadata": {},
   "outputs": [],
   "source": [
    "# Create column \"CodSuc\"\n",
    "data_stock['CodSuc'] = data_stock['Loc'].map(loc_inv)\n",
    "# Remove STMARTA\n",
    "data_stock.dropna(axis=0, inplace=True)\n",
    "data_stock.reset_index(drop=True, inplace=True)\n",
    "# Create column \"CodSuc\"\n",
    "data_stock['CodSuc'] = data_stock['CodSuc'].map(int)"
   ]
  },
  {
   "cell_type": "code",
   "execution_count": 18,
   "metadata": {},
   "outputs": [
    {
     "data": {
      "text/plain": [
       "Codigo              0\n",
       "Nombre comercial    0\n",
       "Laboratorio         0\n",
       "Linea               0\n",
       "Precio              0\n",
       "Loc                 0\n",
       "Inv Und             0\n",
       "CodSuc              0\n",
       "dtype: int64"
      ]
     },
     "execution_count": 18,
     "metadata": {},
     "output_type": "execute_result"
    }
   ],
   "source": [
    "data_stock.isnull().sum()"
   ]
  },
  {
   "cell_type": "markdown",
   "metadata": {},
   "source": [
    "# Merge Sales & Stock"
   ]
  },
  {
   "cell_type": "code",
   "execution_count": 19,
   "metadata": {},
   "outputs": [],
   "source": [
    "# Create ID\n",
    "data_sales['ID'] = data_sales['CodSuc'].map(str) + data_sales['Sku'].map(str)\n",
    "data_stock['ID'] = data_stock['CodSuc'].map(str) + data_stock['Nombre comercial']"
   ]
  },
  {
   "cell_type": "code",
   "execution_count": 20,
   "metadata": {},
   "outputs": [
    {
     "data": {
      "text/plain": [
       "0"
      ]
     },
     "execution_count": 20,
     "metadata": {},
     "output_type": "execute_result"
    }
   ],
   "source": [
    "(data_sales['ID'].value_counts() > 1).sum()"
   ]
  },
  {
   "cell_type": "code",
   "execution_count": 21,
   "metadata": {},
   "outputs": [
    {
     "data": {
      "text/plain": [
       "0"
      ]
     },
     "execution_count": 21,
     "metadata": {},
     "output_type": "execute_result"
    }
   ],
   "source": [
    "(data_stock['ID'].value_counts() > 1).sum()"
   ]
  },
  {
   "cell_type": "code",
   "execution_count": 22,
   "metadata": {},
   "outputs": [],
   "source": [
    "# Merge\n",
    "sales_stock = pd.merge(data_sales, data_stock, on='ID', how='outer')"
   ]
  },
  {
   "cell_type": "code",
   "execution_count": 23,
   "metadata": {},
   "outputs": [],
   "source": [
    "# Clean some columns\n",
    "sales_stock['Semana'].fillna(value=data_sales['Semana'].unique()[0], inplace=True)\n",
    "sales_stock['Ven Und'].fillna(0, inplace=True)\n",
    "\n",
    "# Correction some skus\n",
    "skus_correct = {650240004650:650240007828, 650240004285:650240009563, \n",
    "                650240037474:650240037177, 6502400030840:650240030840, \n",
    "                65024002819988:650240038129, 6502400030840:650240030840}\n",
    "\n",
    "final = sales_stock[['Semana', 'Codigo', 'Nombre comercial', 'CodSuc_y', 'Ven Und', 'Inv Und']].copy()\n",
    "final['Codigo'] = final['Codigo'].map(int)\n",
    "final['Codigo'] = final['Codigo'].replace(skus_correct)\n",
    "\n",
    "# Remove skus DURACELL\n",
    "final = final[~final['Nombre comercial'].str.contains('DURA')].copy()\n",
    "final.reset_index(drop=True, inplace=True)"
   ]
  },
  {
   "cell_type": "code",
   "execution_count": 24,
   "metadata": {},
   "outputs": [],
   "source": [
    "# Filter and rename columns\n",
    "final['Semana'] = final['Semana'].map(int)\n",
    "final.rename({'Codigo':'EAN', 'CodSuc_y':'CodSuc', 'Nombre comercial':'Descripción'}, axis=1, inplace=True)\n",
    "\n",
    "final['Año'] = year"
   ]
  },
  {
   "cell_type": "code",
   "execution_count": 25,
   "metadata": {},
   "outputs": [],
   "source": [
    "df_prices = pd.read_excel(path_prices + filename_prices)\n",
    "\n",
    "data_prices = df_prices.loc[df_prices['Cliente']=='UNIDROGAS S.A.', ['EAN', 'LISTA']]\n",
    "\n",
    "data_final = final.merge(data_prices, on='EAN', how='left')\n",
    "\n",
    "data_final['LISTA'].fillna(1, inplace=True)"
   ]
  },
  {
   "cell_type": "code",
   "execution_count": 26,
   "metadata": {},
   "outputs": [],
   "source": [
    "data_final['Ven Monto'] = data_final['Ven Und']*data_final['LISTA']\n",
    "data_final['Inv Monto'] = data_final['Inv Und']*data_final['LISTA']"
   ]
  },
  {
   "cell_type": "code",
   "execution_count": 27,
   "metadata": {},
   "outputs": [],
   "source": [
    "filename = '{1}{0}_UNIDROGAS.xlsx'\n",
    "sheet_name = 'S{0}'.format(str(week).zfill(2))\n",
    "data_final[['Año', 'Semana', 'EAN', 'Descripción', 'CodSuc', 'Ven Und', 'Ven Monto', 'Inv Und', 'Inv Monto']].to_excel(path.format(year, week) + '\\\\' + filename.format(year, week), sheet_name=sheet_name, index=False)"
   ]
  },
  {
   "cell_type": "code",
   "execution_count": null,
   "metadata": {},
   "outputs": [],
   "source": []
  }
 ],
 "metadata": {
  "kernelspec": {
   "display_name": "Python 3.7.6 64-bit ('base': conda)",
   "language": "python",
   "name": "python37664bitbaseconda8f2870ef7b8b4a659a1cfb9279b52c39"
  },
  "language_info": {
   "codemirror_mode": {
    "name": "ipython",
    "version": 3
   },
   "file_extension": ".py",
   "mimetype": "text/x-python",
   "name": "python",
   "nbconvert_exporter": "python",
   "pygments_lexer": "ipython3",
   "version": "3.8.10"
  },
  "toc": {
   "base_numbering": 1,
   "nav_menu": {},
   "number_sections": true,
   "sideBar": true,
   "skip_h1_title": false,
   "title_cell": "Table of Contents",
   "title_sidebar": "Contents",
   "toc_cell": false,
   "toc_position": {},
   "toc_section_display": true,
   "toc_window_display": false
  }
 },
 "nbformat": 4,
 "nbformat_minor": 4
}
