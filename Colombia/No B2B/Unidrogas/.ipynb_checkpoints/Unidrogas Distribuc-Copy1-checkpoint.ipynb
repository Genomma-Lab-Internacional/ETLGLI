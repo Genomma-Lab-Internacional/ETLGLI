{
 "cells": [
  {
   "cell_type": "markdown",
   "metadata": {},
   "source": [
    "# Libraries"
   ]
  },
  {
   "cell_type": "code",
   "execution_count": 1,
   "metadata": {},
   "outputs": [],
   "source": [
    "from datetime import datetime\n",
    "import pandas as pd\n",
    "import calendar\n",
    "import locale\n",
    "#locale.setlocale(locale.LC_TIME, 'es_ES.UTF-8')\n",
    "import pyodbc\n",
    "\n",
    "pd.io.formats.excel.ExcelFormatter.header_style = None"
   ]
  },
  {
   "cell_type": "markdown",
   "metadata": {},
   "source": [
    "# Parameters"
   ]
  },
  {
   "cell_type": "code",
   "execution_count": 2,
   "metadata": {},
   "outputs": [],
   "source": [
    "year = 2021\n",
    "week = 33\n",
    "\n",
    "path = r'\\\\NASPRO.infovisiontv.com\\DWH01\\Cognos\\Genomma lab Colombia\\Informacion de punto de venta\\Archivos de carga\\UNIDROGAS\\{0}\\S {1}'\n",
    "path_prices = r'C:\\Users\\jshernandezm\\OneDrive - genommalabinternacional\\01Code\\02PriceUpdate\\COL\\1Data\\2Catalogue\\1Current\\Precios'\n",
    "\n",
    "filename_stock = 'INVENTARIO GENOMMA 18 AGOSTO 2021.xlsx'\n",
    "filename_sales_amount = 'VENTA DISTRIBUCION GENOMMA DEL 09 AL 15 AGOSTO 2021.xlsx'\n",
    "filename_sales_units = 'VENTA DISTRIBUCION EN UNIDADES GENOMMA DEL 09 AL 15 AGOSTO 2021.xlsx'\n",
    "\n",
    "filename_prices = '\\\\Catalogo_Precios-202108.xlsx'"
   ]
  },
  {
   "cell_type": "markdown",
   "metadata": {},
   "source": [
    "# Import data"
   ]
  },
  {
   "cell_type": "code",
   "execution_count": 3,
   "metadata": {},
   "outputs": [],
   "source": [
    "# Ignore rows with no data\n",
    "def get_data(data, column):\n",
    "    df = data.copy()\n",
    "    not_null = df[df[column].notnull()].index.min()\n",
    "    df.columns = df.loc[not_null].tolist()\n",
    "    df = df[not_null + 1:].copy()\n",
    "    df.dropna(axis=0, inplace=True)\n",
    "    df.reset_index(drop=True, inplace=True)\n",
    "    return df"
   ]
  },
  {
   "cell_type": "code",
   "execution_count": 4,
   "metadata": {},
   "outputs": [],
   "source": [
    "df_stock = pd.read_excel(path.format(year, week) + '\\\\' + filename_stock)\n",
    "df_stock = get_data(df_stock, 'Unnamed: 6')\n",
    "#df_unit = pd.read_excel(path.format(year, week) + '\\\\' + filename_sales_units, sheet_name='BUCARAMANGA')\n",
    "#df_amount = pd.read_excel(path.format(year, week) + '\\\\' + filename_sales_amount, sheet_name='BUCARAMANGA')"
   ]
  },
  {
   "cell_type": "code",
   "execution_count": 5,
   "metadata": {},
   "outputs": [],
   "source": [
    "# Connection to DWH\n",
    "conx = pyodbc.connect('Driver={SQL Server};'\n",
    "                      'Server=SFEDWH01;'\n",
    "                      'Database=Gnm_DWH;'\n",
    "                      'Trusted_Connection=yes;')"
   ]
  },
  {
   "cell_type": "code",
   "execution_count": 6,
   "metadata": {},
   "outputs": [
    {
     "data": {
      "text/plain": [
       "(7, 2)"
      ]
     },
     "execution_count": 6,
     "metadata": {},
     "output_type": "execute_result"
    }
   ],
   "source": [
    "# Data dates from DWH\n",
    "query_dates = 'SELECT TmpFecha, TmpSemanaAnioGenomma FROM Gnm_DWH.dbo.Dim_Tiempo WHERE TmpAnioSemanaGenomma = {0} AND TmpSemanaAnioGenomma = {1}'\n",
    "df_weeksGL = pd.read_sql(query_dates.format(year, week), conx)\n",
    "# Data weeks from DWH\n",
    "df_weeksGL.rename({'TmpFecha':'Fecha', 'TmpSemanaAnioGenomma':'Semana'}, axis=1, inplace=True)\n",
    "df_weeksGL.shape"
   ]
  },
  {
   "cell_type": "markdown",
   "metadata": {},
   "source": [
    "# Transform"
   ]
  },
  {
   "cell_type": "code",
   "execution_count": 7,
   "metadata": {},
   "outputs": [],
   "source": [
    "# SucCod\n",
    "loc_inv = {'Inventario BQUILLA':1001, 'Inventario BOGOTA':1002, 'Inventario BMANGA':1003,\n",
    "           'Inventario MEDELLIN':1004, 'Inventario VDUPAR':1006, 'BARRANQUILLA':1001, 'BOGOTA':1002,\n",
    "           'BUCARAMANGA':1003, 'MEDELLIN':1004, 'VALLEDUPAR':1006, 'SANTAMARTA':1005}"
   ]
  },
  {
   "cell_type": "code",
   "execution_count": 8,
   "metadata": {},
   "outputs": [],
   "source": [
    "# month abbreviations\n",
    "month_abbr = [m.capitalize() for m in list(calendar.month_abbr)]\n",
    "nmonth_abbr = dict(zip(month_abbr, range(13)))"
   ]
  },
  {
   "cell_type": "code",
   "execution_count": 9,
   "metadata": {},
   "outputs": [],
   "source": [
    "# Clean dates and transform to datetime\n",
    "def clean_date(str_date):\n",
    "    year = int(str_date.split('/')[1])\n",
    "    month = nmonth_abbr[str_date[:3]]\n",
    "    day = int(str_date.split('/')[0][-2:])\n",
    "    return datetime(year, month, day)"
   ]
  },
  {
   "cell_type": "code",
   "execution_count": 10,
   "metadata": {},
   "outputs": [],
   "source": [
    "def clean_name_sku(name):\n",
    "    try:\n",
    "        return name.split('  COMERCIAL ')[0]\n",
    "    except:\n",
    "        return name"
   ]
  },
  {
   "cell_type": "code",
   "execution_count": 11,
   "metadata": {},
   "outputs": [],
   "source": [
    "# Merge between units sales & amount sales\n",
    "def clean_join(sales_units, sales_amount, weeks_GL, city):\n",
    "    sales_units['ID'] = sales_units['Fecha'] + sales_units['Sku']\n",
    "    sales_amount['ID'] = sales_amount['Fecha'] + sales_amount['Sku']\n",
    "    total_sales = sales_units.merge(sales_amount[['ID', 'Ven Monto']], on='ID', how='outer')[['Fecha', 'Sku', 'Ven Und', 'Ven Monto']]\n",
    "    total_sales['Fecha'] = total_sales['Fecha'].map(clean_date)\n",
    "    total_sales = total_sales.merge(weeks_GL, on='Fecha', how='left')\n",
    "    final = total_sales.pivot_table(index=['Semana', 'Sku'], values=['Ven Und', 'Ven Monto'], aggfunc='sum').reset_index()\n",
    "    final['Loc'] = city\n",
    "    return final[['Semana', 'Loc', 'Sku', 'Ven Und', 'Ven Monto']]"
   ]
  },
  {
   "cell_type": "markdown",
   "metadata": {},
   "source": [
    "## Sales"
   ]
  },
  {
   "cell_type": "markdown",
   "metadata": {},
   "source": [
    "### Import all PDV"
   ]
  },
  {
   "cell_type": "code",
   "execution_count": 12,
   "metadata": {},
   "outputs": [
    {
     "name": "stdout",
     "output_type": "stream",
     "text": [
      "Wall time: 4.02 s\n"
     ]
    }
   ],
   "source": [
    "%%time\n",
    "# Import units sales & amount sales and tranform data\n",
    "data_sales = pd.DataFrame()\n",
    "for city in ['BARRANQUILLA', 'BOGOTA', 'BUCARAMANGA', 'MEDELLIN', 'VALLEDUPAR']:\n",
    "    df_unit = pd.read_excel(path.format(year, week) + '\\\\' + filename_sales_units, sheet_name=city)\n",
    "    df_unit = get_data(df_unit, 'Unnamed: 7')\n",
    "    df_amount = pd.read_excel(path.format(year, week) + '\\\\' + filename_sales_amount, sheet_name=city)\n",
    "    df_amount = get_data(df_amount, 'Unnamed: 7')\n",
    "    cols_unit = df_unit.columns\n",
    "    cols_amount = df_amount.columns\n",
    "    data_unit = df_unit.melt(id_vars='Fecha', value_vars=cols_unit[1:], var_name='Sku', value_name='Ven Und')\n",
    "    data_amount = df_amount.melt(id_vars='Fecha', value_vars=cols_amount[1:], var_name='Sku', value_name='Ven Monto')\n",
    "    data = clean_join(data_unit, data_amount, df_weeksGL, city)\n",
    "    data_sales = pd.concat([data_sales, data], axis=0)\n",
    "# Create columns \"CodSuc\"\n",
    "data_sales['CodSuc'] = data_sales['Loc'].map(loc_inv)\n",
    "# Remove last whitespace from \"Sku\"\n",
    "data_sales['Sku'] = data_sales['Sku'].str.rstrip()\n",
    "# Remove CEDIS, this make match with the names of stocks\n",
    "data_sales['Sku'] = data_sales['Sku'].map(clean_name_sku)\n",
    "data_sales.reset_index(drop=True, inplace=True)"
   ]
  },
  {
   "cell_type": "code",
   "execution_count": 34,
   "metadata": {},
   "outputs": [
    {
     "data": {
      "text/html": [
       "<div>\n",
       "<style scoped>\n",
       "    .dataframe tbody tr th:only-of-type {\n",
       "        vertical-align: middle;\n",
       "    }\n",
       "\n",
       "    .dataframe tbody tr th {\n",
       "        vertical-align: top;\n",
       "    }\n",
       "\n",
       "    .dataframe thead th {\n",
       "        text-align: right;\n",
       "    }\n",
       "</style>\n",
       "<table border=\"1\" class=\"dataframe\">\n",
       "  <thead>\n",
       "    <tr style=\"text-align: right;\">\n",
       "      <th></th>\n",
       "      <th>Fecha</th>\n",
       "      <th>Sku</th>\n",
       "      <th>Ven Und</th>\n",
       "      <th>ID</th>\n",
       "    </tr>\n",
       "  </thead>\n",
       "  <tbody>\n",
       "    <tr>\n",
       "      <th>0</th>\n",
       "      <td>Aug 09/2021</td>\n",
       "      <td>LOMECAN V 2% CREMA VAGINAL TUBO X 20 GR (2) MA...</td>\n",
       "      <td>3</td>\n",
       "      <td>Aug 09/2021LOMECAN V 2% CREMA VAGINAL TUBO X 2...</td>\n",
       "    </tr>\n",
       "    <tr>\n",
       "      <th>1</th>\n",
       "      <td>Aug 10/2021</td>\n",
       "      <td>LOMECAN V 2% CREMA VAGINAL TUBO X 20 GR (2) MA...</td>\n",
       "      <td>1</td>\n",
       "      <td>Aug 10/2021LOMECAN V 2% CREMA VAGINAL TUBO X 2...</td>\n",
       "    </tr>\n",
       "    <tr>\n",
       "      <th>2</th>\n",
       "      <td>Aug 11/2021</td>\n",
       "      <td>LOMECAN V 2% CREMA VAGINAL TUBO X 20 GR (2) MA...</td>\n",
       "      <td>1</td>\n",
       "      <td>Aug 11/2021LOMECAN V 2% CREMA VAGINAL TUBO X 2...</td>\n",
       "    </tr>\n",
       "    <tr>\n",
       "      <th>3</th>\n",
       "      <td>Aug 12/2021</td>\n",
       "      <td>LOMECAN V 2% CREMA VAGINAL TUBO X 20 GR (2) MA...</td>\n",
       "      <td>0</td>\n",
       "      <td>Aug 12/2021LOMECAN V 2% CREMA VAGINAL TUBO X 2...</td>\n",
       "    </tr>\n",
       "    <tr>\n",
       "      <th>4</th>\n",
       "      <td>Aug 13/2021</td>\n",
       "      <td>LOMECAN V 2% CREMA VAGINAL TUBO X 20 GR (2) MA...</td>\n",
       "      <td>0</td>\n",
       "      <td>Aug 13/2021LOMECAN V 2% CREMA VAGINAL TUBO X 2...</td>\n",
       "    </tr>\n",
       "    <tr>\n",
       "      <th>...</th>\n",
       "      <td>...</td>\n",
       "      <td>...</td>\n",
       "      <td>...</td>\n",
       "      <td>...</td>\n",
       "    </tr>\n",
       "    <tr>\n",
       "      <th>107</th>\n",
       "      <td>Aug 11/2021</td>\n",
       "      <td>TUKOL-D SUSPENSION X 125 ML  COMERCIAL VALLEDUPAR</td>\n",
       "      <td>5</td>\n",
       "      <td>Aug 11/2021TUKOL-D SUSPENSION X 125 ML  COMERC...</td>\n",
       "    </tr>\n",
       "    <tr>\n",
       "      <th>108</th>\n",
       "      <td>Aug 12/2021</td>\n",
       "      <td>TUKOL-D SUSPENSION X 125 ML  COMERCIAL VALLEDUPAR</td>\n",
       "      <td>2</td>\n",
       "      <td>Aug 12/2021TUKOL-D SUSPENSION X 125 ML  COMERC...</td>\n",
       "    </tr>\n",
       "    <tr>\n",
       "      <th>109</th>\n",
       "      <td>Aug 13/2021</td>\n",
       "      <td>TUKOL-D SUSPENSION X 125 ML  COMERCIAL VALLEDUPAR</td>\n",
       "      <td>0</td>\n",
       "      <td>Aug 13/2021TUKOL-D SUSPENSION X 125 ML  COMERC...</td>\n",
       "    </tr>\n",
       "    <tr>\n",
       "      <th>110</th>\n",
       "      <td>Aug 14/2021</td>\n",
       "      <td>TUKOL-D SUSPENSION X 125 ML  COMERCIAL VALLEDUPAR</td>\n",
       "      <td>0</td>\n",
       "      <td>Aug 14/2021TUKOL-D SUSPENSION X 125 ML  COMERC...</td>\n",
       "    </tr>\n",
       "    <tr>\n",
       "      <th>111</th>\n",
       "      <td>Aug 15/2021</td>\n",
       "      <td>TUKOL-D SUSPENSION X 125 ML  COMERCIAL VALLEDUPAR</td>\n",
       "      <td>0</td>\n",
       "      <td>Aug 15/2021TUKOL-D SUSPENSION X 125 ML  COMERC...</td>\n",
       "    </tr>\n",
       "  </tbody>\n",
       "</table>\n",
       "<p>112 rows × 4 columns</p>\n",
       "</div>"
      ],
      "text/plain": [
       "           Fecha                                                Sku Ven Und  \\\n",
       "0    Aug 09/2021  LOMECAN V 2% CREMA VAGINAL TUBO X 20 GR (2) MA...       3   \n",
       "1    Aug 10/2021  LOMECAN V 2% CREMA VAGINAL TUBO X 20 GR (2) MA...       1   \n",
       "2    Aug 11/2021  LOMECAN V 2% CREMA VAGINAL TUBO X 20 GR (2) MA...       1   \n",
       "3    Aug 12/2021  LOMECAN V 2% CREMA VAGINAL TUBO X 20 GR (2) MA...       0   \n",
       "4    Aug 13/2021  LOMECAN V 2% CREMA VAGINAL TUBO X 20 GR (2) MA...       0   \n",
       "..           ...                                                ...     ...   \n",
       "107  Aug 11/2021  TUKOL-D SUSPENSION X 125 ML  COMERCIAL VALLEDUPAR       5   \n",
       "108  Aug 12/2021  TUKOL-D SUSPENSION X 125 ML  COMERCIAL VALLEDUPAR       2   \n",
       "109  Aug 13/2021  TUKOL-D SUSPENSION X 125 ML  COMERCIAL VALLEDUPAR       0   \n",
       "110  Aug 14/2021  TUKOL-D SUSPENSION X 125 ML  COMERCIAL VALLEDUPAR       0   \n",
       "111  Aug 15/2021  TUKOL-D SUSPENSION X 125 ML  COMERCIAL VALLEDUPAR       0   \n",
       "\n",
       "                                                    ID  \n",
       "0    Aug 09/2021LOMECAN V 2% CREMA VAGINAL TUBO X 2...  \n",
       "1    Aug 10/2021LOMECAN V 2% CREMA VAGINAL TUBO X 2...  \n",
       "2    Aug 11/2021LOMECAN V 2% CREMA VAGINAL TUBO X 2...  \n",
       "3    Aug 12/2021LOMECAN V 2% CREMA VAGINAL TUBO X 2...  \n",
       "4    Aug 13/2021LOMECAN V 2% CREMA VAGINAL TUBO X 2...  \n",
       "..                                                 ...  \n",
       "107  Aug 11/2021TUKOL-D SUSPENSION X 125 ML  COMERC...  \n",
       "108  Aug 12/2021TUKOL-D SUSPENSION X 125 ML  COMERC...  \n",
       "109  Aug 13/2021TUKOL-D SUSPENSION X 125 ML  COMERC...  \n",
       "110  Aug 14/2021TUKOL-D SUSPENSION X 125 ML  COMERC...  \n",
       "111  Aug 15/2021TUKOL-D SUSPENSION X 125 ML  COMERC...  \n",
       "\n",
       "[112 rows x 4 columns]"
      ]
     },
     "execution_count": 34,
     "metadata": {},
     "output_type": "execute_result"
    }
   ],
   "source": [
    "data_unit"
   ]
  },
  {
   "cell_type": "code",
   "execution_count": 13,
   "metadata": {},
   "outputs": [
    {
     "data": {
      "text/plain": [
       "Semana       0\n",
       "Loc          0\n",
       "Sku          0\n",
       "Ven Und      0\n",
       "Ven Monto    0\n",
       "CodSuc       0\n",
       "dtype: int64"
      ]
     },
     "execution_count": 13,
     "metadata": {},
     "output_type": "execute_result"
    }
   ],
   "source": [
    "data_sales.isnull().sum()"
   ]
  },
  {
   "cell_type": "markdown",
   "metadata": {},
   "source": [
    "## Stock"
   ]
  },
  {
   "cell_type": "markdown",
   "metadata": {},
   "source": [
    "### Clean"
   ]
  },
  {
   "cell_type": "code",
   "execution_count": 14,
   "metadata": {},
   "outputs": [
    {
     "data": {
      "text/plain": [
       "Index(['Codigo', 'Nombre comercial', 'Laboratorio', 'Linea', 'Precio',\n",
       "       'Inventario BQUILLA', 'Inventario BOGOTA', 'Inventario BMANGA',\n",
       "       'Inventario MEDELLIN', 'Inventario STMARTA', 'Inventario VDUPAR'],\n",
       "      dtype='object')"
      ]
     },
     "execution_count": 14,
     "metadata": {},
     "output_type": "execute_result"
    }
   ],
   "source": [
    "df_stock.columns"
   ]
  },
  {
   "cell_type": "code",
   "execution_count": 15,
   "metadata": {},
   "outputs": [],
   "source": [
    "# Unpivoting\n",
    "data_stock = df_stock.melt(id_vars=['Codigo', 'Nombre comercial', 'Laboratorio', 'Linea', 'Precio'],\n",
    "                           value_vars=['Inventario BQUILLA', 'Inventario BOGOTA', 'Inventario BMANGA',\n",
    "                                       'Inventario MEDELLIN', 'Inventario STMARTA', 'Inventario VDUPAR'], \n",
    "                           var_name='Loc', value_name='Inv Und')"
   ]
  },
  {
   "cell_type": "code",
   "execution_count": 16,
   "metadata": {},
   "outputs": [
    {
     "data": {
      "text/plain": [
       "Codigo              0\n",
       "Nombre comercial    0\n",
       "Laboratorio         0\n",
       "Linea               0\n",
       "Precio              0\n",
       "Loc                 0\n",
       "Inv Und             0\n",
       "dtype: int64"
      ]
     },
     "execution_count": 16,
     "metadata": {},
     "output_type": "execute_result"
    }
   ],
   "source": [
    "data_stock.isnull().sum()"
   ]
  },
  {
   "cell_type": "code",
   "execution_count": 17,
   "metadata": {},
   "outputs": [],
   "source": [
    "# Create column \"Inv Monto\"\n",
    "# data_stock['Inv Monto'] = data_stock['Inv Und']*data_stock['Precio']\n",
    "# Create column \"CodSuc\"\n",
    "data_stock['CodSuc'] = data_stock['Loc'].map(loc_inv)\n",
    "# Remove STMARTA\n",
    "data_stock.dropna(axis=0, inplace=True)\n",
    "data_stock.reset_index(drop=True, inplace=True)\n",
    "# Create column \"CodSuc\"\n",
    "data_stock['CodSuc'] = data_stock['CodSuc'].map(int)"
   ]
  },
  {
   "cell_type": "code",
   "execution_count": 18,
   "metadata": {},
   "outputs": [
    {
     "data": {
      "text/plain": [
       "Codigo              0\n",
       "Nombre comercial    0\n",
       "Laboratorio         0\n",
       "Linea               0\n",
       "Precio              0\n",
       "Loc                 0\n",
       "Inv Und             0\n",
       "Inv Monto           0\n",
       "CodSuc              0\n",
       "dtype: int64"
      ]
     },
     "execution_count": 18,
     "metadata": {},
     "output_type": "execute_result"
    }
   ],
   "source": [
    "data_stock.isnull().sum()"
   ]
  },
  {
   "cell_type": "markdown",
   "metadata": {},
   "source": [
    "# Merge Sales & Stock"
   ]
  },
  {
   "cell_type": "code",
   "execution_count": 19,
   "metadata": {},
   "outputs": [],
   "source": [
    "# Create ID\n",
    "data_sales['ID'] = data_sales['CodSuc'].map(str) + data_sales['Sku'].map(str)\n",
    "data_stock['ID'] = data_stock['CodSuc'].map(str) + data_stock['Nombre comercial']"
   ]
  },
  {
   "cell_type": "code",
   "execution_count": 20,
   "metadata": {},
   "outputs": [
    {
     "data": {
      "text/plain": [
       "0"
      ]
     },
     "execution_count": 20,
     "metadata": {},
     "output_type": "execute_result"
    }
   ],
   "source": [
    "(data_sales['ID'].value_counts() > 1).sum()"
   ]
  },
  {
   "cell_type": "code",
   "execution_count": 21,
   "metadata": {},
   "outputs": [
    {
     "data": {
      "text/plain": [
       "0"
      ]
     },
     "execution_count": 21,
     "metadata": {},
     "output_type": "execute_result"
    }
   ],
   "source": [
    "(data_stock['ID'].value_counts() > 1).sum()"
   ]
  },
  {
   "cell_type": "code",
   "execution_count": 22,
   "metadata": {},
   "outputs": [],
   "source": [
    "# Merge\n",
    "sales_stock = pd.merge(data_sales, data_stock, on='ID', how='outer')"
   ]
  },
  {
   "cell_type": "code",
   "execution_count": 25,
   "metadata": {},
   "outputs": [],
   "source": [
    "# Clean some columns\n",
    "sales_stock['Semana'].fillna(value=data_sales['Semana'].unique()[0], inplace=True)\n",
    "#sales_stock.loc[:, ['Ven Und', 'Ven Monto']] = sales_stock[['Ven Und', 'Ven Monto']].fillna(0, axis=1)\n",
    "\n",
    "# Correction some skus\n",
    "skus_correct = {650240004650:650240007828, 650240004285:650240009563, \n",
    "                650240037474:650240037177, 6502400030840:650240030840, \n",
    "                65024002819988:650240038129, 6502400030840:650240030840}\n",
    "\n",
    "final = sales_stock[['Semana', 'Codigo', 'Nombre comercial', 'CodSuc_y', 'Ven Und', 'Ven Monto', 'Inv Und', 'Inv Monto']].copy()\n",
    "final['Codigo'] = final['Codigo'].map(int)\n",
    "final['Codigo'] = final['Codigo'].replace(skus_correct)\n",
    "\n",
    "# Remove skus DURACELL\n",
    "final = final[~final['Nombre comercial'].str.contains('DURA')].copy()\n",
    "final.reset_index(drop=True, inplace=True)"
   ]
  },
  {
   "cell_type": "code",
   "execution_count": 27,
   "metadata": {},
   "outputs": [],
   "source": [
    "# Filter and rename columns\n",
    "final['Semana'] = final['Semana'].map(int)\n",
    "final.rename({'Codigo':'EAN', 'CodSuc_y':'CodSuc', 'Nombre comercial':'Descripción'}, axis=1, inplace=True)"
   ]
  },
  {
   "cell_type": "code",
   "execution_count": 28,
   "metadata": {},
   "outputs": [],
   "source": [
    "final['Año'] = year"
   ]
  },
  {
   "cell_type": "code",
   "execution_count": 29,
   "metadata": {},
   "outputs": [
    {
     "data": {
      "text/plain": [
       "5866.0"
      ]
     },
     "execution_count": 29,
     "metadata": {},
     "output_type": "execute_result"
    }
   ],
   "source": [
    "final['Ven Und'].sum()"
   ]
  },
  {
   "cell_type": "code",
   "execution_count": 30,
   "metadata": {},
   "outputs": [],
   "source": [
    "filename = '{1}{0}_UNIDROGAS.xlsx'\n",
    "sheet_name = 'S{0}'.format(str(week).zfill(2))\n",
    "final[['Año', 'Semana', 'EAN', 'Descripción', 'CodSuc', 'Ven Und', 'Ven Monto', 'Inv Und', 'Inv Monto']].to_excel(path.format(year, week) + '\\\\' + filename.format(year, week), sheet_name=sheet_name, index=False)"
   ]
  },
  {
   "cell_type": "code",
   "execution_count": null,
   "metadata": {},
   "outputs": [],
   "source": []
  }
 ],
 "metadata": {
  "kernelspec": {
   "display_name": "Python 3.7.6 64-bit ('base': conda)",
   "language": "python",
   "name": "python37664bitbaseconda8f2870ef7b8b4a659a1cfb9279b52c39"
  },
  "language_info": {
   "codemirror_mode": {
    "name": "ipython",
    "version": 3
   },
   "file_extension": ".py",
   "mimetype": "text/x-python",
   "name": "python",
   "nbconvert_exporter": "python",
   "pygments_lexer": "ipython3",
   "version": "3.8.10"
  },
  "toc": {
   "base_numbering": 1,
   "nav_menu": {},
   "number_sections": true,
   "sideBar": true,
   "skip_h1_title": false,
   "title_cell": "Table of Contents",
   "title_sidebar": "Contents",
   "toc_cell": false,
   "toc_position": {},
   "toc_section_display": true,
   "toc_window_display": true
  }
 },
 "nbformat": 4,
 "nbformat_minor": 4
}
