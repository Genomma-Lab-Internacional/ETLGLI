{
 "cells": [
  {
   "cell_type": "code",
   "execution_count": 1,
   "metadata": {},
   "outputs": [],
   "source": [
    "import os\n",
    "import pyodbc\n",
    "import pandas as pd\n",
    "from datetime import datetime\n",
    "from datetime import timedelta"
   ]
  },
  {
   "cell_type": "code",
   "execution_count": 2,
   "metadata": {},
   "outputs": [],
   "source": [
    "path = r\"C:\\Users\\jshernandezm\\genommalabinternacional\\Cristian Javier Sanchez Yepez - NoB2B\\Alkosto\"\n",
    "name_file_last_week = '\\\\reportesCKPRnewfilesINF_PROVEEDORESVDR0014997_20210401-20210425_20210426MER02-01.csv' \n",
    "name_file_accumulated = '\\\\reportesCKPRnewfilesINF_PROVEEDORESVDR0014997_20210401-20210430_20210501-01.csv'\n",
    "\n",
    "df_last = pd.read_csv(path + name_file_last_week, encoding='latin1')\n",
    "df_accum = pd.read_csv(path + name_file_accumulated, encoding='latin1')\n",
    "\n",
    "final_date = datetime.strptime(name_file_accumulated.split('_')[2].split('-')[1], '%Y%m%d')"
   ]
  },
  {
   "cell_type": "code",
   "execution_count": 3,
   "metadata": {},
   "outputs": [],
   "source": [
    "conn = pyodbc.connect('Driver={SQL Server};'\n",
    "                     'Server=SFEDWH01;'\n",
    "                     'Database=Gnm_DWH;'\n",
    "                     'Trusted_Connection=yes;')\n",
    "\n",
    "query_week = \"SELECT TmpSemanaAnioGenomma FROM Gnm_DWH.dbo.Dim_Tiempo WHERE TmpFecha = '{0}'\"\n",
    "\n",
    "week = pd.read_sql(query_week.format(final_date.strftime('%Y-%m-%d')), conn)"
   ]
  },
  {
   "cell_type": "code",
   "execution_count": 4,
   "metadata": {},
   "outputs": [],
   "source": [
    "def clean_columns(df):\n",
    "    data = df.copy()\n",
    "    try:\n",
    "        data['EAN'] = data['EAN'].apply(lambda x: int(x.replace('=','').replace('\"','')))\n",
    "    except:\n",
    "        pass\n",
    "    data['ID'] = data['UNIDAD NEGOCIO INVENTARIO'] + data['EAN'].astype(str)\n",
    "    return data"
   ]
  },
  {
   "cell_type": "code",
   "execution_count": 5,
   "metadata": {},
   "outputs": [],
   "source": [
    "def deaccumlute(last_week, accumulat, date, week):\n",
    "    last_week_trans = clean_columns(last_week)[['UNIDADES VENDIDAS', 'ID']]\n",
    "    accumulat_trans = clean_columns(accumulat)[['UNIDAD NEGOCIO INVENTARIO', 'EAN', 'DESCRIPCIÓN', 'INVENTARIO TOTAL', 'UNIDADES VENDIDAS', 'PRECIO + IVA', 'ID']]\n",
    "    join = accumulat_trans.merge(last_week_trans, on='ID', how='left')\n",
    "    join['UNIDADES VENDIDAS_y'].fillna(0, inplace=True)\n",
    "    join['Unidades'] = join['UNIDADES VENDIDAS_x'] - join['UNIDADES VENDIDAS_y']\n",
    "    join['Anio'] = date.year\n",
    "    join['Semana'] = week.loc[0].values[0]\n",
    "    join['Fecha Inicio'] = date - timedelta(days=6)\n",
    "    join['Fecha Fin'] = date\n",
    "    join['Cliente'] = 'Alkosto'\n",
    "    join.drop(['UNIDADES VENDIDAS_x', 'ID', 'UNIDADES VENDIDAS_y'], axis=1, inplace=True)\n",
    "    join.rename({'UNIDAD NEGOCIO INVENTARIO':'Cod_Local', 'DESCRIPCIÓN':'Descripcion_Prod', 'INVENTARIO TOTAL':'Inventario', 'PRECIO + IVA':'Precio + IVA'}, axis=1, inplace=True)\n",
    "    return join[['Anio', 'Semana', 'Fecha Inicio', 'Fecha Fin', 'Cliente', 'EAN', 'Descripcion_Prod', 'Cod_Local', 'Unidades', 'Inventario', 'Precio + IVA']]"
   ]
  },
  {
   "cell_type": "code",
   "execution_count": 6,
   "metadata": {},
   "outputs": [
    {
     "name": "stdout",
     "output_type": "stream",
     "text": [
      "Alkosto_2021_18.csv\n"
     ]
    }
   ],
   "source": [
    "final = deaccumlute(df_last, df_accum, final_date, week)\n",
    "file_name = 'Alkosto' + '_' + str(final_date.year) + '_' + str(week.loc[0].values[0]) + '.csv'\n",
    "print(file_name)\n",
    "final.to_csv(path + '\\\\Layout\\\\' + file_name , index=False)"
   ]
  },
  {
   "cell_type": "markdown",
   "metadata": {},
   "source": [
    "%time\n",
    "path = r\"C:\\Users\\jshernandezm\\genommalabinternacional\\Cristian Javier Sanchez Yepez - NoB2B\\Alkosto\"\n",
    "files = os.listdir(path)[2:7]\n",
    "for name_file_last_week, name_file_accumulated in zip(files[:4], files[1:]):\n",
    "    df_last = pd.read_csv(path + '\\\\' + name_file_last_week, encoding='latin1')\n",
    "    df_accum = pd.read_csv(path + '\\\\' + name_file_accumulated, encoding='latin1')\n",
    "    final_date = datetime.strptime(name_file_accumulated.split('_')[2].split('-')[1], '%Y%m%d')\n",
    "    week = pd.read_sql(query_week.format(final_date.strftime('%Y-%m-%d')), conn)\n",
    "    final = deaccumlute(df_last, df_accum, final_date, week)\n",
    "    file_name = 'Alkosto' + '_' + str(final_date.year) + '_' + str(week.loc[0].values[0]) + '.csv'\n",
    "    final.to_csv(path + '\\\\Layout\\\\' + file_name , index=False)\n",
    "    print(file_name, 'listones!')"
   ]
  },
  {
   "cell_type": "code",
   "execution_count": null,
   "metadata": {},
   "outputs": [],
   "source": []
  }
 ],
 "metadata": {
  "kernelspec": {
   "display_name": "Python 3.7.6 64-bit ('base': conda)",
   "language": "python",
   "name": "python37664bitbaseconda8f2870ef7b8b4a659a1cfb9279b52c39"
  },
  "language_info": {
   "codemirror_mode": {
    "name": "ipython",
    "version": 3
   },
   "file_extension": ".py",
   "mimetype": "text/x-python",
   "name": "python",
   "nbconvert_exporter": "python",
   "pygments_lexer": "ipython3",
   "version": "3.7.6"
  },
  "toc": {
   "base_numbering": 1,
   "nav_menu": {},
   "number_sections": true,
   "sideBar": true,
   "skip_h1_title": false,
   "title_cell": "Table of Contents",
   "title_sidebar": "Contents",
   "toc_cell": false,
   "toc_position": {},
   "toc_section_display": true,
   "toc_window_display": false
  }
 },
 "nbformat": 4,
 "nbformat_minor": 4
}
