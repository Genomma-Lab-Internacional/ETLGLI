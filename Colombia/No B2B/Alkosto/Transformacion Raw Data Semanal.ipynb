{
 "cells": [
  {
   "cell_type": "code",
   "execution_count": 1,
   "metadata": {},
   "outputs": [],
   "source": [
    "import pyodbc\n",
    "import pandas as pd\n",
    "from datetime import datetime\n",
    "from datetime import timedelta"
   ]
  },
  {
   "cell_type": "code",
   "execution_count": 2,
   "metadata": {},
   "outputs": [],
   "source": [
    "path = r\"C:\\Users\\jshernandezm\\genommalabinternacional\\Cristian Javier Sanchez Yepez - NoB2B\\Alkosto\"\n",
    "name_file = '\\\\reportesCKPRnewfilesINF_PROVEEDORESVDR0014997_20210401-20210404_20210405MER02-01.csv'\n",
    "\n",
    "date = datetime.strptime(name_file.split('_')[2].split('-')[1], '%Y%m%d')"
   ]
  },
  {
   "cell_type": "code",
   "execution_count": 3,
   "metadata": {},
   "outputs": [],
   "source": [
    "conn = pyodbc.connect('Driver={SQL Server};'\n",
    "                     'Server=SFEDWH01;'\n",
    "                     'Database=Gnm_DWH;'\n",
    "                     'Trusted_Connection=yes;')\n",
    "\n",
    "query_week = \"SELECT TmpSemanaAnioGenomma FROM Gnm_DWH.dbo.Dim_Tiempo WHERE TmpFecha = '{0}'\""
   ]
  },
  {
   "cell_type": "code",
   "execution_count": 4,
   "metadata": {},
   "outputs": [],
   "source": [
    "week = pd.read_sql(query_week.format(date.strftime('%Y-%m-%d')), conn)"
   ]
  },
  {
   "cell_type": "code",
   "execution_count": 5,
   "metadata": {},
   "outputs": [],
   "source": [
    "df = pd.read_csv(path + name_file, encoding='latin1')"
   ]
  },
  {
   "cell_type": "code",
   "execution_count": 6,
   "metadata": {},
   "outputs": [],
   "source": [
    "def clean_data(df, date, week):\n",
    "    data = df.copy()\n",
    "    data['EAN'] = data['EAN'].apply(lambda x: int(x.replace('=','').replace('\"','')))\n",
    "    data['Anio'] = date.year\n",
    "    data['Semana'] = week.loc[0].values[0]\n",
    "    data['Fecha Inicio'] = date - timedelta(days=6)\n",
    "    data['Fecha Fin'] = date\n",
    "    data['Cliente'] = 'Alkosto'\n",
    "    data.rename({'UNIDAD NEGOCIO INVENTARIO':'Cod_Local', 'DESCRIPCIÓN':'Descripcion_Prod', 'INVENTARIO TOTAL':'Inventario', 'UNIDADES VENDIDAS':'Unidades', 'PRECIO + IVA':'Precio + IVA'}, axis=1, inplace=True)\n",
    "    return data[['Anio', 'Semana', 'Fecha Inicio', 'Fecha Fin', 'Cliente', 'EAN', 'Descripcion_Prod', 'Cod_Local', 'Unidades', 'Inventario', 'Precio + IVA']]"
   ]
  },
  {
   "cell_type": "code",
   "execution_count": 7,
   "metadata": {},
   "outputs": [
    {
     "name": "stdout",
     "output_type": "stream",
     "text": [
      "Alkosto_2021_14.csv\n"
     ]
    }
   ],
   "source": [
    "final = clean_data(df, date, week)\n",
    "\n",
    "file_name = 'Alkosto' + '_' + str(date.year) + '_' + str(week.loc[0].values[0]) + '.csv'\n",
    "print(file_name)\n",
    "final.to_csv(path + '\\\\Layout\\\\' + file_name , index=False)"
   ]
  },
  {
   "cell_type": "markdown",
   "metadata": {},
   "source": [
    "--------------\n",
    "--------------\n",
    "--------------"
   ]
  },
  {
   "cell_type": "markdown",
   "metadata": {},
   "source": [
    "df = pd.DataFrame()\n",
    "for file in ['Alkosto_2021_14_abr.csv', 'Alkosto_2021_14_abr.csv']:\n",
    "    df = pd.concat([df, pd.read_csv(path + '\\\\Layout\\\\' + file)])\n",
    "\n",
    "data = df.pivot_table(index=['Anio', 'Semana', 'Fecha Inicio', 'Fecha Fin', 'Cliente', 'EAN', 'Descripcion_Prod', 'Cod_Local'], values=['Unidades', 'Inventario', 'Precio + IVA'], aggfunc='sum').reset_index()"
   ]
  },
  {
   "cell_type": "markdown",
   "metadata": {},
   "source": [
    "file_name = 'Alkosto' + '_' + str(date.year) + '_' + str(week.loc[0].values[0]) + '.csv'\n",
    "print(file_name)\n",
    "data.to_csv(path + '\\\\Layout\\\\' + file_name , index=False)"
   ]
  },
  {
   "cell_type": "code",
   "execution_count": null,
   "metadata": {},
   "outputs": [],
   "source": []
  }
 ],
 "metadata": {
  "kernelspec": {
   "display_name": "Python 3.7.6 64-bit ('base': conda)",
   "language": "python",
   "name": "python37664bitbaseconda8f2870ef7b8b4a659a1cfb9279b52c39"
  },
  "language_info": {
   "codemirror_mode": {
    "name": "ipython",
    "version": 3
   },
   "file_extension": ".py",
   "mimetype": "text/x-python",
   "name": "python",
   "nbconvert_exporter": "python",
   "pygments_lexer": "ipython3",
   "version": "3.7.6"
  },
  "toc": {
   "base_numbering": 1,
   "nav_menu": {},
   "number_sections": true,
   "sideBar": true,
   "skip_h1_title": false,
   "title_cell": "Table of Contents",
   "title_sidebar": "Contents",
   "toc_cell": false,
   "toc_position": {},
   "toc_section_display": true,
   "toc_window_display": false
  }
 },
 "nbformat": 4,
 "nbformat_minor": 4
}
