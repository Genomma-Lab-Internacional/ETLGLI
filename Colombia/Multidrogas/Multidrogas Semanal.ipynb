{
 "cells": [
  {
   "cell_type": "markdown",
   "metadata": {},
   "source": [
    "# Libraries"
   ]
  },
  {
   "cell_type": "code",
   "execution_count": 1,
   "metadata": {},
   "outputs": [],
   "source": [
    "from openpyxl import load_workbook\n",
    "import pandas as pd\n",
    "import os"
   ]
  },
  {
   "cell_type": "markdown",
   "metadata": {},
   "source": [
    "# Params"
   ]
  },
  {
   "cell_type": "code",
   "execution_count": 2,
   "metadata": {},
   "outputs": [
    {
     "name": "stdout",
     "output_type": "stream",
     "text": [
      "Wall time: 197 ms\n"
     ]
    }
   ],
   "source": [
    "%%time\n",
    "week = '11'\n",
    "anio = 2021\n",
    "path = '../../../../../../../02Paises/Colombia/MULTIDROGAS/2021/03 Marzo/S' + week\n",
    "filename = '/2021_' + week + '_Multidrogas.xlsx'\n",
    "\n",
    "wb = load_workbook(path + filename)"
   ]
  },
  {
   "cell_type": "markdown",
   "metadata": {},
   "source": [
    "# Import data"
   ]
  },
  {
   "cell_type": "markdown",
   "metadata": {},
   "source": [
    "## Stock"
   ]
  },
  {
   "cell_type": "markdown",
   "metadata": {},
   "source": [
    "Carga de ambas hojas de ineventario"
   ]
  },
  {
   "cell_type": "code",
   "execution_count": 3,
   "metadata": {},
   "outputs": [
    {
     "data": {
      "text/plain": [
       "(333, 8)"
      ]
     },
     "execution_count": 3,
     "metadata": {},
     "output_type": "execute_result"
    }
   ],
   "source": [
    "df_stock = pd.DataFrame()\n",
    "for sheet_stock in [s for s in wb.sheetnames if s.lower().startswith('inv')]:\n",
    "    if 'car' in sheet_stock.lower():\n",
    "        df_aux = pd.read_excel(path + filename, sheet_name=sheet_stock)\n",
    "        df_aux['CodSuc'] = 1001\n",
    "    elif 'mon' in sheet_stock.lower():\n",
    "        df_aux = pd.read_excel(path + filename, sheet_name=sheet_stock)\n",
    "        df_aux['CodSuc'] = 1003\n",
    "    else:\n",
    "        print('Sheet not found!')\n",
    "        break\n",
    "    df_stock = pd.concat([df_stock, df_aux], axis=0)\n",
    "df_stock.shape"
   ]
  },
  {
   "cell_type": "markdown",
   "metadata": {},
   "source": [
    "## Sell Out"
   ]
  },
  {
   "cell_type": "markdown",
   "metadata": {},
   "source": [
    "Carga de ambas hojas de ventas"
   ]
  },
  {
   "cell_type": "code",
   "execution_count": 4,
   "metadata": {},
   "outputs": [
    {
     "data": {
      "text/plain": [
       "(819, 15)"
      ]
     },
     "execution_count": 4,
     "metadata": {},
     "output_type": "execute_result"
    }
   ],
   "source": [
    "df_sellout = pd.DataFrame()\n",
    "for sheet_so in [s for s in wb.sheetnames if s.lower().startswith('rot')]:\n",
    "    if 'car' in sheet_so.lower():\n",
    "        df_aux = pd.read_excel(path + filename, sheet_name=sheet_so)\n",
    "        df_aux['CodSuc'] = 1001\n",
    "    elif 'mon' in sheet_so.lower():\n",
    "        df_aux = pd.read_excel(path + filename, sheet_name=sheet_so)\n",
    "        df_aux['CodSuc'] = 1003\n",
    "    else:\n",
    "        print('Sheet not found!')\n",
    "        break\n",
    "    df_sellout = pd.concat([df_sellout, df_aux], axis=0)\n",
    "df_sellout.shape"
   ]
  },
  {
   "cell_type": "markdown",
   "metadata": {},
   "source": [
    "# Transformation"
   ]
  },
  {
   "cell_type": "markdown",
   "metadata": {},
   "source": [
    "Se filtran las columnas de interés:"
   ]
  },
  {
   "cell_type": "code",
   "execution_count": 5,
   "metadata": {},
   "outputs": [],
   "source": [
    "stock_filt = df_stock.pivot_table(index=['Material', 'Texto breve de material', 'CodSuc'], values=['Libre utilización'], aggfunc='sum').reset_index()\n",
    "\n",
    "sellout_filt = df_sellout.pivot_table(index=['Material', 'Denominación', 'CodSuc'], values=['Ctd.facturada'], aggfunc='sum').reset_index()"
   ]
  },
  {
   "cell_type": "markdown",
   "metadata": {},
   "source": [
    "Se crea la columna ID y se cruzan los datos:"
   ]
  },
  {
   "cell_type": "code",
   "execution_count": 6,
   "metadata": {},
   "outputs": [],
   "source": [
    "stock_filt['ID'] = stock_filt['Material'].astype(str) + stock_filt['CodSuc'].astype(str)\n",
    "sellout_filt['ID'] = sellout_filt['Material'].astype(str) + sellout_filt['CodSuc'].astype(str)\n",
    "\n",
    "so_stock = pd.merge(sellout_filt, stock_filt, on='ID', how='outer')"
   ]
  },
  {
   "cell_type": "code",
   "execution_count": 7,
   "metadata": {},
   "outputs": [
    {
     "name": "stdout",
     "output_type": "stream",
     "text": [
      "33238 2282\n"
     ]
    }
   ],
   "source": [
    "print(stock_filt['Libre utilización'].sum(), sellout_filt['Ctd.facturada'].sum())"
   ]
  },
  {
   "cell_type": "markdown",
   "metadata": {},
   "source": [
    "Función para \"rellenar\" el valor entre 2 columnas:"
   ]
  },
  {
   "cell_type": "code",
   "execution_count": 8,
   "metadata": {},
   "outputs": [],
   "source": [
    "def fill_value(first_value, second_value, value_replace=0):\n",
    "    '''\n",
    "    first_value: value to check if it's null.\n",
    "    first_value: value to check if it's null.\n",
    "    value_replace: if both values are null, we'll fill them with value of value_replace.\n",
    "    '''\n",
    "    if pd.isnull(first_value):\n",
    "        return second_value\n",
    "    elif pd.isnull(second_value):\n",
    "        return first_value\n",
    "    elif pd.notnull(first_value):\n",
    "        return first_value\n",
    "    else:\n",
    "        return value_replace"
   ]
  },
  {
   "cell_type": "markdown",
   "metadata": {},
   "source": [
    "Limpieza y creación de columnas:"
   ]
  },
  {
   "cell_type": "code",
   "execution_count": 9,
   "metadata": {},
   "outputs": [
    {
     "name": "stdout",
     "output_type": "stream",
     "text": [
      "Wall time: 42.1 ms\n"
     ]
    }
   ],
   "source": [
    "%%time\n",
    "so_stock['cod sku Cliente'] = so_stock['Material_y'].combine(so_stock['Material_x'], fill_value)\n",
    "so_stock['CodSuc'] = so_stock['CodSuc_y'].combine(so_stock['CodSuc_x'], fill_value)\n",
    "\n",
    "#so_stock['nombre SKU'] = so_stock['Denominación'].combine(so_stock['Texto breve de material'], fill_value)\n",
    "so_stock['nombre SKU'] = so_stock['Texto breve de material'].combine(so_stock['Denominación'], fill_value)\n",
    "so_stock['AÑO'] = anio\n",
    "so_stock['Sucursal'] = so_stock['CodSuc'].map({1001:'Cartagena', 1003:'Monteria'})\n",
    "so_stock['Ven Und'] = so_stock['Ctd.facturada']\n",
    "so_stock['Ven Und'].fillna(0, inplace=True)\n",
    "so_stock['Inv Und'] = so_stock['Libre utilización']\n",
    "so_stock['Inv Und'].fillna(0, inplace=True)\n",
    "so_stock['SEMANA'] = int(week)\n",
    "so_stock['Nit'] = 823000097\n",
    "so_stock['Cliente'] = 'Multidrogas'\n",
    "so_stock['Canal'] = 'Mayoristas'\n",
    "so_stock['Cod Sap'] = 0\n",
    "so_stock['ProPstID'] = 0\n",
    "so_stock['Precio'] = 0\n",
    "so_stock['cod sku Cliente'] = so_stock['cod sku Cliente'].astype(str)\n",
    "\n",
    "so_stock.drop(['Material_x', 'Material_y', 'CodSuc_x', 'CodSuc_y', 'Ctd.facturada', 'Libre utilización', 'ID', 'Denominación', 'Texto breve de material'], axis=1, inplace=True)\n",
    "\n",
    "#so_stock.rename({'Año':'AÑO', 'Material':'cod sku Cliente'}, axis=1, inplace=True)"
   ]
  },
  {
   "cell_type": "code",
   "execution_count": 10,
   "metadata": {},
   "outputs": [
    {
     "data": {
      "text/plain": [
       "cod sku Cliente    0\n",
       "CodSuc             0\n",
       "nombre SKU         0\n",
       "AÑO                0\n",
       "Sucursal           0\n",
       "Ven Und            0\n",
       "Inv Und            0\n",
       "SEMANA             0\n",
       "Nit                0\n",
       "Cliente            0\n",
       "Canal              0\n",
       "Cod Sap            0\n",
       "ProPstID           0\n",
       "Precio             0\n",
       "dtype: int64"
      ]
     },
     "execution_count": 10,
     "metadata": {},
     "output_type": "execute_result"
    }
   ],
   "source": [
    "so_stock.isnull().sum()"
   ]
  },
  {
   "cell_type": "code",
   "execution_count": 11,
   "metadata": {},
   "outputs": [],
   "source": [
    "so_stock = so_stock.pivot_table(index=['AÑO', 'SEMANA', 'Nit', 'Cliente', 'Canal', 'CodSuc', 'Sucursal', 'Cod Sap', 'cod sku Cliente', 'nombre SKU'], values=['Ven Und', 'Inv Und', 'ProPstID', 'Precio'], aggfunc='sum').reset_index()\n",
    "\n",
    "so_stock = so_stock[['AÑO', 'SEMANA', 'Nit', 'Cliente', 'Canal', 'CodSuc', 'Sucursal', 'Cod Sap', 'cod sku Cliente', 'nombre SKU', 'Ven Und', 'Inv Und', 'ProPstID', 'Precio']].copy()"
   ]
  },
  {
   "cell_type": "markdown",
   "metadata": {},
   "source": [
    "# Export"
   ]
  },
  {
   "cell_type": "markdown",
   "metadata": {},
   "source": [
    "Exportación de datos final"
   ]
  },
  {
   "cell_type": "markdown",
   "metadata": {},
   "source": [
    "so_stock.to_excel(path + '/MULTIDROGAS W2.xlsx', sheet_name='Sabana', index=False)"
   ]
  },
  {
   "cell_type": "code",
   "execution_count": null,
   "metadata": {},
   "outputs": [],
   "source": []
  }
 ],
 "metadata": {
  "kernelspec": {
   "display_name": "Python 3.7.6 64-bit ('base': conda)",
   "language": "python",
   "name": "python37664bitbaseconda8f2870ef7b8b4a659a1cfb9279b52c39"
  },
  "language_info": {
   "codemirror_mode": {
    "name": "ipython",
    "version": 3
   },
   "file_extension": ".py",
   "mimetype": "text/x-python",
   "name": "python",
   "nbconvert_exporter": "python",
   "pygments_lexer": "ipython3",
   "version": "3.7.6"
  },
  "toc": {
   "base_numbering": 1,
   "nav_menu": {},
   "number_sections": true,
   "sideBar": true,
   "skip_h1_title": false,
   "title_cell": "Table of Contents",
   "title_sidebar": "Contents",
   "toc_cell": false,
   "toc_position": {},
   "toc_section_display": true,
   "toc_window_display": false
  }
 },
 "nbformat": 4,
 "nbformat_minor": 4
}
