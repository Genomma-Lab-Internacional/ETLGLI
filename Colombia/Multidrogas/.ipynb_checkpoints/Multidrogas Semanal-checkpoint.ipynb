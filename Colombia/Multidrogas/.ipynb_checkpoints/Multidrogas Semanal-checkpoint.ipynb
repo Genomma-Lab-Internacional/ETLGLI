{
 "cells": [
  {
   "cell_type": "markdown",
   "metadata": {},
   "source": [
    "# Libraries"
   ]
  },
  {
   "cell_type": "code",
   "execution_count": 1,
   "metadata": {},
   "outputs": [],
   "source": [
    "from openpyxl import load_workbook\n",
    "import pandas as pd\n",
    "import os"
   ]
  },
  {
   "cell_type": "markdown",
   "metadata": {},
   "source": [
    "# Params"
   ]
  },
  {
   "cell_type": "code",
   "execution_count": 2,
   "metadata": {},
   "outputs": [
    {
     "name": "stdout",
     "output_type": "stream",
     "text": [
      "Wall time: 914 ms\n"
     ]
    }
   ],
   "source": [
    "%%time\n",
    "week = '12'\n",
    "path = '../../../../../../../02Paises/Colombia/MULTIDROGAS/2021/03 Marzo/S' + week\n",
    "filename = '/2021_' + week + '_Multidrogas.xlsx'\n",
    "\n",
    "wb = load_workbook(path + filename)"
   ]
  },
  {
   "cell_type": "markdown",
   "metadata": {},
   "source": [
    "# Import data"
   ]
  },
  {
   "cell_type": "markdown",
   "metadata": {},
   "source": [
    "## Stock"
   ]
  },
  {
   "cell_type": "code",
   "execution_count": 3,
   "metadata": {},
   "outputs": [
    {
     "data": {
      "text/plain": [
       "(3678, 15)"
      ]
     },
     "execution_count": 3,
     "metadata": {},
     "output_type": "execute_result"
    }
   ],
   "source": [
    "df_stock = pd.DataFrame()\n",
    "for sheet_stock in [s for s in wb.sheetnames if s.lower().startswith('rot')]:\n",
    "    if 'car' in sheet_stock.lower():\n",
    "        df_aux = pd.read_excel(path + filename, sheet_name=sheet_stock)\n",
    "        df_aux['CodSuc'] = 1001\n",
    "    elif 'mon' in sheet_stock.lower():\n",
    "        df_aux = pd.read_excel(path + filename, sheet_name=sheet_stock)\n",
    "        df_aux['CodSuc'] = 1003\n",
    "    else:\n",
    "        print('Sheet not found!')\n",
    "        break\n",
    "    df_stock = pd.concat([df_stock, df_aux], axis=0)\n",
    "df_stock.shape"
   ]
  },
  {
   "cell_type": "markdown",
   "metadata": {},
   "source": [
    "## Sell Out"
   ]
  },
  {
   "cell_type": "code",
   "execution_count": 4,
   "metadata": {},
   "outputs": [
    {
     "data": {
      "text/plain": [
       "(3678, 16)"
      ]
     },
     "execution_count": 4,
     "metadata": {},
     "output_type": "execute_result"
    }
   ],
   "source": [
    "df_sellout = pd.DataFrame()\n",
    "for sheet_so in [s for s in wb.sheetnames if s.lower().startswith('rot')]:\n",
    "    if 'car' in sheet_so.lower():\n",
    "        df_aux = pd.read_excel(path + filename, sheet_name=sheet_so)\n",
    "        df_aux['CodSuc'] = 1001\n",
    "        df_aux['Sucursal'] = 'Cartagena'\n",
    "    elif 'mon' in sheet_so.lower():\n",
    "        df_aux = pd.read_excel(path + filename, sheet_name=sheet_so)\n",
    "        df_aux['CodSuc'] = 1003\n",
    "        df_aux['Sucursal'] = 'Monteria'\n",
    "    else:\n",
    "        print('Sheet not found!')\n",
    "        break\n",
    "    df_sellout = pd.concat([df_sellout, df_aux], axis=0)\n",
    "df_sellout.shape"
   ]
  },
  {
   "cell_type": "markdown",
   "metadata": {},
   "source": [
    "# Transformation"
   ]
  },
  {
   "cell_type": "markdown",
   "metadata": {},
   "source": [
    "Se filtran las columnas de interés:"
   ]
  },
  {
   "cell_type": "code",
   "execution_count": 5,
   "metadata": {},
   "outputs": [],
   "source": [
    "stock_filt = df_stock[['Material', 'Ctd.facturada', 'CodSuc']].copy()\n",
    "\n",
    "sellout_filt = df_sellout[['Año', 'Material', 'Denominación', 'CodSuc', 'Sucursal', 'Ctd.facturada']].copy()"
   ]
  },
  {
   "cell_type": "code",
   "execution_count": 6,
   "metadata": {},
   "outputs": [],
   "source": [
    "stock_filt['ID'] = stock_filt['Material'].astype(str) + stock_filt['CodSuc'].astype(str)\n",
    "sellout_filt['ID'] = sellout_filt['Material'].astype(str) + sellout_filt['CodSuc'].astype(str)"
   ]
  },
  {
   "cell_type": "code",
   "execution_count": 7,
   "metadata": {},
   "outputs": [],
   "source": [
    "so_stock = pd.merge(sellout_filt, stock_filt, on='ID', how='outer')"
   ]
  },
  {
   "cell_type": "code",
   "execution_count": 8,
   "metadata": {},
   "outputs": [],
   "source": [
    "def fill_value(first_value, second_value, value_replace=0):\n",
    "    '''\n",
    "    first_value: value to check if it's null.\n",
    "    first_value: value to check if it's null.\n",
    "    value_replace: if both values are null, we'll fill them with value of value_replace.\n",
    "    '''\n",
    "    if pd.isnull(first_value):\n",
    "        return second_value\n",
    "    elif pd.isnull(second_value):\n",
    "        return first_value\n",
    "    elif pd.notnull(first_value):\n",
    "        return first_value\n",
    "    else:\n",
    "        return value_replace"
   ]
  },
  {
   "cell_type": "code",
   "execution_count": 9,
   "metadata": {},
   "outputs": [
    {
     "name": "stdout",
     "output_type": "stream",
     "text": [
      "Wall time: 46.7 s\n"
     ]
    }
   ],
   "source": [
    "%%time\n",
    "so_stock['Material'] = so_stock['Material_y'].combine(so_stock['Material_x'], fill_value)\n",
    "so_stock['CodSuc'] = so_stock['CodSuc_y'].combine(so_stock['CodSuc_x'], fill_value)"
   ]
  },
  {
   "cell_type": "code",
   "execution_count": 10,
   "metadata": {},
   "outputs": [],
   "source": [
    "so_stock['Ven Und'] = so_stock['Ctd.facturada_x']\n",
    "so_stock['Ven Und'].fillna(0, inplace=True)\n",
    "so_stock['Inv Und'] = so_stock['Ctd.facturada_y']\n",
    "so_stock['Inv Und'].fillna(0, inplace=True)\n",
    "so_stock['SEMANA'] = int(week)\n",
    "so_stock['Nit'] = 823000097\n",
    "so_stock['Cliente'] = 'Multidrogas'\n",
    "so_stock['Canal'] = 'Mayoristas'\n",
    "so_stock['Cod Sap'] = 0\n",
    "so_stock['ProPstID'] = 0\n",
    "so_stock['Precio'] = 0\n",
    "so_stock['Material'] = so_stock['Material'].astype(str)\n",
    "\n",
    "so_stock.drop(['Material_x', 'Material_y', 'CodSuc_x', 'CodSuc_y', 'Ctd.facturada_x', 'Ctd.facturada_y', 'ID'], axis=1, inplace=True)"
   ]
  },
  {
   "cell_type": "code",
   "execution_count": 12,
   "metadata": {},
   "outputs": [],
   "source": [
    "so_stock.rename({'Año':'AÑO', 'Material':'cod sku Cliente', 'Denominación':'nombre SKU'}, axis=1, inplace=True)"
   ]
  },
  {
   "cell_type": "code",
   "execution_count": 14,
   "metadata": {},
   "outputs": [
    {
     "data": {
      "text/html": [
       "<div>\n",
       "<style scoped>\n",
       "    .dataframe tbody tr th:only-of-type {\n",
       "        vertical-align: middle;\n",
       "    }\n",
       "\n",
       "    .dataframe tbody tr th {\n",
       "        vertical-align: top;\n",
       "    }\n",
       "\n",
       "    .dataframe thead th {\n",
       "        text-align: right;\n",
       "    }\n",
       "</style>\n",
       "<table border=\"1\" class=\"dataframe\">\n",
       "  <thead>\n",
       "    <tr style=\"text-align: right;\">\n",
       "      <th></th>\n",
       "      <th>AÑO</th>\n",
       "      <th>SEMANA</th>\n",
       "      <th>Nit</th>\n",
       "      <th>Cliente</th>\n",
       "      <th>Canal</th>\n",
       "      <th>CodSuc</th>\n",
       "      <th>Sucursal</th>\n",
       "      <th>Cod Sap</th>\n",
       "      <th>cod sku Cliente</th>\n",
       "      <th>nombre SKU</th>\n",
       "      <th>Ven Und</th>\n",
       "      <th>Inv Und</th>\n",
       "      <th>ProPstID</th>\n",
       "      <th>Precio</th>\n",
       "    </tr>\n",
       "  </thead>\n",
       "  <tbody>\n",
       "    <tr>\n",
       "      <th>0</th>\n",
       "      <td>2021</td>\n",
       "      <td>12</td>\n",
       "      <td>823000097</td>\n",
       "      <td>Multidrogas</td>\n",
       "      <td>Mayoristas</td>\n",
       "      <td>1001</td>\n",
       "      <td>Cartagena</td>\n",
       "      <td>0</td>\n",
       "      <td>1000015929</td>\n",
       "      <td>X RAY DOL X 48 CAPS -   GENOMMA(10)</td>\n",
       "      <td>30</td>\n",
       "      <td>30</td>\n",
       "      <td>0</td>\n",
       "      <td>0</td>\n",
       "    </tr>\n",
       "    <tr>\n",
       "      <th>1</th>\n",
       "      <td>2021</td>\n",
       "      <td>12</td>\n",
       "      <td>823000097</td>\n",
       "      <td>Multidrogas</td>\n",
       "      <td>Mayoristas</td>\n",
       "      <td>1001</td>\n",
       "      <td>Cartagena</td>\n",
       "      <td>0</td>\n",
       "      <td>1000015929</td>\n",
       "      <td>X RAY DOL X 48 CAPS -   GENOMMA(10)</td>\n",
       "      <td>30</td>\n",
       "      <td>1</td>\n",
       "      <td>0</td>\n",
       "      <td>0</td>\n",
       "    </tr>\n",
       "    <tr>\n",
       "      <th>2</th>\n",
       "      <td>2021</td>\n",
       "      <td>12</td>\n",
       "      <td>823000097</td>\n",
       "      <td>Multidrogas</td>\n",
       "      <td>Mayoristas</td>\n",
       "      <td>1001</td>\n",
       "      <td>Cartagena</td>\n",
       "      <td>0</td>\n",
       "      <td>1000015929</td>\n",
       "      <td>X RAY DOL X 48 CAPS -   GENOMMA(10)</td>\n",
       "      <td>30</td>\n",
       "      <td>6</td>\n",
       "      <td>0</td>\n",
       "      <td>0</td>\n",
       "    </tr>\n",
       "    <tr>\n",
       "      <th>3</th>\n",
       "      <td>2021</td>\n",
       "      <td>12</td>\n",
       "      <td>823000097</td>\n",
       "      <td>Multidrogas</td>\n",
       "      <td>Mayoristas</td>\n",
       "      <td>1001</td>\n",
       "      <td>Cartagena</td>\n",
       "      <td>0</td>\n",
       "      <td>1000015929</td>\n",
       "      <td>X RAY DOL X 48 CAPS -   GENOMMA(10)</td>\n",
       "      <td>30</td>\n",
       "      <td>1</td>\n",
       "      <td>0</td>\n",
       "      <td>0</td>\n",
       "    </tr>\n",
       "    <tr>\n",
       "      <th>4</th>\n",
       "      <td>2021</td>\n",
       "      <td>12</td>\n",
       "      <td>823000097</td>\n",
       "      <td>Multidrogas</td>\n",
       "      <td>Mayoristas</td>\n",
       "      <td>1001</td>\n",
       "      <td>Cartagena</td>\n",
       "      <td>0</td>\n",
       "      <td>1000015929</td>\n",
       "      <td>X RAY DOL X 48 CAPS -   GENOMMA(10)</td>\n",
       "      <td>30</td>\n",
       "      <td>1</td>\n",
       "      <td>0</td>\n",
       "      <td>0</td>\n",
       "    </tr>\n",
       "    <tr>\n",
       "      <th>...</th>\n",
       "      <td>...</td>\n",
       "      <td>...</td>\n",
       "      <td>...</td>\n",
       "      <td>...</td>\n",
       "      <td>...</td>\n",
       "      <td>...</td>\n",
       "      <td>...</td>\n",
       "      <td>...</td>\n",
       "      <td>...</td>\n",
       "      <td>...</td>\n",
       "      <td>...</td>\n",
       "      <td>...</td>\n",
       "      <td>...</td>\n",
       "      <td>...</td>\n",
       "    </tr>\n",
       "    <tr>\n",
       "      <th>300939</th>\n",
       "      <td>2021</td>\n",
       "      <td>12</td>\n",
       "      <td>823000097</td>\n",
       "      <td>Multidrogas</td>\n",
       "      <td>Mayoristas</td>\n",
       "      <td>1003</td>\n",
       "      <td>Monteria</td>\n",
       "      <td>0</td>\n",
       "      <td>1000004573</td>\n",
       "      <td>CHAMPU TIO NACHO ANTI-EDAD NUTRICIÓN Y B</td>\n",
       "      <td>1</td>\n",
       "      <td>1</td>\n",
       "      <td>0</td>\n",
       "      <td>0</td>\n",
       "    </tr>\n",
       "    <tr>\n",
       "      <th>300940</th>\n",
       "      <td>2021</td>\n",
       "      <td>12</td>\n",
       "      <td>823000097</td>\n",
       "      <td>Multidrogas</td>\n",
       "      <td>Mayoristas</td>\n",
       "      <td>1003</td>\n",
       "      <td>Monteria</td>\n",
       "      <td>0</td>\n",
       "      <td>1000004573</td>\n",
       "      <td>CHAMPU TIO NACHO ANTI-EDAD NUTRICIÓN Y B</td>\n",
       "      <td>1</td>\n",
       "      <td>24</td>\n",
       "      <td>0</td>\n",
       "      <td>0</td>\n",
       "    </tr>\n",
       "    <tr>\n",
       "      <th>300941</th>\n",
       "      <td>2021</td>\n",
       "      <td>12</td>\n",
       "      <td>823000097</td>\n",
       "      <td>Multidrogas</td>\n",
       "      <td>Mayoristas</td>\n",
       "      <td>1003</td>\n",
       "      <td>Monteria</td>\n",
       "      <td>0</td>\n",
       "      <td>1000004573</td>\n",
       "      <td>CHAMPU TIO NACHO ANTI-EDAD NUTRICIÓN Y B</td>\n",
       "      <td>24</td>\n",
       "      <td>1</td>\n",
       "      <td>0</td>\n",
       "      <td>0</td>\n",
       "    </tr>\n",
       "    <tr>\n",
       "      <th>300942</th>\n",
       "      <td>2021</td>\n",
       "      <td>12</td>\n",
       "      <td>823000097</td>\n",
       "      <td>Multidrogas</td>\n",
       "      <td>Mayoristas</td>\n",
       "      <td>1003</td>\n",
       "      <td>Monteria</td>\n",
       "      <td>0</td>\n",
       "      <td>1000004573</td>\n",
       "      <td>CHAMPU TIO NACHO ANTI-EDAD NUTRICIÓN Y B</td>\n",
       "      <td>24</td>\n",
       "      <td>24</td>\n",
       "      <td>0</td>\n",
       "      <td>0</td>\n",
       "    </tr>\n",
       "    <tr>\n",
       "      <th>300943</th>\n",
       "      <td>2021</td>\n",
       "      <td>12</td>\n",
       "      <td>823000097</td>\n",
       "      <td>Multidrogas</td>\n",
       "      <td>Mayoristas</td>\n",
       "      <td>1003</td>\n",
       "      <td>Monteria</td>\n",
       "      <td>0</td>\n",
       "      <td>1000024164</td>\n",
       "      <td>CICATRICURE SERUM ANTIMANCHAS X 32 GR -</td>\n",
       "      <td>1</td>\n",
       "      <td>1</td>\n",
       "      <td>0</td>\n",
       "      <td>0</td>\n",
       "    </tr>\n",
       "  </tbody>\n",
       "</table>\n",
       "<p>300944 rows × 14 columns</p>\n",
       "</div>"
      ],
      "text/plain": [
       "         AÑO  SEMANA        Nit      Cliente       Canal  CodSuc   Sucursal  \\\n",
       "0       2021      12  823000097  Multidrogas  Mayoristas    1001  Cartagena   \n",
       "1       2021      12  823000097  Multidrogas  Mayoristas    1001  Cartagena   \n",
       "2       2021      12  823000097  Multidrogas  Mayoristas    1001  Cartagena   \n",
       "3       2021      12  823000097  Multidrogas  Mayoristas    1001  Cartagena   \n",
       "4       2021      12  823000097  Multidrogas  Mayoristas    1001  Cartagena   \n",
       "...      ...     ...        ...          ...         ...     ...        ...   \n",
       "300939  2021      12  823000097  Multidrogas  Mayoristas    1003   Monteria   \n",
       "300940  2021      12  823000097  Multidrogas  Mayoristas    1003   Monteria   \n",
       "300941  2021      12  823000097  Multidrogas  Mayoristas    1003   Monteria   \n",
       "300942  2021      12  823000097  Multidrogas  Mayoristas    1003   Monteria   \n",
       "300943  2021      12  823000097  Multidrogas  Mayoristas    1003   Monteria   \n",
       "\n",
       "        Cod Sap cod sku Cliente                                nombre SKU  \\\n",
       "0             0      1000015929       X RAY DOL X 48 CAPS -   GENOMMA(10)   \n",
       "1             0      1000015929       X RAY DOL X 48 CAPS -   GENOMMA(10)   \n",
       "2             0      1000015929       X RAY DOL X 48 CAPS -   GENOMMA(10)   \n",
       "3             0      1000015929       X RAY DOL X 48 CAPS -   GENOMMA(10)   \n",
       "4             0      1000015929       X RAY DOL X 48 CAPS -   GENOMMA(10)   \n",
       "...         ...             ...                                       ...   \n",
       "300939        0      1000004573  CHAMPU TIO NACHO ANTI-EDAD NUTRICIÓN Y B   \n",
       "300940        0      1000004573  CHAMPU TIO NACHO ANTI-EDAD NUTRICIÓN Y B   \n",
       "300941        0      1000004573  CHAMPU TIO NACHO ANTI-EDAD NUTRICIÓN Y B   \n",
       "300942        0      1000004573  CHAMPU TIO NACHO ANTI-EDAD NUTRICIÓN Y B   \n",
       "300943        0      1000024164   CICATRICURE SERUM ANTIMANCHAS X 32 GR -   \n",
       "\n",
       "        Ven Und  Inv Und  ProPstID  Precio  \n",
       "0            30       30         0       0  \n",
       "1            30        1         0       0  \n",
       "2            30        6         0       0  \n",
       "3            30        1         0       0  \n",
       "4            30        1         0       0  \n",
       "...         ...      ...       ...     ...  \n",
       "300939        1        1         0       0  \n",
       "300940        1       24         0       0  \n",
       "300941       24        1         0       0  \n",
       "300942       24       24         0       0  \n",
       "300943        1        1         0       0  \n",
       "\n",
       "[300944 rows x 14 columns]"
      ]
     },
     "execution_count": 14,
     "metadata": {},
     "output_type": "execute_result"
    }
   ],
   "source": [
    "so_stock[['AÑO', 'SEMANA', 'Nit', 'Cliente', 'Canal', 'CodSuc', 'Sucursal', 'Cod Sap', 'cod sku Cliente', 'nombre SKU', 'Ven Und', 'Inv Und', 'ProPstID', 'Precio']]"
   ]
  },
  {
   "cell_type": "code",
   "execution_count": null,
   "metadata": {},
   "outputs": [],
   "source": []
  }
 ],
 "metadata": {
  "kernelspec": {
   "display_name": "Python 3.7.6 64-bit ('base': conda)",
   "language": "python",
   "name": "python37664bitbaseconda8f2870ef7b8b4a659a1cfb9279b52c39"
  },
  "language_info": {
   "codemirror_mode": {
    "name": "ipython",
    "version": 3
   },
   "file_extension": ".py",
   "mimetype": "text/x-python",
   "name": "python",
   "nbconvert_exporter": "python",
   "pygments_lexer": "ipython3",
   "version": "3.7.6"
  },
  "toc": {
   "base_numbering": 1,
   "nav_menu": {},
   "number_sections": true,
   "sideBar": true,
   "skip_h1_title": false,
   "title_cell": "Table of Contents",
   "title_sidebar": "Contents",
   "toc_cell": false,
   "toc_position": {},
   "toc_section_display": true,
   "toc_window_display": false
  }
 },
 "nbformat": 4,
 "nbformat_minor": 4
}
