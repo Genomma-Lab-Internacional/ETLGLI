{
 "cells": [
  {
   "cell_type": "markdown",
   "metadata": {},
   "source": [
    "# Libraries"
   ]
  },
  {
   "cell_type": "code",
   "execution_count": 1,
   "metadata": {},
   "outputs": [],
   "source": [
    "import pandas as pd\n",
    "import pyodbc\n",
    "import os\n",
    "from datetime import datetime\n",
    "from openpyxl import load_workbook\n",
    "import shutil"
   ]
  },
  {
   "cell_type": "markdown",
   "metadata": {},
   "source": [
    "# Import Data"
   ]
  },
  {
   "cell_type": "code",
   "execution_count": 2,
   "metadata": {},
   "outputs": [
    {
     "name": "stdout",
     "output_type": "stream",
     "text": [
      "Wall time: 13.9 s\n"
     ]
    }
   ],
   "source": [
    "%%time\n",
    "weeks = '03_06'\n",
    "path_so_st = '../../../../../../../genommalabinternacional/Cristian Javier Sanchez Yepez - NoB2B/Copservir/Copservir Faltante/consolidado_2021.xlsx'\n",
    "path_catal = '../../../../../../02Paises/Colombia/Copservir/'\n",
    "\n",
    "df = pd.read_excel(path_so_st, encoding='latin1')\n",
    "df_pos = pd.read_excel(path_catal + 'Maestra Locales Copservir.xlsx', encoding='latin1')\n",
    "df_prices = pd.read_excel(path_catal + 'Maestra Precios Copservir.xlsx',encoding='latin1')"
   ]
  },
  {
   "cell_type": "markdown",
   "metadata": {},
   "source": [
    "# Clean Data & Merge"
   ]
  },
  {
   "cell_type": "code",
   "execution_count": 3,
   "metadata": {},
   "outputs": [],
   "source": [
    "df.rename({'Código producto':'Cod_Hom'}, axis=1, inplace=True)\n",
    "\n",
    "df_pos.rename({'PDV':'cod'}, axis=1, inplace=True)"
   ]
  },
  {
   "cell_type": "code",
   "execution_count": 4,
   "metadata": {},
   "outputs": [],
   "source": [
    "# Cruzamos ambas maestras con los datos de SO y Stock\n",
    "final = pd.merge(pd.merge(df, df_pos, on='cod', how='left'), df_prices, on='Cod_Hom', how='left')"
   ]
  },
  {
   "cell_type": "code",
   "execution_count": 5,
   "metadata": {},
   "outputs": [],
   "source": [
    "# Agregamos el Monto de las Ventas\n",
    "final['Costo_SO'] = final['so']*final['Precio']\n",
    "\n",
    "# Agregamos el Monto del Stock\n",
    "final['Costo_Stock'] = final['Inv']*final['Precio']"
   ]
  },
  {
   "cell_type": "code",
   "execution_count": 6,
   "metadata": {},
   "outputs": [],
   "source": [
    "# Creamos 2 dfs para guardar los datos necesarios\n",
    "\n",
    "SO = final[['Fecha_Venta', 'Cadena', 'Cod_Prod', 'EAN', 'Descripcion', 'cod', 'NOMBRE PDV', 'so', 'Costo_SO']].copy()\n",
    "\n",
    "Stock = final[['Fecha_Venta', 'Cadena', 'Cod_Prod', 'EAN', 'Descripcion', 'cod', 'NOMBRE PDV', 'Inv', 'Costo_Stock']].copy()"
   ]
  },
  {
   "cell_type": "markdown",
   "metadata": {},
   "source": [
    "# Export data"
   ]
  },
  {
   "cell_type": "code",
   "execution_count": 7,
   "metadata": {},
   "outputs": [],
   "source": [
    "def write_layout(filename, df, sellout=True):\n",
    "    writer = pd.ExcelWriter(filename, engine='openpyxl')\n",
    "    writer.book = load_workbook(filename)\n",
    "    writer.sheets = {ws.title:ws for ws in writer.book.worksheets}\n",
    "    if sellout == True:\n",
    "        df.to_excel(writer, sheet_name='Ventas', startcol=1, startrow=18, index=False, header=None)\n",
    "    else:\n",
    "        df.to_excel(writer, sheet_name='Stock', startcol=1, startrow=18, index=False, header=None)\n",
    "    writer.save()"
   ]
  },
  {
   "cell_type": "code",
   "execution_count": 8,
   "metadata": {},
   "outputs": [
    {
     "name": "stdout",
     "output_type": "stream",
     "text": [
      "Wall time: 5min 50s\n"
     ]
    }
   ],
   "source": [
    "%%time\n",
    "# Creamos un nuevo folder en donde agregamos el layout para exportar a ISV\n",
    "original = '../../../1Data/2Catalogue/toISV/Formato No B2B Orig.xlsx'\n",
    "new_folder = path_catal + '/S' + weeks\n",
    "try:\n",
    "    os.mkdir(new_folder)\n",
    "except:\n",
    "    pass\n",
    "\n",
    "# Exportamos los datos al layout de ISV\n",
    "filename = 'Formato No B2B COPSERVIR 2021_' + weeks\n",
    "path_export = new_folder + '/' + filename +'.xlsx'\n",
    "shutil.copy(original, path_export)\n",
    "write_layout(path_export, SO, True)\n",
    "write_layout(path_export, Stock, False)"
   ]
  },
  {
   "cell_type": "code",
   "execution_count": null,
   "metadata": {},
   "outputs": [],
   "source": []
  }
 ],
 "metadata": {
  "kernelspec": {
   "display_name": "Python 3.7.6 64-bit ('base': conda)",
   "language": "python",
   "name": "python37664bitbaseconda8f2870ef7b8b4a659a1cfb9279b52c39"
  },
  "language_info": {
   "codemirror_mode": {
    "name": "ipython",
    "version": 3
   },
   "file_extension": ".py",
   "mimetype": "text/x-python",
   "name": "python",
   "nbconvert_exporter": "python",
   "pygments_lexer": "ipython3",
   "version": "3.7.6"
  },
  "toc": {
   "base_numbering": 1,
   "nav_menu": {},
   "number_sections": true,
   "sideBar": true,
   "skip_h1_title": false,
   "title_cell": "Table of Contents",
   "title_sidebar": "Contents",
   "toc_cell": false,
   "toc_position": {},
   "toc_section_display": true,
   "toc_window_display": false
  }
 },
 "nbformat": 4,
 "nbformat_minor": 4
}
