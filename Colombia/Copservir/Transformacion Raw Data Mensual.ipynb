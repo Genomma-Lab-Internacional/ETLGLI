{
 "cells": [
  {
   "cell_type": "markdown",
   "metadata": {},
   "source": [
    "# Libraries"
   ]
  },
  {
   "cell_type": "code",
   "execution_count": 1,
   "metadata": {},
   "outputs": [],
   "source": [
    "import os\n",
    "import pandas as pd\n",
    "from datetime import datetime"
   ]
  },
  {
   "cell_type": "markdown",
   "metadata": {},
   "source": [
    "Semana 11: 08-Marzo-2021 al 14-Marzo-2021"
   ]
  },
  {
   "cell_type": "markdown",
   "metadata": {},
   "source": [
    "finicio = datetime(2021, 3, 8)\n",
    "ffin = datetime(2021, 3, 14)"
   ]
  },
  {
   "cell_type": "markdown",
   "metadata": {},
   "source": [
    "# Importación"
   ]
  },
  {
   "cell_type": "code",
   "execution_count": 2,
   "metadata": {},
   "outputs": [
    {
     "name": "stdout",
     "output_type": "stream",
     "text": [
      "Wall time: 583 ms\n"
     ]
    }
   ],
   "source": [
    "%%time\n",
    "#path = '../../../../../../../../genommalabinternacional/Cristian Javier Sanchez Yepez - NoB2B/Copservir/Copservir Faltante/2021/S 9/'\n",
    "path = '../../../../1Data/2Catalogue/'\n",
    "df_pdv = pd.read_csv(path + 'Reporte_Inventario_Ventas_PDV.csv', encoding='latin1')\n",
    "df_suc = pd.read_excel(path + 'Reporte_Inventario_Ventas_Sucursal.xlsx', sheet_name='INVENTARIOS SUCURSALES', header=4)"
   ]
  },
  {
   "cell_type": "markdown",
   "metadata": {},
   "source": [
    "# Transformación inventarios por sucursal"
   ]
  },
  {
   "cell_type": "code",
   "execution_count": 8,
   "metadata": {},
   "outputs": [],
   "source": [
    "data_suc = df_suc[['Unnamed: 0', 'Unnamed: 1', 'BQUILLA', 'BOGOTA', 'BMANGA', 'CALI']].copy()\n",
    "\n",
    "data_suc.rename({'BQUILLA':'BAR', 'BOGOTA':'BOG', 'BMANGA':'BUC', 'CALI':'CAL'}, axis=1, inplace=True)\n",
    "data_suc.rename(dict(zip(data_suc.columns[:2], data_suc.loc[1].tolist()[:2])), axis=1, inplace=True)\n",
    "\n",
    "data_suc.drop([0, 1], axis=0, inplace=True)\n",
    "data_suc.reset_index(drop=True, inplace=True)\n",
    "\n",
    "data_suc_t = data_suc.melt(id_vars=['Codigo', 'Descripcion'], value_vars=['BAR', 'BOG', 'BUC', 'CAL'], var_name='codHoml', value_name='Cantidad Saldo')"
   ]
  },
  {
   "cell_type": "code",
   "execution_count": 24,
   "metadata": {},
   "outputs": [],
   "source": [
    "data_suc_t['Mostrador'] = data_suc_t['codHoml'].map({'BAR':'BARRANQUILLA', 'BOG':'BOGOTA', 'BUC':'BUCARAMANGA', 'CAL':'CALI'})\n",
    "data_suc_t['so'] = 0"
   ]
  },
  {
   "cell_type": "code",
   "execution_count": 25,
   "metadata": {},
   "outputs": [
    {
     "data": {
      "text/html": [
       "<div>\n",
       "<style scoped>\n",
       "    .dataframe tbody tr th:only-of-type {\n",
       "        vertical-align: middle;\n",
       "    }\n",
       "\n",
       "    .dataframe tbody tr th {\n",
       "        vertical-align: top;\n",
       "    }\n",
       "\n",
       "    .dataframe thead th {\n",
       "        text-align: right;\n",
       "    }\n",
       "</style>\n",
       "<table border=\"1\" class=\"dataframe\">\n",
       "  <thead>\n",
       "    <tr style=\"text-align: right;\">\n",
       "      <th></th>\n",
       "      <th>Codigo</th>\n",
       "      <th>Descripcion</th>\n",
       "      <th>codHoml</th>\n",
       "      <th>Cantidad Saldo</th>\n",
       "      <th>Mostrador</th>\n",
       "      <th>so</th>\n",
       "    </tr>\n",
       "  </thead>\n",
       "  <tbody>\n",
       "    <tr>\n",
       "      <th>0</th>\n",
       "      <td>15512</td>\n",
       "      <td>JABON ASEPXIA NEUTRO BARRA X 100 GRS</td>\n",
       "      <td>BAR</td>\n",
       "      <td>0</td>\n",
       "      <td>BARRANQUILLA</td>\n",
       "      <td>0</td>\n",
       "    </tr>\n",
       "    <tr>\n",
       "      <th>1</th>\n",
       "      <td>15706</td>\n",
       "      <td>UNESIA CREMA ANTIMICOTICO TUBO X 20 GR</td>\n",
       "      <td>BAR</td>\n",
       "      <td>327</td>\n",
       "      <td>BARRANQUILLA</td>\n",
       "      <td>0</td>\n",
       "    </tr>\n",
       "    <tr>\n",
       "      <th>2</th>\n",
       "      <td>27543</td>\n",
       "      <td>MEDICASP CHAMPU CAPILAR ANTICASPA KETOCONAZOL ...</td>\n",
       "      <td>BAR</td>\n",
       "      <td>559</td>\n",
       "      <td>BARRANQUILLA</td>\n",
       "      <td>0</td>\n",
       "    </tr>\n",
       "    <tr>\n",
       "      <th>3</th>\n",
       "      <td>63944</td>\n",
       "      <td>CREMA SECANTE ASEPXIA ANTI IMPERFECCIONES CAMO...</td>\n",
       "      <td>BAR</td>\n",
       "      <td>0</td>\n",
       "      <td>BARRANQUILLA</td>\n",
       "      <td>0</td>\n",
       "    </tr>\n",
       "    <tr>\n",
       "      <th>4</th>\n",
       "      <td>63946</td>\n",
       "      <td>JABON ASEPXIA FORTE BARRA X 100 GRS</td>\n",
       "      <td>BAR</td>\n",
       "      <td>0</td>\n",
       "      <td>BARRANQUILLA</td>\n",
       "      <td>0</td>\n",
       "    </tr>\n",
       "    <tr>\n",
       "      <th>...</th>\n",
       "      <td>...</td>\n",
       "      <td>...</td>\n",
       "      <td>...</td>\n",
       "      <td>...</td>\n",
       "      <td>...</td>\n",
       "      <td>...</td>\n",
       "    </tr>\n",
       "    <tr>\n",
       "      <th>875</th>\n",
       "      <td>13264</td>\n",
       "      <td>POLVO ASEPXIA MATIZANTE</td>\n",
       "      <td>CAL</td>\n",
       "      <td>0</td>\n",
       "      <td>CALI</td>\n",
       "      <td>0</td>\n",
       "    </tr>\n",
       "    <tr>\n",
       "      <th>876</th>\n",
       "      <td>13262</td>\n",
       "      <td>CREMA CORPORAL CICATRICURE ESPECIALIZADA REAFI...</td>\n",
       "      <td>CAL</td>\n",
       "      <td>0</td>\n",
       "      <td>CALI</td>\n",
       "      <td>0</td>\n",
       "    </tr>\n",
       "    <tr>\n",
       "      <th>877</th>\n",
       "      <td>13261</td>\n",
       "      <td>CREMA CORPORAL CICATRICURE ESPECIALIZADA PREVE...</td>\n",
       "      <td>CAL</td>\n",
       "      <td>0</td>\n",
       "      <td>CALI</td>\n",
       "      <td>0</td>\n",
       "    </tr>\n",
       "    <tr>\n",
       "      <th>878</th>\n",
       "      <td>13258</td>\n",
       "      <td>CREMA CORPORAL CICATRICURE ESPECIALIZADA PREVE...</td>\n",
       "      <td>CAL</td>\n",
       "      <td>0</td>\n",
       "      <td>CALI</td>\n",
       "      <td>0</td>\n",
       "    </tr>\n",
       "    <tr>\n",
       "      <th>879</th>\n",
       "      <td>13257</td>\n",
       "      <td>ASEPXIA GEL FACIAL Y CORPORAL</td>\n",
       "      <td>CAL</td>\n",
       "      <td>0</td>\n",
       "      <td>CALI</td>\n",
       "      <td>0</td>\n",
       "    </tr>\n",
       "  </tbody>\n",
       "</table>\n",
       "<p>880 rows × 6 columns</p>\n",
       "</div>"
      ],
      "text/plain": [
       "    Codigo                                        Descripcion codHoml  \\\n",
       "0    15512               JABON ASEPXIA NEUTRO BARRA X 100 GRS     BAR   \n",
       "1    15706             UNESIA CREMA ANTIMICOTICO TUBO X 20 GR     BAR   \n",
       "2    27543  MEDICASP CHAMPU CAPILAR ANTICASPA KETOCONAZOL ...     BAR   \n",
       "3    63944  CREMA SECANTE ASEPXIA ANTI IMPERFECCIONES CAMO...     BAR   \n",
       "4    63946                JABON ASEPXIA FORTE BARRA X 100 GRS     BAR   \n",
       "..     ...                                                ...     ...   \n",
       "875  13264                        POLVO ASEPXIA MATIZANTE         CAL   \n",
       "876  13262  CREMA CORPORAL CICATRICURE ESPECIALIZADA REAFI...     CAL   \n",
       "877  13261  CREMA CORPORAL CICATRICURE ESPECIALIZADA PREVE...     CAL   \n",
       "878  13258  CREMA CORPORAL CICATRICURE ESPECIALIZADA PREVE...     CAL   \n",
       "879  13257                  ASEPXIA GEL FACIAL Y CORPORAL         CAL   \n",
       "\n",
       "    Cantidad Saldo     Mostrador  so  \n",
       "0                0  BARRANQUILLA   0  \n",
       "1              327  BARRANQUILLA   0  \n",
       "2              559  BARRANQUILLA   0  \n",
       "3                0  BARRANQUILLA   0  \n",
       "4                0  BARRANQUILLA   0  \n",
       "..             ...           ...  ..  \n",
       "875              0          CALI   0  \n",
       "876              0          CALI   0  \n",
       "877              0          CALI   0  \n",
       "878              0          CALI   0  \n",
       "879              0          CALI   0  \n",
       "\n",
       "[880 rows x 6 columns]"
      ]
     },
     "execution_count": 25,
     "metadata": {},
     "output_type": "execute_result"
    }
   ],
   "source": [
    "data_suc_t"
   ]
  },
  {
   "cell_type": "markdown",
   "metadata": {},
   "source": [
    "# Transformación inventarios y ventas por PDV"
   ]
  },
  {
   "cell_type": "code",
   "execution_count": 27,
   "metadata": {},
   "outputs": [
    {
     "data": {
      "text/plain": [
       "Index(['SUC', 'PDV', 'NOMBRE PDV', 'CIUDAD', 'COD', 'DESCRIPCION',\n",
       "       'PRESENTACION', 'PRV', 'NOMPROVEEDOR', 'Inv Und Total',\n",
       "       'Vta Und Total'],\n",
       "      dtype='object')"
      ]
     },
     "execution_count": 27,
     "metadata": {},
     "output_type": "execute_result"
    }
   ],
   "source": [
    "df_pdv.columns"
   ]
  },
  {
   "cell_type": "code",
   "execution_count": 29,
   "metadata": {},
   "outputs": [],
   "source": [
    "data_pdv = df_pdv[['PDV', 'NOMBRE PDV', 'COD', 'DESCRIPCION', 'Inv Und Total', 'Vta Und Total']].copy()"
   ]
  },
  {
   "cell_type": "markdown",
   "metadata": {},
   "source": [
    "# Concatenación de inventario y stock"
   ]
  },
  {
   "cell_type": "code",
   "execution_count": 30,
   "metadata": {},
   "outputs": [],
   "source": [
    "def homolog_codigos(codigo):\n",
    "    \n",
    "    dict_locales = {'400000000':'4E8', '4000000':'4E6', '400000':'4E5',\n",
    "                    '40000':'4E4', '4000':'4E3', '400':'4E2', '40':'4E1',\n",
    "                    '3000000000':'3E9', '300000000':'3E8', '30000000':'3E7',\n",
    "                    '3000000':'3E6', '300000':'3E5', '30000':'3E4', \n",
    "                    '3000':'3E3', '30':'3E1', '200000000':'2E8', '20000000':'2E7',\n",
    "                    '200000':'2E5', '20000':'2E4', '200':'2E2',  '20':'2E1',\n",
    "                    '1000000000':'1E9', '100000000':'1E8', '10000000':'1E7',\n",
    "                    '100000':'1E5', '10000':'1E4', '1000':'1E3', '100':'1E2', '10':'1E1'}\n",
    "    \n",
    "    try:\n",
    "        return dict_locales[codigo]\n",
    "    except:\n",
    "        return codigo"
   ]
  },
  {
   "cell_type": "code",
   "execution_count": 33,
   "metadata": {},
   "outputs": [],
   "source": [
    "data_pdv['PDV'] = data_pdv['PDV'].astype(str)\n",
    "data_pdv['PDV'] = data_pdv['PDV'].map(homolog_codigos)"
   ]
  },
  {
   "cell_type": "code",
   "execution_count": 41,
   "metadata": {},
   "outputs": [],
   "source": [
    "data_suc_t.rename({'Codigo':'Código producto', 'Descripcion':'Producto'}, axis=1, inplace=True)"
   ]
  },
  {
   "cell_type": "code",
   "execution_count": 42,
   "metadata": {},
   "outputs": [],
   "source": [
    "data_pdv.rename({'PDV':'codHoml', 'NOMBRE PDV':'Mostrador', 'COD':'Código producto', 'DESCRIPCION':'Producto', 'Inv Und Total':'Cantidad Saldo', 'Vta Und Total':'so'}, axis=1, inplace=True)\n",
    "\n",
    "data = pd.concat([data_pdv, data_suc_t])\n",
    "\n",
    "data['Cantidad Saldo'] = data['Cantidad Saldo'].astype(float)\n",
    "\n",
    "data = data.pivot_table(index=['codHoml', 'Mostrador', 'Código producto', 'Producto'], values=['Cantidad Saldo', 'so'], aggfunc='sum').reset_index()"
   ]
  },
  {
   "cell_type": "code",
   "execution_count": 91,
   "metadata": {},
   "outputs": [
    {
     "data": {
      "text/plain": [
       "45416.92"
      ]
     },
     "execution_count": 91,
     "metadata": {},
     "output_type": "execute_result"
    }
   ],
   "source": [
    "data['so'].sum()"
   ]
  },
  {
   "cell_type": "markdown",
   "metadata": {},
   "source": [
    "# Desacumulación"
   ]
  },
  {
   "cell_type": "code",
   "execution_count": 65,
   "metadata": {},
   "outputs": [],
   "source": [
    "path = '../../../../../../../02Paises/Colombia/Copservir/Layout/'\n",
    "files = ['Copservir_2021_06.xlsx', 'Copservir_2021_07.xlsx', 'Copservir_2021_08.xlsx']\n",
    "\n",
    "df_acum_ant = pd.DataFrame()\n",
    "for f in files:\n",
    "    df_acum_ant = pd.concat([df_acum_ant, pd.read_excel(path + f)])"
   ]
  },
  {
   "cell_type": "code",
   "execution_count": 124,
   "metadata": {},
   "outputs": [],
   "source": [
    "data_acum_ant = df_acum_ant.pivot_table(index=['codHoml', 'Mostrador', 'Código producto', 'Producto'], values=['Cantidad Saldo', 'so'], aggfunc='sum').reset_index()"
   ]
  },
  {
   "cell_type": "code",
   "execution_count": 116,
   "metadata": {},
   "outputs": [
    {
     "data": {
      "text/plain": [
       "(85849, 6)"
      ]
     },
     "execution_count": 116,
     "metadata": {},
     "output_type": "execute_result"
    }
   ],
   "source": [
    "data_acum_ant.shape"
   ]
  },
  {
   "cell_type": "code",
   "execution_count": 125,
   "metadata": {},
   "outputs": [],
   "source": [
    "data_acum_ant['codHoml'] = data_acum_ant['codHoml'].astype(str)\n",
    "data_acum_ant['Código producto'] = data_acum_ant['Código producto'].astype(str)\n",
    "data_acum_ant['ID'] = data_acum_ant['codHoml'] + data_acum_ant['Código producto']"
   ]
  },
  {
   "cell_type": "code",
   "execution_count": 126,
   "metadata": {},
   "outputs": [
    {
     "name": "stdout",
     "output_type": "stream",
     "text": [
      "Wall time: 1min 56s\n"
     ]
    }
   ],
   "source": [
    "%%time\n",
    "ids_reps = data_acum_ant['ID'].value_counts()[data_acum_ant['ID'].value_counts() > 1].index.tolist()\n",
    "for i in ids_reps:\n",
    "    nombres_sku = data_acum_ant.loc[data_acum_ant['ID'] == i, 'Producto'].unique().tolist()\n",
    "    mostradores = data_acum_ant.loc[data_acum_ant['ID'] == i, 'Mostrador'].unique().tolist()\n",
    "    data_acum_ant.loc[data_acum_ant['ID'] == i, 'Producto'] = nombres_sku[-1]\n",
    "    data_acum_ant.loc[data_acum_ant['ID'] == i, 'Mostrador'] = mostradores[0]"
   ]
  },
  {
   "cell_type": "code",
   "execution_count": 127,
   "metadata": {},
   "outputs": [],
   "source": [
    "data_acum_ant = data_acum_ant.pivot_table(index=['codHoml', 'Mostrador', 'Código producto', 'Producto'], values=['Cantidad Saldo', 'so'], aggfunc='sum').reset_index()"
   ]
  },
  {
   "cell_type": "code",
   "execution_count": 128,
   "metadata": {},
   "outputs": [
    {
     "data": {
      "text/plain": [
       "(82212, 6)"
      ]
     },
     "execution_count": 128,
     "metadata": {},
     "output_type": "execute_result"
    }
   ],
   "source": [
    "data_acum_ant.shape"
   ]
  },
  {
   "cell_type": "code",
   "execution_count": 129,
   "metadata": {},
   "outputs": [],
   "source": [
    "data_acum_ant['ID'] = data_acum_ant['codHoml'] + data_acum_ant['Código producto']"
   ]
  },
  {
   "cell_type": "code",
   "execution_count": 131,
   "metadata": {},
   "outputs": [],
   "source": [
    "data['codHoml'] = data['codHoml'].astype(str)\n",
    "data['Código producto'] = data['Código producto'].astype(str)\n",
    "data['ID'] = data['codHoml'] + data['Código producto']"
   ]
  },
  {
   "cell_type": "code",
   "execution_count": 132,
   "metadata": {},
   "outputs": [],
   "source": [
    "data_desac = pd.merge(data, data_acum_ant, on='ID', how='left')"
   ]
  },
  {
   "cell_type": "code",
   "execution_count": 133,
   "metadata": {},
   "outputs": [
    {
     "data": {
      "text/plain": [
       "45416.92"
      ]
     },
     "execution_count": 133,
     "metadata": {},
     "output_type": "execute_result"
    }
   ],
   "source": [
    "data_desac['so_x'].sum()"
   ]
  },
  {
   "cell_type": "code",
   "execution_count": 134,
   "metadata": {},
   "outputs": [
    {
     "data": {
      "text/plain": [
       "34736.510485925995"
      ]
     },
     "execution_count": 134,
     "metadata": {},
     "output_type": "execute_result"
    }
   ],
   "source": [
    "data_desac['so_y'].sum()"
   ]
  },
  {
   "cell_type": "code",
   "execution_count": 136,
   "metadata": {},
   "outputs": [],
   "source": [
    "data_desac['so'] = data_desac['so_x'] - data_desac['so_y']"
   ]
  },
  {
   "cell_type": "code",
   "execution_count": 147,
   "metadata": {},
   "outputs": [
    {
     "data": {
      "text/plain": [
       "10617.409514074001"
      ]
     },
     "execution_count": 147,
     "metadata": {},
     "output_type": "execute_result"
    }
   ],
   "source": [
    "data_desac['so'].sum()"
   ]
  },
  {
   "cell_type": "code",
   "execution_count": 146,
   "metadata": {},
   "outputs": [
    {
     "data": {
      "text/plain": [
       "12873.971250061"
      ]
     },
     "execution_count": 146,
     "metadata": {},
     "output_type": "execute_result"
    }
   ],
   "source": [
    "data_desac['so'].apply(lambda x: 0 if x < 0 else x).sum()"
   ]
  },
  {
   "cell_type": "code",
   "execution_count": 137,
   "metadata": {},
   "outputs": [
    {
     "data": {
      "text/plain": [
       "Index(['codHoml_x', 'Mostrador_x', 'Código producto_x', 'Producto_x',\n",
       "       'Cantidad Saldo_x', 'so_x', 'ID', 'codHoml_y', 'Mostrador_y',\n",
       "       'Código producto_y', 'Producto_y', 'Cantidad Saldo_y', 'so_y', 'so'],\n",
       "      dtype='object')"
      ]
     },
     "execution_count": 137,
     "metadata": {},
     "output_type": "execute_result"
    }
   ],
   "source": [
    "data_desac.columns"
   ]
  },
  {
   "cell_type": "code",
   "execution_count": 138,
   "metadata": {},
   "outputs": [
    {
     "data": {
      "text/html": [
       "<div>\n",
       "<style scoped>\n",
       "    .dataframe tbody tr th:only-of-type {\n",
       "        vertical-align: middle;\n",
       "    }\n",
       "\n",
       "    .dataframe tbody tr th {\n",
       "        vertical-align: top;\n",
       "    }\n",
       "\n",
       "    .dataframe thead th {\n",
       "        text-align: right;\n",
       "    }\n",
       "</style>\n",
       "<table border=\"1\" class=\"dataframe\">\n",
       "  <thead>\n",
       "    <tr style=\"text-align: right;\">\n",
       "      <th></th>\n",
       "      <th>codHoml_x</th>\n",
       "      <th>Código producto_x</th>\n",
       "      <th>so_x</th>\n",
       "      <th>so_y</th>\n",
       "      <th>so</th>\n",
       "    </tr>\n",
       "  </thead>\n",
       "  <tbody>\n",
       "    <tr>\n",
       "      <th>0</th>\n",
       "      <td>101</td>\n",
       "      <td>15706</td>\n",
       "      <td>3.0</td>\n",
       "      <td>3.25</td>\n",
       "      <td>-0.25</td>\n",
       "    </tr>\n",
       "    <tr>\n",
       "      <th>1</th>\n",
       "      <td>101</td>\n",
       "      <td>27543</td>\n",
       "      <td>3.0</td>\n",
       "      <td>3.25</td>\n",
       "      <td>-0.25</td>\n",
       "    </tr>\n",
       "    <tr>\n",
       "      <th>2</th>\n",
       "      <td>101</td>\n",
       "      <td>63947</td>\n",
       "      <td>0.0</td>\n",
       "      <td>0.00</td>\n",
       "      <td>0.00</td>\n",
       "    </tr>\n",
       "    <tr>\n",
       "      <th>3</th>\n",
       "      <td>101</td>\n",
       "      <td>63956</td>\n",
       "      <td>1.0</td>\n",
       "      <td>0.00</td>\n",
       "      <td>1.00</td>\n",
       "    </tr>\n",
       "    <tr>\n",
       "      <th>4</th>\n",
       "      <td>101</td>\n",
       "      <td>64629</td>\n",
       "      <td>0.0</td>\n",
       "      <td>0.00</td>\n",
       "      <td>0.00</td>\n",
       "    </tr>\n",
       "    <tr>\n",
       "      <th>...</th>\n",
       "      <td>...</td>\n",
       "      <td>...</td>\n",
       "      <td>...</td>\n",
       "      <td>...</td>\n",
       "      <td>...</td>\n",
       "    </tr>\n",
       "    <tr>\n",
       "      <th>81949</th>\n",
       "      <td>CAL</td>\n",
       "      <td>147035</td>\n",
       "      <td>0.0</td>\n",
       "      <td>0.00</td>\n",
       "      <td>0.00</td>\n",
       "    </tr>\n",
       "    <tr>\n",
       "      <th>81950</th>\n",
       "      <td>CAL</td>\n",
       "      <td>147036</td>\n",
       "      <td>0.0</td>\n",
       "      <td>0.00</td>\n",
       "      <td>0.00</td>\n",
       "    </tr>\n",
       "    <tr>\n",
       "      <th>81951</th>\n",
       "      <td>CAL</td>\n",
       "      <td>147037</td>\n",
       "      <td>0.0</td>\n",
       "      <td>0.00</td>\n",
       "      <td>0.00</td>\n",
       "    </tr>\n",
       "    <tr>\n",
       "      <th>81952</th>\n",
       "      <td>CAL</td>\n",
       "      <td>147038</td>\n",
       "      <td>0.0</td>\n",
       "      <td>0.00</td>\n",
       "      <td>0.00</td>\n",
       "    </tr>\n",
       "    <tr>\n",
       "      <th>81953</th>\n",
       "      <td>CAL</td>\n",
       "      <td>147079</td>\n",
       "      <td>0.0</td>\n",
       "      <td>0.00</td>\n",
       "      <td>0.00</td>\n",
       "    </tr>\n",
       "  </tbody>\n",
       "</table>\n",
       "<p>81954 rows × 5 columns</p>\n",
       "</div>"
      ],
      "text/plain": [
       "      codHoml_x Código producto_x  so_x  so_y    so\n",
       "0           101             15706   3.0  3.25 -0.25\n",
       "1           101             27543   3.0  3.25 -0.25\n",
       "2           101             63947   0.0  0.00  0.00\n",
       "3           101             63956   1.0  0.00  1.00\n",
       "4           101             64629   0.0  0.00  0.00\n",
       "...         ...               ...   ...   ...   ...\n",
       "81949       CAL            147035   0.0  0.00  0.00\n",
       "81950       CAL            147036   0.0  0.00  0.00\n",
       "81951       CAL            147037   0.0  0.00  0.00\n",
       "81952       CAL            147038   0.0  0.00  0.00\n",
       "81953       CAL            147079   0.0  0.00  0.00\n",
       "\n",
       "[81954 rows x 5 columns]"
      ]
     },
     "execution_count": 138,
     "metadata": {},
     "output_type": "execute_result"
    }
   ],
   "source": [
    "data_desac[['codHoml_x', 'Código producto_x', 'so_x', 'so_y',  'so']]"
   ]
  },
  {
   "cell_type": "code",
   "execution_count": 142,
   "metadata": {},
   "outputs": [
    {
     "data": {
      "text/html": [
       "<div>\n",
       "<style scoped>\n",
       "    .dataframe tbody tr th:only-of-type {\n",
       "        vertical-align: middle;\n",
       "    }\n",
       "\n",
       "    .dataframe tbody tr th {\n",
       "        vertical-align: top;\n",
       "    }\n",
       "\n",
       "    .dataframe thead th {\n",
       "        text-align: right;\n",
       "    }\n",
       "</style>\n",
       "<table border=\"1\" class=\"dataframe\">\n",
       "  <thead>\n",
       "    <tr style=\"text-align: right;\">\n",
       "      <th></th>\n",
       "      <th>codHoml</th>\n",
       "      <th>Mostrador</th>\n",
       "      <th>Código producto</th>\n",
       "      <th>Producto</th>\n",
       "      <th>Cantidad Saldo</th>\n",
       "      <th>so</th>\n",
       "    </tr>\n",
       "  </thead>\n",
       "  <tbody>\n",
       "    <tr>\n",
       "      <th>71386</th>\n",
       "      <td>101</td>\n",
       "      <td>REBAJA PLUS No. 16 BARRANQUILLA PLAZA DE MERCADO</td>\n",
       "      <td>15706</td>\n",
       "      <td>UNESIA CREMA ANTIMICOTICO TUBO X 20 GR</td>\n",
       "      <td>3.0</td>\n",
       "      <td>1.25</td>\n",
       "    </tr>\n",
       "    <tr>\n",
       "      <th>10728</th>\n",
       "      <td>101</td>\n",
       "      <td>REBAJA PLUS No. 16 BARRANQUILLA PLAZA DE MERCADO</td>\n",
       "      <td>15706</td>\n",
       "      <td>UNESIA CREMA ANTIMICOTICO TUBO X 20 GR</td>\n",
       "      <td>1.0</td>\n",
       "      <td>2.00</td>\n",
       "    </tr>\n",
       "    <tr>\n",
       "      <th>71287</th>\n",
       "      <td>101</td>\n",
       "      <td>REBAJA PLUS No. 16 BARRANQUILLA PLAZA DE MERCADO</td>\n",
       "      <td>15706</td>\n",
       "      <td>UNESIA CREMA ANTIMICOTICO TUBO X 20 GR</td>\n",
       "      <td>3.0</td>\n",
       "      <td>0.00</td>\n",
       "    </tr>\n",
       "  </tbody>\n",
       "</table>\n",
       "</div>"
      ],
      "text/plain": [
       "      codHoml                                         Mostrador  \\\n",
       "71386     101  REBAJA PLUS No. 16 BARRANQUILLA PLAZA DE MERCADO   \n",
       "10728     101  REBAJA PLUS No. 16 BARRANQUILLA PLAZA DE MERCADO   \n",
       "71287     101  REBAJA PLUS No. 16 BARRANQUILLA PLAZA DE MERCADO   \n",
       "\n",
       "       Código producto                                Producto  \\\n",
       "71386            15706  UNESIA CREMA ANTIMICOTICO TUBO X 20 GR   \n",
       "10728            15706  UNESIA CREMA ANTIMICOTICO TUBO X 20 GR   \n",
       "71287            15706  UNESIA CREMA ANTIMICOTICO TUBO X 20 GR   \n",
       "\n",
       "       Cantidad Saldo    so  \n",
       "71386             3.0  1.25  \n",
       "10728             1.0  2.00  \n",
       "71287             3.0  0.00  "
      ]
     },
     "execution_count": 142,
     "metadata": {},
     "output_type": "execute_result"
    }
   ],
   "source": [
    "df_acum_ant[(df_acum_ant['Código producto'] == 15706)&(df_acum_ant['codHoml'] == '101')]"
   ]
  },
  {
   "cell_type": "code",
   "execution_count": null,
   "metadata": {},
   "outputs": [],
   "source": []
  },
  {
   "cell_type": "markdown",
   "metadata": {},
   "source": [
    "# Transformación de Inventarios"
   ]
  },
  {
   "cell_type": "markdown",
   "metadata": {},
   "source": [
    "Primero transformamos el *Inventario por PDV (ip)*:"
   ]
  },
  {
   "cell_type": "code",
   "execution_count": 4,
   "metadata": {},
   "outputs": [],
   "source": [
    "data_ip = df_ip[['Mostrador', 'Código producto', 'Producto', 'Cantidad Saldo']].copy()\n",
    "data_ip['codHoml'] = df_ip['Mostrador'].apply(lambda x: x.split('-')[0])\n",
    "data_ip['so'] = 0"
   ]
  },
  {
   "cell_type": "markdown",
   "metadata": {},
   "source": [
    "Luego, transformamos el *inventario consolidado (ic)*:"
   ]
  },
  {
   "cell_type": "code",
   "execution_count": 5,
   "metadata": {},
   "outputs": [],
   "source": [
    "data_ic = df_ic[['Código producto', 'Producto', 'Cantidad Saldo.1', 'Cantidad Saldo.2', 'Cantidad Saldo.3', 'Cantidad Saldo.4']].copy()\n",
    "data_ic.rename({'Cantidad Saldo.1':'BAR', 'Cantidad Saldo.2':'BOG', 'Cantidad Saldo.3':'BUC', 'Cantidad Saldo.4':'CAL'}, axis=1, inplace=True)\n",
    "# Despivoteamos las columnas y lo guardamos en data_ic_t\n",
    "data_ic_t = data_ic.melt(id_vars=['Código producto', 'Producto'], value_vars=['BAR', 'BOG', 'BUC', 'CAL'])"
   ]
  },
  {
   "cell_type": "code",
   "execution_count": 6,
   "metadata": {},
   "outputs": [],
   "source": [
    "data_ic_t.rename({'value':'Cantidad Saldo', 'variable':'codHoml'}, axis=1, inplace=True)\n",
    "data_ic_t['Mostrador'] = data_ic_t['codHoml'].map({'BAR':'BARRANQUILLA', 'BOG':'BOGOTA', 'BUC':'BUCARAMANGA', 'CAL':'CALI'})\n",
    "data_ic_t['so'] = 0"
   ]
  },
  {
   "cell_type": "markdown",
   "metadata": {},
   "source": [
    "Al final concatenamos ambos inventarios en unos solo:"
   ]
  },
  {
   "cell_type": "code",
   "execution_count": 7,
   "metadata": {},
   "outputs": [],
   "source": [
    "data_inv = pd.concat([data_ip, data_ic_t])"
   ]
  },
  {
   "cell_type": "markdown",
   "metadata": {},
   "source": [
    "Y limpiamos algunas columnas"
   ]
  },
  {
   "cell_type": "code",
   "execution_count": 8,
   "metadata": {},
   "outputs": [],
   "source": [
    "data_inv.loc[data_inv['Cantidad Saldo'] == '-', 'Cantidad Saldo'] = 0\n",
    "\n",
    "data_inv['Cantidad Saldo'] = data_inv['Cantidad Saldo'].astype(float)"
   ]
  },
  {
   "cell_type": "markdown",
   "metadata": {},
   "source": [
    "# Transformación de Ventas"
   ]
  },
  {
   "cell_type": "code",
   "execution_count": 9,
   "metadata": {},
   "outputs": [],
   "source": [
    "def ftarget(fecha_inic, fecha_fin):\n",
    "    \n",
    "    meses = {\"01\":'Ene', \"02\":'Feb', \"03\":'Mar',\n",
    "             \"04\":'Abr', \"05\":'May', \"06\":'Jun',\n",
    "             \"07\":'Jul', \"08\":'Ago', \"09\":'Sep',\n",
    "             \"10\":'Oct', \"11\":'Nov', \"12\":'Dic'}\n",
    "    \n",
    "    range_fechas = pd.date_range(finicio, ffin).tolist()\n",
    "    fechas_list = []\n",
    "    for f in range_fechas:\n",
    "        fechas_list.append(str(f.day).zfill(2) + '_' + meses[str(f.month).zfill(2)] + '_' + str(f.year)[-2:])\n",
    "    return fechas_list"
   ]
  },
  {
   "cell_type": "code",
   "execution_count": 10,
   "metadata": {},
   "outputs": [],
   "source": [
    "cols_datos = ftarget(finicio, ffin)"
   ]
  },
  {
   "cell_type": "code",
   "execution_count": 11,
   "metadata": {},
   "outputs": [],
   "source": [
    "data_vd = df_vd[['Unnamed: 4', 'Unnamed: 5', 'Unnamed: 6', 'Día'] + cols_datos].copy()\n",
    "\n",
    "data_vd.replace('-', 0, inplace=True)\n",
    "\n",
    "data_vd['so'] = data_vd[cols_datos].sum(axis=1)\n",
    "\n",
    "data_vd.rename(dict(zip(data_vd.columns[:-1], data_vd.loc[0].tolist()[:-1])), axis=1, inplace=True)"
   ]
  },
  {
   "cell_type": "code",
   "execution_count": 12,
   "metadata": {},
   "outputs": [],
   "source": [
    "data_vd.drop(['Cantidad'], axis=1, inplace=True)\n",
    "\n",
    "data_vd.drop(0, axis=0, inplace=True)\n",
    "data_vd.reset_index(inplace=True, drop=True)\n",
    "\n",
    "data_vd['Cantidad Saldo'] = 0"
   ]
  },
  {
   "cell_type": "markdown",
   "metadata": {},
   "source": [
    "# Concatenación de inventario y stock"
   ]
  },
  {
   "cell_type": "code",
   "execution_count": 13,
   "metadata": {},
   "outputs": [],
   "source": [
    "def homolog_codigos(codigo):\n",
    "    \n",
    "    dict_locales = {'400000000':'4E8', '4000000':'4E6', '400000':'4E5',\n",
    "                    '40000':'4E4', '4000':'4E3', '400':'4E2', '40':'4E1',\n",
    "                    '3000000000':'3E9', '300000000':'3E8', '30000000':'3E7',\n",
    "                    '3000000':'3E6', '300000':'3E5', '30000':'3E4', \n",
    "                    '3000':'3E3', '30':'3E1', '200000000':'2E8', '20000000':'2E7',\n",
    "                    '200000':'2E5', '20000':'2E4', '200':'2E2',  '20':'2E1',\n",
    "                    '1000000000':'1E9', '100000000':'1E8', '10000000':'1E7',\n",
    "                    '100000':'1E5', '10000':'1E4', '1000':'1E3', '100':'1E2', '10':'1E1'}\n",
    "    \n",
    "    try:\n",
    "        return dict_locales[codigo]\n",
    "    except:\n",
    "        return codigo"
   ]
  },
  {
   "cell_type": "code",
   "execution_count": 14,
   "metadata": {},
   "outputs": [],
   "source": [
    "data_inv['codHoml'] = data_inv['codHoml'].astype(str)\n",
    "data_inv['codHoml'] = data_inv['codHoml'].map(homolog_codigos)\n",
    "data_inv['Código producto'] = data_inv['Código producto'].astype(str)\n",
    "data_inv['ID'] = data_inv['codHoml'] + data_inv['Código producto']"
   ]
  },
  {
   "cell_type": "code",
   "execution_count": 15,
   "metadata": {},
   "outputs": [],
   "source": [
    "data_vd['CodigoComercial'] = data_vd['CodigoComercial'].astype(str)\n",
    "data_vd['CodigoComercial'] = data_vd['CodigoComercial'].map(homolog_codigos)\n",
    "data_vd['Código producto'] = data_vd['Código producto'].astype(str)\n",
    "data_vd['ID'] = data_vd['CodigoComercial'] + data_vd['Código producto']"
   ]
  },
  {
   "cell_type": "code",
   "execution_count": 44,
   "metadata": {},
   "outputs": [],
   "source": [
    "data = pd.merge(data_inv, data_vd, on='ID', how='outer')"
   ]
  },
  {
   "cell_type": "code",
   "execution_count": 26,
   "metadata": {},
   "outputs": [],
   "source": [
    "fill = lambda col1, col2: col1 if pd.isnull(col2) else (col2 if pd.isnull(col1) else col1)"
   ]
  },
  {
   "cell_type": "code",
   "execution_count": 45,
   "metadata": {},
   "outputs": [
    {
     "name": "stdout",
     "output_type": "stream",
     "text": [
      "Wall time: 14.3 s\n"
     ]
    }
   ],
   "source": [
    "%%time\n",
    "data['Código producto'] = data['Código producto_y'].combine(data['Código producto_x'], fill)\n",
    "data['Cantidad Saldo'] = data['Cantidad Saldo_x'].combine(data['Cantidad Saldo_y'], fill)\n",
    "data['so'] = data['so_y'].combine(data['so_x'], fill)\n",
    "data['Mostrad'] = data['Nombre Mostrador'].combine(data['Mostrador'], fill)\n",
    "data['codHomol'] = data['CodigoComercial'].combine(data['codHoml'], fill)\n",
    "data['Product'] = data['Nombre Producto'].combine(data['Producto'], fill)"
   ]
  },
  {
   "cell_type": "code",
   "execution_count": 46,
   "metadata": {},
   "outputs": [],
   "source": [
    "data.drop(['codHoml', 'Mostrador', 'Código producto_x', 'Producto',\n",
    "       'Cantidad Saldo_x', 'so_x', 'ID', 'CodigoComercial', 'Nombre Mostrador',\n",
    "       'Código producto_y', 'Nombre Producto', 'so_y', 'Cantidad Saldo_y'], axis=1, inplace=True)\n",
    "\n",
    "data.rename({'Mostrad':'Mostrador', 'codHomol':'codHoml', 'Product':'Producto'}, axis=1, inplace=True)"
   ]
  },
  {
   "cell_type": "markdown",
   "metadata": {},
   "source": [
    "# Exportación de datos"
   ]
  },
  {
   "cell_type": "code",
   "execution_count": 51,
   "metadata": {},
   "outputs": [],
   "source": [
    "data[['codHoml', 'Mostrador', 'Código producto', 'Producto', 'Cantidad Saldo', 'so']].to_excel('../../../../../../../02Paises/Colombia/Copservir/Copservir_2021_11.xlsx', index=False, sheet_name='2021_11')"
   ]
  },
  {
   "cell_type": "code",
   "execution_count": null,
   "metadata": {},
   "outputs": [],
   "source": []
  }
 ],
 "metadata": {
  "kernelspec": {
   "display_name": "Python 3.7.6 64-bit ('base': conda)",
   "language": "python",
   "name": "python37664bitbaseconda8f2870ef7b8b4a659a1cfb9279b52c39"
  },
  "language_info": {
   "codemirror_mode": {
    "name": "ipython",
    "version": 3
   },
   "file_extension": ".py",
   "mimetype": "text/x-python",
   "name": "python",
   "nbconvert_exporter": "python",
   "pygments_lexer": "ipython3",
   "version": "3.7.6"
  },
  "toc": {
   "base_numbering": 1,
   "nav_menu": {},
   "number_sections": true,
   "sideBar": true,
   "skip_h1_title": false,
   "title_cell": "Table of Contents",
   "title_sidebar": "Contents",
   "toc_cell": false,
   "toc_position": {
    "height": "calc(100% - 180px)",
    "left": "10px",
    "top": "150px",
    "width": "232.727px"
   },
   "toc_section_display": true,
   "toc_window_display": false
  }
 },
 "nbformat": 4,
 "nbformat_minor": 4
}
