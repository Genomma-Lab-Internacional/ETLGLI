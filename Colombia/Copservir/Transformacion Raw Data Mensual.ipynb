{
 "cells": [
  {
   "cell_type": "markdown",
   "metadata": {},
   "source": [
    "# Libraries"
   ]
  },
  {
   "cell_type": "code",
   "execution_count": 1,
   "metadata": {},
   "outputs": [
    {
     "data": {
      "application/javascript": [
       "if (!(\"Notification\" in window)) {\n",
       "    alert(\"This browser does not support desktop notifications, so the %%notify magic will not work.\");\n",
       "} else if (Notification.permission !== 'granted' && Notification.permission !== 'denied') {\n",
       "    Notification.requestPermission(function (permission) {\n",
       "        if(!('permission' in Notification)) {\n",
       "            Notification.permission = permission;\n",
       "        }\n",
       "    })\n",
       "}\n"
      ],
      "text/plain": [
       "<IPython.core.display.Javascript object>"
      ]
     },
     "metadata": {},
     "output_type": "display_data"
    }
   ],
   "source": [
    "import jupyternotify\n",
    "import os\n",
    "import pandas as pd\n",
    "import pandas.io.formats.excel\n",
    "from datetime import datetime\n",
    "pd.set_option('display.float_format', lambda x: '%.2f' % x)\n",
    "pandas.io.formats.excel.ExcelFormatter.header_style = None\n",
    "\n",
    "ip = get_ipython()\n",
    "ip.register_magics(jupyternotify.JupyterNotifyMagics)"
   ]
  },
  {
   "cell_type": "markdown",
   "metadata": {},
   "source": [
    "# Importación"
   ]
  },
  {
   "cell_type": "markdown",
   "metadata": {},
   "source": [
    "Al mes el cliente nos manda 2 archivos en vez de 1:\n",
    "\n",
    "- Inventario y Ventas por punto de venta (df_pdv)\n",
    "- Inventario por CEDIS y ventas por sucursal (df_suc)"
   ]
  },
  {
   "cell_type": "code",
   "execution_count": 2,
   "metadata": {},
   "outputs": [
    {
     "name": "stdout",
     "output_type": "stream",
     "text": [
      "Wall time: 787 ms\n"
     ]
    }
   ],
   "source": [
    "%%time\n",
    "anio = 2021\n",
    "semana = 9\n",
    "#path = '../../../../../../../../genommalabinternacional/Cristian Javier Sanchez Yepez - NoB2B/Copservir/Copservir Faltante/2021/S 9/'\n",
    "#path = '../../../../1Data/2Catalogue/'\n",
    "path = r\"C:\\Users\\jshernandezm\\genommalabinternacional\\Cristian Javier Sanchez Yepez - NoB2B\\Copservir\\Copservir Faltante\\2021\\S {0}\"\n",
    "df_pdv = pd.read_csv(path.format(semana) + '\\\\Reporte_Inventario_Ventas_PDV.csv', encoding='latin1')\n",
    "df_suc = pd.read_excel(path.format(semana) + '\\\\Reporte_Inventario_Ventas_Sucursal.xlsx', sheet_name='INVENTARIOS SUCURSALES', header=4)"
   ]
  },
  {
   "cell_type": "markdown",
   "metadata": {},
   "source": [
    "# Transformación inventarios por sucursal"
   ]
  },
  {
   "cell_type": "code",
   "execution_count": 3,
   "metadata": {},
   "outputs": [],
   "source": [
    "data_suc = df_suc[['Unnamed: 0', 'Unnamed: 1', 'BQUILLA', 'BOGOTA', 'BMANGA', 'CALI']].copy()\n",
    "\n",
    "data_suc.rename({'BQUILLA':'BAR', 'BOGOTA':'BOG', 'BMANGA':'BUC', 'CALI':'CAL'}, axis=1, inplace=True)\n",
    "data_suc.rename(dict(zip(data_suc.columns[:2], data_suc.loc[1].tolist()[:2])), axis=1, inplace=True)\n",
    "\n",
    "data_suc.drop([0, 1], axis=0, inplace=True)\n",
    "data_suc.reset_index(drop=True, inplace=True)\n",
    "# Datos por sucursal transformados\n",
    "data_suc_t = data_suc.melt(id_vars=['Codigo', 'Descripcion'], value_vars=['BAR', 'BOG', 'BUC', 'CAL'], var_name='codHoml', value_name='Cantidad Saldo')"
   ]
  },
  {
   "cell_type": "code",
   "execution_count": 4,
   "metadata": {},
   "outputs": [
    {
     "data": {
      "text/html": [
       "<div>\n",
       "<style scoped>\n",
       "    .dataframe tbody tr th:only-of-type {\n",
       "        vertical-align: middle;\n",
       "    }\n",
       "\n",
       "    .dataframe tbody tr th {\n",
       "        vertical-align: top;\n",
       "    }\n",
       "\n",
       "    .dataframe thead th {\n",
       "        text-align: right;\n",
       "    }\n",
       "</style>\n",
       "<table border=\"1\" class=\"dataframe\">\n",
       "  <thead>\n",
       "    <tr style=\"text-align: right;\">\n",
       "      <th></th>\n",
       "      <th>Codigo</th>\n",
       "      <th>Descripcion</th>\n",
       "      <th>BAR</th>\n",
       "      <th>BOG</th>\n",
       "      <th>BUC</th>\n",
       "      <th>CAL</th>\n",
       "    </tr>\n",
       "  </thead>\n",
       "  <tbody>\n",
       "    <tr>\n",
       "      <th>0</th>\n",
       "      <td>15512</td>\n",
       "      <td>JABON ASEPXIA NEUTRO BARRA X 100 GRS</td>\n",
       "      <td>0</td>\n",
       "      <td>0</td>\n",
       "      <td>0</td>\n",
       "      <td>0</td>\n",
       "    </tr>\n",
       "    <tr>\n",
       "      <th>1</th>\n",
       "      <td>15706</td>\n",
       "      <td>UNESIA CREMA ANTIMICOTICO TUBO X 20 GR</td>\n",
       "      <td>327</td>\n",
       "      <td>399</td>\n",
       "      <td>271</td>\n",
       "      <td>371</td>\n",
       "    </tr>\n",
       "    <tr>\n",
       "      <th>2</th>\n",
       "      <td>27543</td>\n",
       "      <td>MEDICASP CHAMPU CAPILAR ANTICASPA KETOCONAZOL ...</td>\n",
       "      <td>559</td>\n",
       "      <td>513</td>\n",
       "      <td>409</td>\n",
       "      <td>568</td>\n",
       "    </tr>\n",
       "    <tr>\n",
       "      <th>3</th>\n",
       "      <td>63944</td>\n",
       "      <td>CREMA SECANTE ASEPXIA ANTI IMPERFECCIONES CAMO...</td>\n",
       "      <td>0</td>\n",
       "      <td>0</td>\n",
       "      <td>0</td>\n",
       "      <td>0</td>\n",
       "    </tr>\n",
       "    <tr>\n",
       "      <th>4</th>\n",
       "      <td>63946</td>\n",
       "      <td>JABON ASEPXIA FORTE BARRA X 100 GRS</td>\n",
       "      <td>0</td>\n",
       "      <td>0</td>\n",
       "      <td>0</td>\n",
       "      <td>0</td>\n",
       "    </tr>\n",
       "  </tbody>\n",
       "</table>\n",
       "</div>"
      ],
      "text/plain": [
       "  Codigo                                        Descripcion  BAR  BOG  BUC  \\\n",
       "0  15512               JABON ASEPXIA NEUTRO BARRA X 100 GRS    0    0    0   \n",
       "1  15706             UNESIA CREMA ANTIMICOTICO TUBO X 20 GR  327  399  271   \n",
       "2  27543  MEDICASP CHAMPU CAPILAR ANTICASPA KETOCONAZOL ...  559  513  409   \n",
       "3  63944  CREMA SECANTE ASEPXIA ANTI IMPERFECCIONES CAMO...    0    0    0   \n",
       "4  63946                JABON ASEPXIA FORTE BARRA X 100 GRS    0    0    0   \n",
       "\n",
       "   CAL  \n",
       "0    0  \n",
       "1  371  \n",
       "2  568  \n",
       "3    0  \n",
       "4    0  "
      ]
     },
     "execution_count": 4,
     "metadata": {},
     "output_type": "execute_result"
    }
   ],
   "source": [
    "data_suc[:5]"
   ]
  },
  {
   "cell_type": "code",
   "execution_count": 5,
   "metadata": {},
   "outputs": [],
   "source": [
    "data_suc_t['Mostrador'] = data_suc_t['codHoml'].map({'BAR':'BARRANQUILLA', 'BOG':'BOGOTA', 'BUC':'BUCARAMANGA', 'CAL':'CALI'})\n",
    "data_suc_t['so'] = 0"
   ]
  },
  {
   "cell_type": "code",
   "execution_count": 6,
   "metadata": {},
   "outputs": [
    {
     "data": {
      "text/html": [
       "<div>\n",
       "<style scoped>\n",
       "    .dataframe tbody tr th:only-of-type {\n",
       "        vertical-align: middle;\n",
       "    }\n",
       "\n",
       "    .dataframe tbody tr th {\n",
       "        vertical-align: top;\n",
       "    }\n",
       "\n",
       "    .dataframe thead th {\n",
       "        text-align: right;\n",
       "    }\n",
       "</style>\n",
       "<table border=\"1\" class=\"dataframe\">\n",
       "  <thead>\n",
       "    <tr style=\"text-align: right;\">\n",
       "      <th></th>\n",
       "      <th>Codigo</th>\n",
       "      <th>Descripcion</th>\n",
       "      <th>codHoml</th>\n",
       "      <th>Cantidad Saldo</th>\n",
       "      <th>Mostrador</th>\n",
       "      <th>so</th>\n",
       "    </tr>\n",
       "  </thead>\n",
       "  <tbody>\n",
       "    <tr>\n",
       "      <th>0</th>\n",
       "      <td>15512</td>\n",
       "      <td>JABON ASEPXIA NEUTRO BARRA X 100 GRS</td>\n",
       "      <td>BAR</td>\n",
       "      <td>0</td>\n",
       "      <td>BARRANQUILLA</td>\n",
       "      <td>0</td>\n",
       "    </tr>\n",
       "    <tr>\n",
       "      <th>1</th>\n",
       "      <td>15706</td>\n",
       "      <td>UNESIA CREMA ANTIMICOTICO TUBO X 20 GR</td>\n",
       "      <td>BAR</td>\n",
       "      <td>327</td>\n",
       "      <td>BARRANQUILLA</td>\n",
       "      <td>0</td>\n",
       "    </tr>\n",
       "    <tr>\n",
       "      <th>2</th>\n",
       "      <td>27543</td>\n",
       "      <td>MEDICASP CHAMPU CAPILAR ANTICASPA KETOCONAZOL ...</td>\n",
       "      <td>BAR</td>\n",
       "      <td>559</td>\n",
       "      <td>BARRANQUILLA</td>\n",
       "      <td>0</td>\n",
       "    </tr>\n",
       "    <tr>\n",
       "      <th>3</th>\n",
       "      <td>63944</td>\n",
       "      <td>CREMA SECANTE ASEPXIA ANTI IMPERFECCIONES CAMO...</td>\n",
       "      <td>BAR</td>\n",
       "      <td>0</td>\n",
       "      <td>BARRANQUILLA</td>\n",
       "      <td>0</td>\n",
       "    </tr>\n",
       "    <tr>\n",
       "      <th>4</th>\n",
       "      <td>63946</td>\n",
       "      <td>JABON ASEPXIA FORTE BARRA X 100 GRS</td>\n",
       "      <td>BAR</td>\n",
       "      <td>0</td>\n",
       "      <td>BARRANQUILLA</td>\n",
       "      <td>0</td>\n",
       "    </tr>\n",
       "    <tr>\n",
       "      <th>...</th>\n",
       "      <td>...</td>\n",
       "      <td>...</td>\n",
       "      <td>...</td>\n",
       "      <td>...</td>\n",
       "      <td>...</td>\n",
       "      <td>...</td>\n",
       "    </tr>\n",
       "    <tr>\n",
       "      <th>875</th>\n",
       "      <td>13264</td>\n",
       "      <td>POLVO ASEPXIA MATIZANTE</td>\n",
       "      <td>CAL</td>\n",
       "      <td>0</td>\n",
       "      <td>CALI</td>\n",
       "      <td>0</td>\n",
       "    </tr>\n",
       "    <tr>\n",
       "      <th>876</th>\n",
       "      <td>13262</td>\n",
       "      <td>CREMA CORPORAL CICATRICURE ESPECIALIZADA REAFI...</td>\n",
       "      <td>CAL</td>\n",
       "      <td>0</td>\n",
       "      <td>CALI</td>\n",
       "      <td>0</td>\n",
       "    </tr>\n",
       "    <tr>\n",
       "      <th>877</th>\n",
       "      <td>13261</td>\n",
       "      <td>CREMA CORPORAL CICATRICURE ESPECIALIZADA PREVE...</td>\n",
       "      <td>CAL</td>\n",
       "      <td>0</td>\n",
       "      <td>CALI</td>\n",
       "      <td>0</td>\n",
       "    </tr>\n",
       "    <tr>\n",
       "      <th>878</th>\n",
       "      <td>13258</td>\n",
       "      <td>CREMA CORPORAL CICATRICURE ESPECIALIZADA PREVE...</td>\n",
       "      <td>CAL</td>\n",
       "      <td>0</td>\n",
       "      <td>CALI</td>\n",
       "      <td>0</td>\n",
       "    </tr>\n",
       "    <tr>\n",
       "      <th>879</th>\n",
       "      <td>13257</td>\n",
       "      <td>ASEPXIA GEL FACIAL Y CORPORAL</td>\n",
       "      <td>CAL</td>\n",
       "      <td>0</td>\n",
       "      <td>CALI</td>\n",
       "      <td>0</td>\n",
       "    </tr>\n",
       "  </tbody>\n",
       "</table>\n",
       "<p>880 rows × 6 columns</p>\n",
       "</div>"
      ],
      "text/plain": [
       "    Codigo                                        Descripcion codHoml  \\\n",
       "0    15512               JABON ASEPXIA NEUTRO BARRA X 100 GRS     BAR   \n",
       "1    15706             UNESIA CREMA ANTIMICOTICO TUBO X 20 GR     BAR   \n",
       "2    27543  MEDICASP CHAMPU CAPILAR ANTICASPA KETOCONAZOL ...     BAR   \n",
       "3    63944  CREMA SECANTE ASEPXIA ANTI IMPERFECCIONES CAMO...     BAR   \n",
       "4    63946                JABON ASEPXIA FORTE BARRA X 100 GRS     BAR   \n",
       "..     ...                                                ...     ...   \n",
       "875  13264                        POLVO ASEPXIA MATIZANTE         CAL   \n",
       "876  13262  CREMA CORPORAL CICATRICURE ESPECIALIZADA REAFI...     CAL   \n",
       "877  13261  CREMA CORPORAL CICATRICURE ESPECIALIZADA PREVE...     CAL   \n",
       "878  13258  CREMA CORPORAL CICATRICURE ESPECIALIZADA PREVE...     CAL   \n",
       "879  13257                  ASEPXIA GEL FACIAL Y CORPORAL         CAL   \n",
       "\n",
       "    Cantidad Saldo     Mostrador  so  \n",
       "0                0  BARRANQUILLA   0  \n",
       "1              327  BARRANQUILLA   0  \n",
       "2              559  BARRANQUILLA   0  \n",
       "3                0  BARRANQUILLA   0  \n",
       "4                0  BARRANQUILLA   0  \n",
       "..             ...           ...  ..  \n",
       "875              0          CALI   0  \n",
       "876              0          CALI   0  \n",
       "877              0          CALI   0  \n",
       "878              0          CALI   0  \n",
       "879              0          CALI   0  \n",
       "\n",
       "[880 rows x 6 columns]"
      ]
     },
     "execution_count": 6,
     "metadata": {},
     "output_type": "execute_result"
    }
   ],
   "source": [
    "data_suc_t"
   ]
  },
  {
   "cell_type": "code",
   "execution_count": 7,
   "metadata": {},
   "outputs": [
    {
     "data": {
      "text/plain": [
       "63974"
      ]
     },
     "execution_count": 7,
     "metadata": {},
     "output_type": "execute_result"
    }
   ],
   "source": [
    "data_suc_t['Cantidad Saldo'].sum()"
   ]
  },
  {
   "cell_type": "markdown",
   "metadata": {},
   "source": [
    "# Transformación inventarios y ventas por PDV"
   ]
  },
  {
   "cell_type": "code",
   "execution_count": 8,
   "metadata": {},
   "outputs": [],
   "source": [
    "data_pdv = df_pdv[['PDV', 'NOMBRE PDV', 'COD', 'DESCRIPCION', 'Inv Und Total', 'Vta Und Total']].copy()"
   ]
  },
  {
   "cell_type": "markdown",
   "metadata": {},
   "source": [
    "# Concatenación de inventario y stock"
   ]
  },
  {
   "cell_type": "code",
   "execution_count": 9,
   "metadata": {},
   "outputs": [],
   "source": [
    "def homolog_codigos(codigo):\n",
    "    \n",
    "    dict_locales = {'400000000':'4E8', '4000000':'4E6', '400000':'4E5',\n",
    "                    '40000':'4E4', '4000':'4E3', '400':'4E2', '40':'4E1',\n",
    "                    '3000000000':'3E9', '300000000':'3E8', '30000000':'3E7',\n",
    "                    '3000000':'3E6', '300000':'3E5', '30000':'3E4', \n",
    "                    '3000':'3E3', '30':'3E1', '200000000':'2E8', '20000000':'2E7',\n",
    "                    '200000':'2E5', '20000':'2E4', '200':'2E2',  '20':'2E1',\n",
    "                    '1000000000':'1E9', '100000000':'1E8', '10000000':'1E7',\n",
    "                    '100000':'1E5', '10000':'1E4', '1000':'1E3', '100':'1E2', '10':'1E1'}\n",
    "    \n",
    "    try:\n",
    "        return dict_locales[codigo]\n",
    "    except:\n",
    "        return codigo"
   ]
  },
  {
   "cell_type": "code",
   "execution_count": 10,
   "metadata": {},
   "outputs": [],
   "source": [
    "data_pdv['PDV'] = data_pdv['PDV'].astype(str)\n",
    "data_pdv['PDV'] = data_pdv['PDV'].map(homolog_codigos)"
   ]
  },
  {
   "cell_type": "code",
   "execution_count": 11,
   "metadata": {},
   "outputs": [],
   "source": [
    "data_suc_t.rename({'Codigo':'Código producto', 'Descripcion':'Producto'}, axis=1, inplace=True)"
   ]
  },
  {
   "cell_type": "code",
   "execution_count": 12,
   "metadata": {},
   "outputs": [],
   "source": [
    "data_pdv.rename({'PDV':'codHoml', 'NOMBRE PDV':'Mostrador', 'COD':'Código producto', 'DESCRIPCION':'Producto', 'Inv Und Total':'Cantidad Saldo', 'Vta Und Total':'so'}, axis=1, inplace=True)\n",
    "# Concatenación de ambos datos (pdv y suc)\n",
    "data = pd.concat([data_pdv, data_suc_t])\n",
    "data['Cantidad Saldo'] = data['Cantidad Saldo'].astype(float)"
   ]
  },
  {
   "cell_type": "code",
   "execution_count": 13,
   "metadata": {},
   "outputs": [
    {
     "data": {
      "text/plain": [
       "229061.79"
      ]
     },
     "execution_count": 13,
     "metadata": {},
     "output_type": "execute_result"
    }
   ],
   "source": [
    "data['Cantidad Saldo'].sum()"
   ]
  },
  {
   "cell_type": "code",
   "execution_count": 42,
   "metadata": {},
   "outputs": [
    {
     "data": {
      "text/plain": [
       "45416.92"
      ]
     },
     "execution_count": 42,
     "metadata": {},
     "output_type": "execute_result"
    }
   ],
   "source": [
    "data['so'].sum()"
   ]
  },
  {
   "cell_type": "code",
   "execution_count": 14,
   "metadata": {},
   "outputs": [
    {
     "data": {
      "text/plain": [
       "codHoml            0\n",
       "Mostrador          0\n",
       "Código producto    0\n",
       "Producto           0\n",
       "Cantidad Saldo     0\n",
       "so                 0\n",
       "dtype: int64"
      ]
     },
     "execution_count": 14,
     "metadata": {},
     "output_type": "execute_result"
    }
   ],
   "source": [
    "data.isnull().sum()"
   ]
  },
  {
   "cell_type": "code",
   "execution_count": 15,
   "metadata": {},
   "outputs": [],
   "source": [
    "data = data.pivot_table(index=['codHoml', 'Mostrador', 'Código producto', 'Producto'], values=['Cantidad Saldo', 'so'], aggfunc='sum').reset_index()"
   ]
  },
  {
   "cell_type": "markdown",
   "metadata": {},
   "source": [
    "# Desacumulación"
   ]
  },
  {
   "cell_type": "code",
   "execution_count": 16,
   "metadata": {},
   "outputs": [
    {
     "name": "stdout",
     "output_type": "stream",
     "text": [
      "Wall time: 15.5 s\n"
     ]
    }
   ],
   "source": [
    "%%time\n",
    "path = '../../../../../../../02Paises/Colombia/Copservir/Layout/'\n",
    "#files = ['Copservir_2021_10.xlsx', 'Copservir_2021_11.xlsx', 'Copservir_2021_12.xlsx', 'Copservir_2021_13.xlsx']\n",
    "files = ['Copservir_2021_06.xlsx', 'Copservir_2021_07.xlsx', 'Copservir_2021_08.xlsx']\n",
    "\n",
    "df_acum_ant = pd.DataFrame()\n",
    "for f in files:\n",
    "    df_acum_ant = pd.concat([df_acum_ant, pd.read_excel(path + f)])"
   ]
  },
  {
   "cell_type": "code",
   "execution_count": 17,
   "metadata": {},
   "outputs": [
    {
     "data": {
      "text/plain": [
       "codHoml            0\n",
       "Mostrador          0\n",
       "Código producto    0\n",
       "Producto           0\n",
       "Cantidad Saldo     0\n",
       "so                 0\n",
       "dtype: int64"
      ]
     },
     "execution_count": 17,
     "metadata": {},
     "output_type": "execute_result"
    }
   ],
   "source": [
    "df_acum_ant.isnull().sum()"
   ]
  },
  {
   "cell_type": "code",
   "execution_count": 18,
   "metadata": {},
   "outputs": [],
   "source": [
    "data_acum_ant = df_acum_ant.pivot_table(index=['codHoml', 'Mostrador', 'Código producto', 'Producto'], values=['Cantidad Saldo', 'so'], aggfunc='sum').reset_index()"
   ]
  },
  {
   "cell_type": "code",
   "execution_count": 38,
   "metadata": {},
   "outputs": [
    {
     "data": {
      "text/plain": [
       "(240540, 6)"
      ]
     },
     "execution_count": 38,
     "metadata": {},
     "output_type": "execute_result"
    }
   ],
   "source": [
    "df_acum_ant.shape"
   ]
  },
  {
   "cell_type": "code",
   "execution_count": 19,
   "metadata": {},
   "outputs": [
    {
     "data": {
      "text/plain": [
       "(85849, 6)"
      ]
     },
     "execution_count": 19,
     "metadata": {},
     "output_type": "execute_result"
    }
   ],
   "source": [
    "data_acum_ant.shape"
   ]
  },
  {
   "cell_type": "code",
   "execution_count": 20,
   "metadata": {},
   "outputs": [],
   "source": [
    "data_acum_ant['codHoml'] = data_acum_ant['codHoml'].astype(str)\n",
    "data_acum_ant['Código producto'] = data_acum_ant['Código producto'].astype(str)\n",
    "data_acum_ant['ID'] = data_acum_ant['codHoml'] + data_acum_ant['Código producto']"
   ]
  },
  {
   "cell_type": "markdown",
   "metadata": {},
   "source": [
    "Nos quedamos con un solo ID, ya que al carga el codHoml, lo puede cargar diferente. Por ejemplo en vez de cargar 5E2, carga 500."
   ]
  },
  {
   "cell_type": "code",
   "execution_count": 21,
   "metadata": {},
   "outputs": [
    {
     "name": "stdout",
     "output_type": "stream",
     "text": [
      "Wall time: 1min 38s\n"
     ]
    }
   ],
   "source": [
    "%%time\n",
    "ids_reps = data_acum_ant['ID'].value_counts()[data_acum_ant['ID'].value_counts() > 1].index.tolist()\n",
    "for i in ids_reps:\n",
    "    nombres_sku = data_acum_ant.loc[data_acum_ant['ID'] == i, 'Producto'].unique().tolist()\n",
    "    mostradores = data_acum_ant.loc[data_acum_ant['ID'] == i, 'Mostrador'].unique().tolist()\n",
    "    data_acum_ant.loc[data_acum_ant['ID'] == i, 'Producto'] = nombres_sku[-1]\n",
    "    data_acum_ant.loc[data_acum_ant['ID'] == i, 'Mostrador'] = mostradores[0]"
   ]
  },
  {
   "cell_type": "code",
   "execution_count": 22,
   "metadata": {},
   "outputs": [],
   "source": [
    "data_acum_ant = data_acum_ant.pivot_table(index=['codHoml', 'Mostrador', 'Código producto', 'Producto'], values=['Cantidad Saldo', 'so'], aggfunc='sum').reset_index()"
   ]
  },
  {
   "cell_type": "code",
   "execution_count": 23,
   "metadata": {},
   "outputs": [
    {
     "data": {
      "text/plain": [
       "(82212, 6)"
      ]
     },
     "execution_count": 23,
     "metadata": {},
     "output_type": "execute_result"
    }
   ],
   "source": [
    "data_acum_ant.shape"
   ]
  },
  {
   "cell_type": "code",
   "execution_count": 24,
   "metadata": {},
   "outputs": [],
   "source": [
    "data_acum_ant['ID'] = data_acum_ant['codHoml'] + data_acum_ant['Código producto']"
   ]
  },
  {
   "cell_type": "code",
   "execution_count": 25,
   "metadata": {},
   "outputs": [],
   "source": [
    "data['codHoml'] = data['codHoml'].astype(str)\n",
    "data['Código producto'] = data['Código producto'].astype(str)\n",
    "data['ID'] = data['codHoml'] + data['Código producto']"
   ]
  },
  {
   "cell_type": "code",
   "execution_count": 26,
   "metadata": {},
   "outputs": [],
   "source": [
    "data_desac = pd.merge(data, data_acum_ant, on='ID', how='left')"
   ]
  },
  {
   "cell_type": "code",
   "execution_count": 27,
   "metadata": {},
   "outputs": [
    {
     "data": {
      "text/plain": [
       "45416.92"
      ]
     },
     "execution_count": 27,
     "metadata": {},
     "output_type": "execute_result"
    }
   ],
   "source": [
    "data_desac['so_x'].sum()"
   ]
  },
  {
   "cell_type": "code",
   "execution_count": 28,
   "metadata": {},
   "outputs": [
    {
     "data": {
      "text/plain": [
       "34736.510485925995"
      ]
     },
     "execution_count": 28,
     "metadata": {},
     "output_type": "execute_result"
    }
   ],
   "source": [
    "data_desac['so_y'].sum()"
   ]
  },
  {
   "cell_type": "code",
   "execution_count": 29,
   "metadata": {},
   "outputs": [],
   "source": [
    "data_desac['so_y'].fillna(0, inplace=True)"
   ]
  },
  {
   "cell_type": "code",
   "execution_count": 30,
   "metadata": {},
   "outputs": [],
   "source": [
    "data_desac['so'] = data_desac['so_x'] - data_desac['so_y']"
   ]
  },
  {
   "cell_type": "code",
   "execution_count": 31,
   "metadata": {},
   "outputs": [
    {
     "data": {
      "text/plain": [
       "12936.971250061"
      ]
     },
     "execution_count": 31,
     "metadata": {},
     "output_type": "execute_result"
    }
   ],
   "source": [
    "data_desac['so'].apply(lambda x: 0 if x < 0 else x).sum()"
   ]
  },
  {
   "cell_type": "code",
   "execution_count": 32,
   "metadata": {},
   "outputs": [
    {
     "data": {
      "text/plain": [
       "Index(['codHoml_x', 'Mostrador_x', 'Código producto_x', 'Producto_x',\n",
       "       'Cantidad Saldo_x', 'so_x', 'ID', 'codHoml_y', 'Mostrador_y',\n",
       "       'Código producto_y', 'Producto_y', 'Cantidad Saldo_y', 'so_y', 'so'],\n",
       "      dtype='object')"
      ]
     },
     "execution_count": 32,
     "metadata": {},
     "output_type": "execute_result"
    }
   ],
   "source": [
    "data_desac.columns"
   ]
  },
  {
   "cell_type": "code",
   "execution_count": 33,
   "metadata": {},
   "outputs": [
    {
     "data": {
      "text/plain": [
       "codHoml_x               0\n",
       "Mostrador_x             0\n",
       "Código producto_x       0\n",
       "Producto_x              0\n",
       "Cantidad Saldo_x        0\n",
       "so_x                    0\n",
       "ID                      0\n",
       "codHoml_y            1242\n",
       "Mostrador_y          1242\n",
       "Código producto_y    1242\n",
       "Producto_y           1242\n",
       "Cantidad Saldo_y     1242\n",
       "so_y                    0\n",
       "so                      0\n",
       "dtype: int64"
      ]
     },
     "execution_count": 33,
     "metadata": {},
     "output_type": "execute_result"
    }
   ],
   "source": [
    "data_desac.isnull().sum()"
   ]
  },
  {
   "cell_type": "code",
   "execution_count": 34,
   "metadata": {},
   "outputs": [],
   "source": [
    "data_desac_f = data_desac[['codHoml_x', 'Mostrador_x', 'Código producto_x', 'Producto_x', 'Cantidad Saldo_x', 'so']].copy()"
   ]
  },
  {
   "cell_type": "code",
   "execution_count": 35,
   "metadata": {},
   "outputs": [],
   "source": [
    "rename_f = {'codHoml_x':'codHoml', 'Mostrador_x':'Mostrador', 'Código producto_x':'Código producto', 'Producto_x':'Producto', 'Cantidad Saldo_x':'Cantidad Saldo'}\n",
    "data_desac_f.rename(rename_f, axis=1, inplace=True)"
   ]
  },
  {
   "cell_type": "code",
   "execution_count": 36,
   "metadata": {},
   "outputs": [
    {
     "data": {
      "text/plain": [
       "codHoml            0\n",
       "Mostrador          0\n",
       "Código producto    0\n",
       "Producto           0\n",
       "Cantidad Saldo     0\n",
       "so                 0\n",
       "dtype: int64"
      ]
     },
     "execution_count": 36,
     "metadata": {},
     "output_type": "execute_result"
    },
    {
     "data": {
      "application/javascript": [
       "$(document).ready(\n",
       "    function() {\n",
       "        function appendUniqueDiv(){\n",
       "            // append a div with our uuid so we can check that it's already\n",
       "            // been sent and avoid duplicates on page reload\n",
       "            var notifiedDiv = document.createElement(\"div\")\n",
       "            notifiedDiv.id = \"bda41eb1-3999-42f0-be1b-0dc355951396\"\n",
       "            element.append(notifiedDiv)\n",
       "        }\n",
       "\n",
       "        // only send notifications if the pageload is complete; this will\n",
       "        // help stop extra notifications when a saved notebook is loaded,\n",
       "        // which during testing gives us state \"interactive\", not \"complete\"\n",
       "        if (document.readyState === 'complete') {\n",
       "            // check for the div that signifies that the notification\n",
       "            // was already sent\n",
       "            if (document.getElementById(\"bda41eb1-3999-42f0-be1b-0dc355951396\") === null) {\n",
       "                var notificationPayload = {\"requireInteraction\": false, \"icon\": \"/static/base/images/favicon.ico\", \"body\": \"\\u00a1Listo, mae!\"};\n",
       "                if (Notification.permission !== 'denied') {\n",
       "                    if (Notification.permission !== 'granted') { \n",
       "                        Notification.requestPermission(function (permission) {\n",
       "                            if(!('permission' in Notification)) {\n",
       "                                Notification.permission = permission\n",
       "                            }\n",
       "                        })\n",
       "                    }\n",
       "                    if (Notification.permission === 'granted') {\n",
       "                    var notification = new Notification(\"Jupyter Notebook\", notificationPayload)\n",
       "                    appendUniqueDiv()\n",
       "                    notification.onclick = function () {\n",
       "                        window.focus();\n",
       "                        this.close();\n",
       "                        };\n",
       "                    } \n",
       "                }     \n",
       "            }\n",
       "        }\n",
       "    }\n",
       ")\n"
      ],
      "text/plain": [
       "<IPython.core.display.Javascript object>"
      ]
     },
     "metadata": {},
     "output_type": "display_data"
    }
   ],
   "source": [
    "%%notify -m \"¡Listo, mae!\"\n",
    "data_desac_f.isnull().sum()"
   ]
  },
  {
   "cell_type": "markdown",
   "metadata": {},
   "source": [
    "# Exportación de datos"
   ]
  },
  {
   "cell_type": "code",
   "execution_count": 44,
   "metadata": {},
   "outputs": [],
   "source": [
    "data_desac_f[['codHoml', 'Mostrador', 'Código producto', 'Producto', 'Cantidad Saldo', 'so']].to_excel('../../../../../../../02Paises/Colombia/Copservir/Layout/Copservir_' + str(anio) + '_' + str(semana).zfill(2) + '.xlsx', index=False, sheet_name=str(anio) + '_' + str(semana).zfill(2))"
   ]
  },
  {
   "cell_type": "code",
   "execution_count": 37,
   "metadata": {},
   "outputs": [
    {
     "data": {
      "text/plain": [
       "Cantidad Saldo   229061.79\n",
       "so                10680.41\n",
       "dtype: float64"
      ]
     },
     "execution_count": 37,
     "metadata": {},
     "output_type": "execute_result"
    }
   ],
   "source": [
    "data_desac_f[['Cantidad Saldo', 'so']].sum()"
   ]
  },
  {
   "cell_type": "code",
   "execution_count": null,
   "metadata": {},
   "outputs": [],
   "source": []
  }
 ],
 "metadata": {
  "kernelspec": {
   "display_name": "Python 3.7.6 64-bit ('base': conda)",
   "language": "python",
   "name": "python37664bitbaseconda8f2870ef7b8b4a659a1cfb9279b52c39"
  },
  "language_info": {
   "codemirror_mode": {
    "name": "ipython",
    "version": 3
   },
   "file_extension": ".py",
   "mimetype": "text/x-python",
   "name": "python",
   "nbconvert_exporter": "python",
   "pygments_lexer": "ipython3",
   "version": "3.7.6"
  },
  "toc": {
   "base_numbering": 1,
   "nav_menu": {},
   "number_sections": true,
   "sideBar": true,
   "skip_h1_title": false,
   "title_cell": "Table of Contents",
   "title_sidebar": "Contents",
   "toc_cell": false,
   "toc_position": {
    "height": "calc(100% - 180px)",
    "left": "10px",
    "top": "150px",
    "width": "232.727px"
   },
   "toc_section_display": true,
   "toc_window_display": false
  }
 },
 "nbformat": 4,
 "nbformat_minor": 4
}
