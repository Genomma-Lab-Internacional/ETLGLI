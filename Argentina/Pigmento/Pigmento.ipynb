{
 "cells": [
  {
   "cell_type": "markdown",
   "metadata": {},
   "source": [
    "# Libraries"
   ]
  },
  {
   "cell_type": "code",
   "execution_count": 1,
   "metadata": {},
   "outputs": [],
   "source": [
    "import pandas as pd\n",
    "from datetime import datetime\n",
    "import pyodbc\n",
    "import shutil\n",
    "import os\n",
    "from openpyxl import load_workbook"
   ]
  },
  {
   "cell_type": "markdown",
   "metadata": {},
   "source": [
    "# Parameters"
   ]
  },
  {
   "cell_type": "code",
   "execution_count": 2,
   "metadata": {},
   "outputs": [],
   "source": [
    "year = 2021\n",
    "week = 23\n",
    "path = r'C:\\Users\\jshernandezm\\genommalabinternacional\\Francisco Jose Delfino - Stocks_canal\\Sell Out - No B2b\\Pigmento'\n",
    "file_name = '{0}_{1}_Pigmento.xlsx'"
   ]
  },
  {
   "cell_type": "markdown",
   "metadata": {},
   "source": [
    "# Connections to DWH"
   ]
  },
  {
   "cell_type": "code",
   "execution_count": 3,
   "metadata": {},
   "outputs": [],
   "source": [
    "conn1 = pyodbc.connect('Driver={SQL Server};'\n",
    "                     'Server=SFEDWH01;'\n",
    "                     'Database=Gnm_DWH;'\n",
    "                     'Trusted_Connection=yes;')\n",
    "\n",
    "conn2 = pyodbc.connect('Driver={SQL Server};'\n",
    "                     'Server=SFEDWH01;'\n",
    "                     'Database=Gnm_MasterOp;'\n",
    "                     'Trusted_Connection=yes;')\n",
    "\n",
    "query_days = '''SELECT TmpFecha\n",
    "                FROM Gnm_DWH.dbo.Dim_Tiempo\n",
    "                WHERE TmpAnioSemanaGenomma = {0} AND TmpSemanaAnioGenomma = {1}'''\n",
    "\n",
    "query_sucs = '''SELECT DISTINCT SUC.SucCodCliente, SUC.SucId\n",
    "                    FROM (SELECT DISTINCT PaisNombre, CadID FROM Gnm_MasterOp.dbo.vw_EstructuraClientesSegPTVTotal\n",
    "                    WHERE PaisNombre = 'Argentina') AS CLIE\n",
    "                LEFT JOIN (\n",
    "                    SELECT DISTINCT SucId, SucCodCliente, CadId FROM Gnm_MasterOp.dbo.vw_EstructuraSucursalesTotal) AS SUC\n",
    "                ON CLIE.CadID = SUC.CadID \n",
    "                '''"
   ]
  },
  {
   "cell_type": "markdown",
   "metadata": {},
   "source": [
    "# Load Data"
   ]
  },
  {
   "cell_type": "code",
   "execution_count": 15,
   "metadata": {},
   "outputs": [],
   "source": [
    "# dates\n",
    "df_days = pd.read_sql(query_days.format(year, week), conn1)\n",
    "# id sucursales\n",
    "df_sucs = pd.read_sql(query_sucs, conn2)"
   ]
  },
  {
   "cell_type": "code",
   "execution_count": 4,
   "metadata": {},
   "outputs": [],
   "source": [
    "# data Pigmento\n",
    "df = pd.read_excel(path + '\\\\' + file_name.format(year, week), header=1)"
   ]
  },
  {
   "cell_type": "markdown",
   "metadata": {},
   "source": [
    "# Clean Data"
   ]
  },
  {
   "cell_type": "code",
   "execution_count": 5,
   "metadata": {},
   "outputs": [],
   "source": [
    "# Ignore rows with no data\n",
    "try:\n",
    "    not_null = df[df['PROVEEDOR '].isnull()].index.min()\n",
    "except:\n",
    "    not_null = df[df['Tot.Stock Val    '].isnull()].index.min()\n",
    "if pd.isnull(not_null):\n",
    "    not_null = df.shape[0]\n",
    "df = df[0:not_null].copy()\n",
    "# Filter data\n",
    "df = df[df['COD_PROV  '].notnull()].copy()\n",
    "df.reset_index(inplace=True, drop=True)\n",
    "# Change type\n",
    "df['EAN'] = df['COD_PROV  '].astype('int64')"
   ]
  },
  {
   "cell_type": "code",
   "execution_count": 6,
   "metadata": {},
   "outputs": [],
   "source": [
    "# Columns related to stock units\n",
    "un_stock_cols = [c for c in df.columns if c.endswith('Stock')]\n",
    "# Columns related to stock value\n",
    "val_stock_cols = [c for c in df.columns if c.endswith('Stock Val.')]\n",
    "# Columns related to sell out units\n",
    "un_so_cols = [c for c in df.columns if c.endswith('Unid.Vend')]\n",
    "# Columns related to sell out value\n",
    "val_so_cols = [c for c in df.columns if c.endswith('Unid.Val. ')]\n",
    "# Columns related to sku\n",
    "sku_cols = ['ARTICULO  ', 'EAN', 'DESCRIP   ']"
   ]
  },
  {
   "cell_type": "code",
   "execution_count": 7,
   "metadata": {},
   "outputs": [],
   "source": [
    "# Remove column 'Total Stock'\n",
    "if un_stock_cols[-1:][0] == 'Total Stock':\n",
    "    un_stock_cols.pop(len(un_stock_cols) - 1)"
   ]
  },
  {
   "cell_type": "code",
   "execution_count": 8,
   "metadata": {},
   "outputs": [],
   "source": [
    "# Unpivote the table into 4 dataframes\n",
    "# Stock Value\n",
    "df_sv = df[sku_cols + val_stock_cols].melt(id_vars=sku_cols, value_vars=val_stock_cols, var_name='Suc_vs', value_name='Monto Inv')\n",
    "# Units Stock\n",
    "df_us = df[['EAN'] + un_stock_cols].melt(id_vars=['EAN'], value_vars=un_stock_cols, var_name='Suc_uv', value_name='Unidades Inv')\n",
    "# Sell Out Value\n",
    "df_sov = df[sku_cols + val_so_cols].melt(id_vars=sku_cols, value_vars=val_so_cols, var_name='Suc_vso', value_name='Monto SO')\n",
    "# Units Sell Out\n",
    "df_uso = df[['EAN'] + un_so_cols].melt(id_vars=['EAN'], value_vars=un_so_cols, var_name='Suc_uso', value_name='Unidades SO')"
   ]
  },
  {
   "cell_type": "code",
   "execution_count": 9,
   "metadata": {},
   "outputs": [],
   "source": [
    "# Create IDs\n",
    "df_sv['ID'] = df_sv['EAN'].astype(str) + df_sv['Suc_vs'].apply(lambda x: x.split(' Stock Val.')[0])\n",
    "df_us['ID'] = df_us['EAN'].astype(str) + df_us['Suc_uv'].apply(lambda x: x.split(' Stock')[0])\n",
    "df_sov['ID'] = df_sov['EAN'].astype(str) + df_sov['Suc_vso'].apply(lambda x: x.split(' Unid.Val. ')[0])\n",
    "df_uso['ID'] = df_uso['EAN'].astype(str) + df_uso['Suc_uso'].apply(lambda x: x.split(' Unid.Vend')[0])\n",
    "# Merge data stock\n",
    "data_stock = df_us.merge(df_sv, on='ID', how='outer')\n",
    "# Merge data sell out\n",
    "data_so = df_uso.merge(df_sov, on='ID', how='outer')"
   ]
  },
  {
   "cell_type": "code",
   "execution_count": 10,
   "metadata": {},
   "outputs": [],
   "source": [
    "# Formatting data stock\n",
    "stock_final = data_stock.copy()\n",
    "stock_final['Fecha_Stock'] = df_days['TmpFecha'].max()\n",
    "stock_final['Cadena'] = 'Pigmento'\n",
    "stock_final['Descripcion_Local'] = stock_final['Suc_uv'].apply(lambda x: x.split(' Stock')[0])\n",
    "stock_final = stock_final.merge(df_sucs.rename({'SucCodCliente':'Descripcion_Local'}, axis=1), on='Descripcion_Local', how='left')\n",
    "stock_final.rename({'EAN_x':'EAN o UPC Genomma', 'Unidades Inv':'Unidades', 'ARTICULO  ':'Cod_Prod', 'DESCRIP   ':'Descripcion_Prod', 'Monto Inv':'Valores_Costo', 'SucId':'Cod_Local'}, axis=1, inplace=True)\n",
    "stock_final = stock_final[['Fecha_Stock', 'Cadena', 'Cod_Prod', 'EAN o UPC Genomma', 'Descripcion_Prod', 'Cod_Local', 'Descripcion_Local', 'Unidades', 'Valores_Costo']].copy()"
   ]
  },
  {
   "cell_type": "code",
   "execution_count": 11,
   "metadata": {},
   "outputs": [
    {
     "data": {
      "text/plain": [
       "array([], dtype=object)"
      ]
     },
     "execution_count": 11,
     "metadata": {},
     "output_type": "execute_result"
    }
   ],
   "source": [
    "stock_final.loc[stock_final['Cod_Local'].isnull(), 'Descripcion_Local'].unique()"
   ]
  },
  {
   "cell_type": "code",
   "execution_count": 12,
   "metadata": {},
   "outputs": [],
   "source": [
    "# Formatting data sell out\n",
    "so_final = data_so.copy()\n",
    "so_final['Fecha_Venta'] = df_days['TmpFecha'].max()\n",
    "so_final['Cadena'] = 'Pigmento'\n",
    "so_final['Descripcion_Local'] = so_final['Suc_uso'].apply(lambda x: x.split(' Unid.Vend')[0])\n",
    "so_final = so_final.merge(df_sucs.rename({'SucCodCliente':'Descripcion_Local'}, axis=1), on='Descripcion_Local', how='left')\n",
    "so_final.rename({'EAN_x':'EAN o UPC Genomma', 'Unidades SO':'Unidades', 'ARTICULO  ':'Cod_Prod de la Cadena', 'DESCRIP   ':'Descripcion_Prod', 'Monto SO':'Valores_Costo', 'SucId':'Cod_Local'}, axis=1, inplace=True)\n",
    "so_final = so_final[['Fecha_Venta', 'Cadena', 'Cod_Prod de la Cadena', 'EAN o UPC Genomma', 'Descripcion_Prod', 'Cod_Local', 'Descripcion_Local', 'Unidades', 'Valores_Costo']].copy()"
   ]
  },
  {
   "cell_type": "code",
   "execution_count": 13,
   "metadata": {},
   "outputs": [
    {
     "data": {
      "text/plain": [
       "array([], dtype=object)"
      ]
     },
     "execution_count": 13,
     "metadata": {},
     "output_type": "execute_result"
    }
   ],
   "source": [
    "so_final.loc[so_final['Cod_Local'].isnull(), 'Descripcion_Local'].unique()"
   ]
  },
  {
   "cell_type": "markdown",
   "metadata": {},
   "source": [
    "# Export data"
   ]
  },
  {
   "cell_type": "code",
   "execution_count": 4,
   "metadata": {},
   "outputs": [],
   "source": [
    "def write_layout(filename, df, sellout=True):\n",
    "    writer = pd.ExcelWriter(filename, engine='openpyxl', mode='a')\n",
    "    writer.book = load_workbook(filename)\n",
    "    writer.sheets = {ws.title:ws for ws in writer.book.worksheets}\n",
    "    if sellout == True:\n",
    "        df.to_excel(writer, sheet_name='Ventas', startcol=1, startrow=18, index=False, header=None)\n",
    "    else:\n",
    "        df.to_excel(writer, sheet_name='Stock', startcol=1, startrow=18, index=False, header=None)\n",
    "    writer.save()"
   ]
  },
  {
   "cell_type": "code",
   "execution_count": 15,
   "metadata": {},
   "outputs": [
    {
     "name": "stdout",
     "output_type": "stream",
     "text": [
      "Wall time: 8.66 s\n"
     ]
    }
   ],
   "source": [
    "%%time\n",
    "original = '../../../../../COL/1Data//2Catalogue/toISV/Formato No B2B Orig.xlsx'\n",
    "new_folder = '../../../../1Data/2Catalogue/toISV/S' + str(week)\n",
    "# Create a new directory\n",
    "try:\n",
    "    os.mkdir(new_folder)\n",
    "except:\n",
    "    pass\n",
    "filename = 'Formato No B2B PIGMENTO Sem '+ str(week)\n",
    "path_export = new_folder + '/' + filename +'.xlsx'\n",
    "# Copy layout with name <filename>\n",
    "shutil.copy(original, path_export)\n",
    "# Export in different sheets\n",
    "write_layout(path_export, so_final, True)\n",
    "write_layout(path_export, stock_final, False)"
   ]
  },
  {
   "cell_type": "code",
   "execution_count": 16,
   "metadata": {},
   "outputs": [
    {
     "name": "stdout",
     "output_type": "stream",
     "text": [
      "Datos listos en  2021 - 23\n",
      "-------------------- \n",
      "\n",
      "Datos listos en  2021 - 24\n",
      "-------------------- \n",
      "\n",
      "Datos listos en  2021 - 25\n",
      "-------------------- \n",
      "\n",
      "Datos listos en  2021 - 26\n",
      "-------------------- \n",
      "\n",
      "Datos listos en  2021 - 27\n",
      "-------------------- \n",
      "\n",
      "Datos listos en  2021 - 28\n",
      "-------------------- \n",
      "\n",
      "Datos listos en  2021 - 29\n",
      "-------------------- \n",
      "\n",
      "Datos listos en  2021 - 30\n",
      "-------------------- \n",
      "\n",
      "Wall time: 6.07 s\n"
     ]
    }
   ],
   "source": [
    "%%time\n",
    "#Iterate historic 2020 & 2021\n",
    "data = {'so':pd.DataFrame(), 'stock':pd.DataFrame()}\n",
    "locales_alta = []\n",
    "#year_week = [(y, w) for y in range(2020, 2022) for w in range(1, 53) if int(str(y) + str(w)) < 202118]\n",
    "year_week = [(2021, w) for w in range(23, 31)]\n",
    "for year, week in year_week:\n",
    "    path = r'C:\\Users\\jshernandezm\\genommalabinternacional\\Francisco Jose Delfino - Stocks_canal\\Sell Out - No B2b\\Pigmento'\n",
    "    file_name = '{0}_{1}_Pigmento.xlsx'\n",
    "\n",
    "    df_days = pd.read_sql(query_days.format(year, week), conn1)\n",
    "\n",
    "    df = pd.read_excel(path + '\\\\' + file_name.format(year, str(week).zfill(2)), header=1)\n",
    "    \n",
    "    try:\n",
    "        not_null = df[df['PROVEEDOR '].isnull()].index.min()\n",
    "    except:\n",
    "        try:\n",
    "            not_null = df[df['Tot.Stock Val    '].isnull()].index.min()\n",
    "        except:\n",
    "            df = pd.read_excel(path + '\\\\' + file_name.format(year, str(week).zfill(2)))\n",
    "            not_null = df[df['Tot.Stock Val    '].isnull()].index.min()\n",
    "        \n",
    "    if pd.isnull(not_null):\n",
    "        not_null = df.shape[0]\n",
    "    df.rename({'EAN':'COD_PROV  ', 'DESCRIPCION':'DESCRIP   '}, axis=1, inplace=True)\n",
    "    \n",
    "    \n",
    "    df = df[0:not_null].copy()\n",
    "    df = df[df['COD_PROV  '].notnull()].copy()\n",
    "    df.reset_index(inplace=True, drop=True)\n",
    "    df['EAN'] = df['COD_PROV  '].astype('int64')\n",
    "\n",
    "    un_stock_cols = [c for c in df.columns if c.endswith('Stock')]\n",
    "    val_stock_cols = [c for c in df.columns if c.endswith('Stock Val.')]\n",
    "    un_so_cols = [c for c in df.columns if c.endswith('Unid.Vend')]\n",
    "    val_so_cols = [c for c in df.columns if c.endswith('Unid.Val. ')]\n",
    "    #'DESCRIPCION'\n",
    "    sku_cols = ['ARTICULO  ', 'EAN', 'DESCRIP   ']\n",
    "\n",
    "    if un_stock_cols[-1:][0] == 'Total Stock':\n",
    "        un_stock_cols.pop(len(un_stock_cols) - 1)\n",
    "\n",
    "    df_vs = df[sku_cols + val_stock_cols].melt(id_vars=sku_cols, value_vars=val_stock_cols, var_name='Suc_vs', value_name='Monto Inv')\n",
    "    df_us = df[['EAN'] + un_stock_cols].melt(id_vars=['EAN'], value_vars=un_stock_cols, var_name='Suc_uv', value_name='Unidades Inv')\n",
    "    df_vso = df[sku_cols + val_so_cols].melt(id_vars=sku_cols, value_vars=val_so_cols, var_name='Suc_vso', value_name='Monto SO')\n",
    "    df_uso = df[['EAN'] + un_so_cols].melt(id_vars=['EAN'], value_vars=un_so_cols, var_name='Suc_uso', value_name='Unidades SO')\n",
    "    \n",
    "    df_us['ID'] = df_us['EAN'].astype(str) + df_us['Suc_uv'].apply(lambda x: x.split(' Stock')[0])\n",
    "    df_vs['ID'] = df_vs['EAN'].astype(str) + df_vs['Suc_vs'].apply(lambda x: x.split(' Stock Val.')[0])\n",
    "\n",
    "    df_uso['ID'] = df_uso['EAN'].astype(str) + df_uso['Suc_uso'].apply(lambda x: x.split(' Unid.Vend')[0])\n",
    "    df_vso['ID'] = df_vso['EAN'].astype(str) + df_vso['Suc_vso'].apply(lambda x: x.split(' Unid.Val. ')[0])\n",
    "\n",
    "    data_stock = df_us.merge(df_vs, on='ID', how='outer')\n",
    "    data_so = df_uso.merge(df_vso, on='ID', how='outer')\n",
    "\n",
    "    stock_final = data_stock.copy()\n",
    "    stock_final['Fecha_Stock'] = df_days['TmpFecha'].max()\n",
    "    stock_final['Cadena'] = 'Pigmento'\n",
    "    stock_final['Descripcion_Local'] = stock_final['Suc_uv'].apply(lambda x: x.split(' Stock')[0])\n",
    "    stock_final = stock_final.merge(df_sucs.rename({'SucCodCliente':'Descripcion_Local'}, axis=1), on='Descripcion_Local', how='left')\n",
    "    stock_final.rename({'EAN_x':'EAN o UPC Genomma', 'Unidades Inv':'Unidades', 'ARTICULO  ':'Cod_Prod', 'DESCRIP   ':'Descripcion_Prod', 'Monto Inv':'Valores_Costo', 'SucId':'Cod_Local'}, axis=1, inplace=True)\n",
    "    stock_final = stock_final[['Fecha_Stock', 'Cadena', 'Cod_Prod', 'EAN o UPC Genomma', 'Descripcion_Prod', 'Cod_Local', 'Descripcion_Local', 'Unidades', 'Valores_Costo']].copy()\n",
    "\n",
    "    if len(stock_final.loc[stock_final['Cod_Local'].isnull(), 'Descripcion_Local'].unique()) > 0:\n",
    "        locales_alta += so_final.loc[so_final['Cod_Local'].isnull(), 'Descripcion_Local'].unique().tolist()\n",
    "        print('Sucursales a dar de alta en ', year, '-', week)\n",
    "        print('-'*20, '\\n')\n",
    "    else:\n",
    "        so_final = data_so.copy()\n",
    "        so_final['Fecha_Venta'] = df_days['TmpFecha'].max()\n",
    "        so_final['Cadena'] = 'Pigmento'\n",
    "        so_final['Descripcion_Local'] = so_final['Suc_uso'].apply(lambda x: x.split(' Unid.Vend')[0])\n",
    "        so_final = so_final.merge(df_sucs.rename({'SucCodCliente':'Descripcion_Local'}, axis=1), on='Descripcion_Local', how='left')\n",
    "        so_final.rename({'EAN_x':'EAN o UPC Genomma', 'Unidades SO':'Unidades', 'ARTICULO  ':'Cod_Prod de la Cadena', 'DESCRIP   ':'Descripcion_Prod', 'Monto SO':'Valores_Costo', 'SucId':'Cod_Local'}, axis=1, inplace=True)\n",
    "        so_final = so_final[['Fecha_Venta', 'Cadena', 'Cod_Prod de la Cadena', 'EAN o UPC Genomma', 'Descripcion_Prod', 'Cod_Local', 'Descripcion_Local', 'Unidades', 'Valores_Costo']].copy()\n",
    "        \n",
    "        data['stock'] = pd.concat([data['stock'], stock_final])\n",
    "        data['so'] = pd.concat([data['so'], so_final])\n",
    "        print('Datos listos en ', year, '-', week)\n",
    "        print('-'*20, '\\n')"
   ]
  },
  {
   "cell_type": "code",
   "execution_count": 29,
   "metadata": {},
   "outputs": [
    {
     "name": "stdout",
     "output_type": "stream",
     "text": [
      "Wall time: 1min 11s\n"
     ]
    }
   ],
   "source": [
    "%%time\n",
    "original = '../../../../../COL/1Data//2Catalogue/toISV/Formato No B2B Orig.xlsx'\n",
    "new_folder = '../../../../1Data/2Catalogue/toISV/{0}/S{1}'.format(year, week)\n",
    "# Create a new directory\n",
    "try:\n",
    "    os.mkdir(new_folder)\n",
    "except:\n",
    "    pass\n",
    "filename = 'Formato No B2B PIGMENTO Sem '+ str(week)\n",
    "path_export = new_folder + '/' + filename +'.xlsx'\n",
    "# Copy layout with name <filename>\n",
    "shutil.copy(original, path_export)\n",
    "# Export in different sheets\n",
    "write_layout(path_export, data['so'], True)\n",
    "write_layout(path_export, data['stock'], False)"
   ]
  },
  {
   "cell_type": "code",
   "execution_count": null,
   "metadata": {},
   "outputs": [],
   "source": []
  }
 ],
 "metadata": {
  "kernelspec": {
   "display_name": "Python 3 (ipykernel)",
   "language": "python",
   "name": "python3"
  },
  "language_info": {
   "codemirror_mode": {
    "name": "ipython",
    "version": 3
   },
   "file_extension": ".py",
   "mimetype": "text/x-python",
   "name": "python",
   "nbconvert_exporter": "python",
   "pygments_lexer": "ipython3",
   "version": "3.8.10"
  },
  "toc": {
   "base_numbering": 1,
   "nav_menu": {},
   "number_sections": true,
   "sideBar": true,
   "skip_h1_title": false,
   "title_cell": "Table of Contents",
   "title_sidebar": "Contents",
   "toc_cell": false,
   "toc_position": {},
   "toc_section_display": true,
   "toc_window_display": false
  }
 },
 "nbformat": 4,
 "nbformat_minor": 4
}
