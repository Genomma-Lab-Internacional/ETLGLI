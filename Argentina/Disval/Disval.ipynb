{
 "cells": [
  {
   "cell_type": "markdown",
   "metadata": {},
   "source": [
    "# Libraries"
   ]
  },
  {
   "cell_type": "code",
   "execution_count": 1,
   "metadata": {},
   "outputs": [],
   "source": [
    "import pandas as pd\n",
    "from datetime import datetime\n",
    "import pyodbc\n",
    "import shutil\n",
    "import os\n",
    "from openpyxl import load_workbook"
   ]
  },
  {
   "cell_type": "markdown",
   "metadata": {},
   "source": [
    "# Parameters"
   ]
  },
  {
   "cell_type": "code",
   "execution_count": 2,
   "metadata": {},
   "outputs": [],
   "source": [
    "year = 2021\n",
    "week = 30\n",
    "path = r'C:\\Users\\jshernandezm\\genommalabinternacional\\Francisco Jose Delfino - Stocks_canal\\{0}\\Semana {1}'\n",
    "file_name = '{0}_{1}_Disval_INV.txt'"
   ]
  },
  {
   "cell_type": "markdown",
   "metadata": {},
   "source": [
    "# Connections to DWH"
   ]
  },
  {
   "cell_type": "code",
   "execution_count": 3,
   "metadata": {},
   "outputs": [],
   "source": [
    "conn1 = pyodbc.connect('Driver={SQL Server};'\n",
    "                     'Server=SFEDWH01;'\n",
    "                     'Database=Gnm_DWH;'\n",
    "                     'Trusted_Connection=yes;')\n",
    "\n",
    "conn2 = pyodbc.connect('Driver={SQL Server};'\n",
    "                     'Server=SFEDWH01;'\n",
    "                     'Database=Gnm_MasterOp;'\n",
    "                     'Trusted_Connection=yes;')\n",
    "\n",
    "query_days = '''SELECT TmpFecha\n",
    "                FROM Gnm_DWH.dbo.Dim_Tiempo\n",
    "                WHERE TmpAnioSemanaGenomma = {0} AND TmpSemanaAnioGenomma = {1}'''\n",
    "\n",
    "query_sucs = '''SELECT DISTINCT SUC.SucCodCliente, SUC.SucId\n",
    "                    FROM (SELECT DISTINCT PaisNombre, CadID FROM Gnm_MasterOp.dbo.vw_EstructuraClientesSegPTVTotal\n",
    "                    WHERE PaisNombre = 'Argentina') AS CLIE\n",
    "                LEFT JOIN (\n",
    "                    SELECT DISTINCT SucId, SucCodCliente, CadId FROM Gnm_MasterOp.dbo.vw_EstructuraSucursalesTotal) AS SUC\n",
    "                ON CLIE.CadID = SUC.CadID \n",
    "                '''"
   ]
  },
  {
   "cell_type": "markdown",
   "metadata": {},
   "source": [
    "# Stocks\n",
    "\n",
    "## Load data"
   ]
  },
  {
   "cell_type": "code",
   "execution_count": 4,
   "metadata": {},
   "outputs": [],
   "source": [
    "df_stock = pd.DataFrame()\n",
    "path = r'C:\\Users\\jshernandezm\\genommalabinternacional\\Francisco Jose Delfino - Stocks_canal\\{0}\\Semana {1}'\n",
    "# Dates\n",
    "df_days = pd.read_sql(query_days.format(year, week), conn1)\n",
    "# Search the file in differents locations\n",
    "try:\n",
    "    df = pd.read_csv(path.format(year, str(week).zfill(2)) + '\\\\' + file_name.format(year, str(week).zfill(2)), header=None)\n",
    "except:\n",
    "    path = r'C:\\Users\\jshernandezm\\genommalabinternacional\\Francisco Jose Delfino - Stocks_canal\\Stocks\\{0}\\Semana {1}'\n",
    "    df = pd.read_csv(path.format(year, str(week).zfill(2)) + '\\\\' + file_name.format(year, str(week).zfill(2)), header=None)\n",
    "# Assign date into the dataframe\n",
    "df['Fecha_Stock'] = df_days['TmpFecha'].max()\n",
    "df_stock = pd.concat([df_stock, df])"
   ]
  },
  {
   "cell_type": "markdown",
   "metadata": {},
   "source": [
    "## Clean Data"
   ]
  },
  {
   "cell_type": "code",
   "execution_count": 5,
   "metadata": {},
   "outputs": [],
   "source": [
    "# Formatting data stocks\n",
    "df_stock.rename(dict(zip(range(5), ['Cod_Cliente', 'EAN o UPC Genomma', 'Descripcion_Prod', 'Descripcion_Local', 'Unidades'])), axis=1, inplace=True)\n",
    "df_stock['Cadena'] = 'Disval'\n",
    "df_stock['Cod_Prod'] = df_stock['EAN o UPC Genomma']\n",
    "df_stock['Cod_Local'] = '89310'\n",
    "data_stock = df_stock[['Fecha_Stock', 'Cadena', 'Cod_Prod', 'EAN o UPC Genomma', 'Descripcion_Prod', 'Cod_Local', 'Descripcion_Local', 'Unidades']].copy()\n",
    "data_stock = data_stock[~data_stock['EAN o UPC Genomma'].isin([999999, 9999999999999])].copy()\n",
    "# Order columns\n",
    "final_stock = data_stock[['Fecha_Stock', 'Cadena', 'Cod_Prod', 'EAN o UPC Genomma', 'Descripcion_Prod', 'Cod_Local', 'Descripcion_Local', 'Unidades']].copy()"
   ]
  },
  {
   "cell_type": "code",
   "execution_count": 6,
   "metadata": {},
   "outputs": [
    {
     "data": {
      "text/plain": [
       "Fecha_Stock          0\n",
       "Cadena               0\n",
       "Cod_Prod             0\n",
       "EAN o UPC Genomma    0\n",
       "Descripcion_Prod     0\n",
       "Cod_Local            0\n",
       "Descripcion_Local    0\n",
       "Unidades             0\n",
       "dtype: int64"
      ]
     },
     "execution_count": 6,
     "metadata": {},
     "output_type": "execute_result"
    }
   ],
   "source": [
    "final_stock.isnull().sum()"
   ]
  },
  {
   "cell_type": "markdown",
   "metadata": {},
   "source": [
    "# Sell Out"
   ]
  },
  {
   "cell_type": "code",
   "execution_count": 7,
   "metadata": {},
   "outputs": [],
   "source": [
    "# Select elements in intersection\n",
    "def dates_repeted(dates, new_dates):\n",
    "    pattern = set(dates)\n",
    "    return [x for x in new_dates if x in dates]"
   ]
  },
  {
   "cell_type": "code",
   "execution_count": 8,
   "metadata": {},
   "outputs": [],
   "source": [
    "# Convert date to str\n",
    "def date_to_str(date):\n",
    "    try:\n",
    "        return date.strftime('%Y-%m-%d')\n",
    "    except:\n",
    "        return date"
   ]
  },
  {
   "cell_type": "markdown",
   "metadata": {},
   "source": [
    "## Load data"
   ]
  },
  {
   "cell_type": "code",
   "execution_count": 9,
   "metadata": {},
   "outputs": [
    {
     "name": "stdout",
     "output_type": "stream",
     "text": [
      "Wall time: 663 ms\n"
     ]
    }
   ],
   "source": [
    "%%time\n",
    "# The SO data is accumulated, so we import several dates\n",
    "df_so = pd.DataFrame(columns=range(9))\n",
    "for year, week in [(year, w) for w in range(week - 5, week + 1)]: \n",
    "    path = r'C:\\Users\\jshernandezm\\genommalabinternacional\\Francisco Jose Delfino - Stocks_canal\\Sell Out - No B2b\\Disval'\n",
    "    try:\n",
    "        # Search the files in differents locations\n",
    "        try:\n",
    "            file_name = '{0}_{1}_Disval_SO.txt'\n",
    "            df = pd.read_csv(path + '\\\\' + file_name.format(year, str(week).zfill(2)), header=None)\n",
    "        except:\n",
    "            file_name = '{0}_{1}_Disval_SO.xlsx'\n",
    "            df = pd.read_excel(path + '\\\\' + file_name.format(year, str(week).zfill(2)), header=None)\n",
    "        # Clean date\n",
    "        df[5] = df[5].map(date_to_str)\n",
    "        # Get the unique days\n",
    "        dr = dates_repeted(df_so[5].unique(), df[5].unique())\n",
    "        if len(dr) > 0:\n",
    "            df_so = df_so[~df_so[5].isin(dr)].copy()\n",
    "        df_so = pd.concat([df_so, df], axis=0)\n",
    "    except:\n",
    "        print('Ojo con el archivo ' + str(year) + ' - ' + str(week))"
   ]
  },
  {
   "cell_type": "markdown",
   "metadata": {},
   "source": [
    "## Clean data"
   ]
  },
  {
   "cell_type": "code",
   "execution_count": 10,
   "metadata": {},
   "outputs": [],
   "source": [
    "# Formatting sell out columns\n",
    "df_so['Fecha'] = df_so[5].apply(lambda x: datetime.strptime(x, '%Y-%m-%d'))\n",
    "# Filter the specific week\n",
    "df_so = df_so[df_so['Fecha'].isin(df_days['TmpFecha'].tolist())].copy()\n",
    "df_so.rename({6:'EAN o UPC Genomma', 7:'Descripcion_Local', 8:'Unidades'}, axis=1, inplace=True)\n",
    "df_so['Cadena'] = 'Disval'\n",
    "df_so['Cod_Prod'] = df_so['EAN o UPC Genomma']\n",
    "df_so['Cod_Local'] = '89310'\n",
    "data_so = df_so[['Fecha', 'Cadena', 'Cod_Prod', 'EAN o UPC Genomma', 'Cod_Local', 'Descripcion_Local', 'Unidades']].copy()\n",
    "# Filter EAN\n",
    "data_so = data_so[~data_so['EAN o UPC Genomma'].isin([999999, 9999999999999])].copy()\n",
    "# Merge with stock's Descripcion\n",
    "aux = data_stock[['EAN o UPC Genomma', 'Descripcion_Prod']]\n",
    "data_so = data_so.merge(aux.drop_duplicates(), on='EAN o UPC Genomma', how='left')\n",
    "# Order columns\n",
    "final_so = data_so[['Fecha', 'Cadena', 'Cod_Prod', 'EAN o UPC Genomma', 'Descripcion_Prod', 'Cod_Local', 'Descripcion_Local', 'Unidades']].copy()"
   ]
  },
  {
   "cell_type": "code",
   "execution_count": 11,
   "metadata": {},
   "outputs": [
    {
     "data": {
      "text/plain": [
       "Fecha                0\n",
       "Cadena               0\n",
       "Cod_Prod             0\n",
       "EAN o UPC Genomma    0\n",
       "Descripcion_Prod     0\n",
       "Cod_Local            0\n",
       "Descripcion_Local    0\n",
       "Unidades             0\n",
       "dtype: int64"
      ]
     },
     "execution_count": 11,
     "metadata": {},
     "output_type": "execute_result"
    }
   ],
   "source": [
    "final_so.isnull().sum()"
   ]
  },
  {
   "cell_type": "code",
   "execution_count": 12,
   "metadata": {},
   "outputs": [
    {
     "data": {
      "text/plain": [
       "array(['2021-07-19T00:00:00.000000000', '2021-07-20T00:00:00.000000000',\n",
       "       '2021-07-21T00:00:00.000000000', '2021-07-22T00:00:00.000000000',\n",
       "       '2021-07-23T00:00:00.000000000', '2021-07-24T00:00:00.000000000'],\n",
       "      dtype='datetime64[ns]')"
      ]
     },
     "execution_count": 12,
     "metadata": {},
     "output_type": "execute_result"
    }
   ],
   "source": [
    "final_so['Fecha'].unique()"
   ]
  },
  {
   "cell_type": "markdown",
   "metadata": {},
   "source": [
    "# Export file"
   ]
  },
  {
   "cell_type": "code",
   "execution_count": 13,
   "metadata": {},
   "outputs": [],
   "source": [
    "# Export to layout file\n",
    "def write_layout(filename, df, sellout=True):\n",
    "    writer = pd.ExcelWriter(filename, engine='openpyxl', mode='a')\n",
    "    writer.book = load_workbook(filename)\n",
    "    writer.sheets = {ws.title:ws for ws in writer.book.worksheets}\n",
    "    if sellout == True:\n",
    "        df.to_excel(writer, sheet_name='Ventas', startcol=1, startrow=18, index=False, header=None)\n",
    "    else:\n",
    "        df.to_excel(writer, sheet_name='Stock', startcol=1, startrow=18, index=False, header=None)\n",
    "    writer.save()"
   ]
  },
  {
   "cell_type": "code",
   "execution_count": 14,
   "metadata": {},
   "outputs": [
    {
     "data": {
      "text/plain": [
       "Fecha                0\n",
       "Cadena               0\n",
       "Cod_Prod             0\n",
       "EAN o UPC Genomma    0\n",
       "Descripcion_Prod     0\n",
       "Cod_Local            0\n",
       "Descripcion_Local    0\n",
       "Unidades             0\n",
       "dtype: int64"
      ]
     },
     "execution_count": 14,
     "metadata": {},
     "output_type": "execute_result"
    }
   ],
   "source": [
    "final_so.isnull().sum()"
   ]
  },
  {
   "cell_type": "code",
   "execution_count": null,
   "metadata": {},
   "outputs": [],
   "source": []
  }
 ],
 "metadata": {
  "kernelspec": {
   "display_name": "Python 3 (ipykernel)",
   "language": "python",
   "name": "python3"
  },
  "language_info": {
   "codemirror_mode": {
    "name": "ipython",
    "version": 3
   },
   "file_extension": ".py",
   "mimetype": "text/x-python",
   "name": "python",
   "nbconvert_exporter": "python",
   "pygments_lexer": "ipython3",
   "version": "3.8.10"
  },
  "toc": {
   "base_numbering": 1,
   "nav_menu": {},
   "number_sections": true,
   "sideBar": true,
   "skip_h1_title": false,
   "title_cell": "Table of Contents",
   "title_sidebar": "Contents",
   "toc_cell": false,
   "toc_position": {},
   "toc_section_display": true,
   "toc_window_display": true
  }
 },
 "nbformat": 4,
 "nbformat_minor": 4
}
