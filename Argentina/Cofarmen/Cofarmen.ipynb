{
 "cells": [
  {
   "cell_type": "code",
   "execution_count": 2,
   "metadata": {},
   "outputs": [],
   "source": [
    "#Librerias\n",
    "import pandas as pd\n",
    "from datetime import datetime\n",
    "import pyodbc\n",
    "import shutil\n",
    "import os\n",
    "from openpyxl import load_workbook\n",
    "import shutil"
   ]
  },
  {
   "cell_type": "code",
   "execution_count": 3,
   "metadata": {},
   "outputs": [],
   "source": [
    "#Conexion a bases de datos\n",
    "conn1 = pyodbc.connect('Driver={SQL Server};'\n",
    "                     'Server=SFEDWH01;'\n",
    "                     'Database=Gnm_DWH;'\n",
    "                     'Trusted_Connection=yes;')\n",
    "\n",
    "query_dates = '''\n",
    "                SELECT TmpFecha\n",
    "                      ,TmpSemanaAnioGenomma\n",
    "                      ,TmpAnioSemanaGenomma\n",
    "\n",
    "                  FROM dbo.Dim_Tiempo where TmpDiaSemana = 7 order by TmpID\n",
    "'''"
   ]
  },
  {
   "cell_type": "code",
   "execution_count": 4,
   "metadata": {},
   "outputs": [],
   "source": [
    "#Nombres de los archivos a procesar\n",
    "file_names = ['2021_22_Cofarmen_MDZA.xls','2021_22_Cofarmen_SANJ.xls']"
   ]
  },
  {
   "cell_type": "code",
   "execution_count": 5,
   "metadata": {},
   "outputs": [
    {
     "data": {
      "text/plain": [
       "['2021_23_Cofarmen_MDZA.xls',\n",
       " '2021_23_Cofarmen_SANJ.xls',\n",
       " '2021_24_Cofarmen_MDZA.xls',\n",
       " '2021_24_Cofarmen_SANJ.xls',\n",
       " '2021_25_Cofarmen_MDZA.xls',\n",
       " '2021_25_Cofarmen_SANJ.xls',\n",
       " '2021_26_Cofarmen_MDZA.xls',\n",
       " '2021_26_Cofarmen_SANJ.xls',\n",
       " '2021_27_Cofarmen_MDZA.xls',\n",
       " '2021_27_Cofarmen_SANJ.xls',\n",
       " '2021_28_Cofarmen_MDZA.xls',\n",
       " '2021_28_Cofarmen_SANJ.xls',\n",
       " '2021_29_Cofarmen_MDZA.xls',\n",
       " '2021_29_Cofarmen_SANJ.xls',\n",
       " '2021_30_Cofarmen_MDZA.xls',\n",
       " '2021_30_Cofarmen_SANJ.xls']"
      ]
     },
     "execution_count": 5,
     "metadata": {},
     "output_type": "execute_result"
    }
   ],
   "source": [
    "file_names"
   ]
  },
  {
   "cell_type": "code",
   "execution_count": 7,
   "metadata": {
    "scrolled": true
   },
   "outputs": [
    {
     "name": "stdout",
     "output_type": "stream",
     "text": [
      "Listo archivo 2021_23_Cofarmen_MDZA.xls\n",
      "Listo archivo 2021_23_Cofarmen_SANJ.xls\n",
      "Listo archivo 2021_24_Cofarmen_MDZA.xls\n",
      "Listo archivo 2021_24_Cofarmen_SANJ.xls\n",
      "Listo archivo 2021_25_Cofarmen_MDZA.xls\n",
      "Listo archivo 2021_25_Cofarmen_SANJ.xls\n",
      "Listo archivo 2021_26_Cofarmen_MDZA.xls\n",
      "Listo archivo 2021_26_Cofarmen_SANJ.xls\n",
      "Listo archivo 2021_27_Cofarmen_MDZA.xls\n",
      "Listo archivo 2021_27_Cofarmen_SANJ.xls\n",
      "Listo archivo 2021_28_Cofarmen_MDZA.xls\n",
      "Listo archivo 2021_28_Cofarmen_SANJ.xls\n",
      "Listo archivo 2021_29_Cofarmen_MDZA.xls\n",
      "Listo archivo 2021_29_Cofarmen_SANJ.xls\n",
      "Listo archivo 2021_30_Cofarmen_MDZA.xls\n",
      "Listo archivo 2021_30_Cofarmen_SANJ.xls\n"
     ]
    }
   ],
   "source": [
    "#VENTAS\n",
    "dates = pd.read_sql(query_dates,conn1)\n",
    "df_all_sales = pd.DataFrame()\n",
    "files_to_check = []\n",
    "\n",
    "for file in file_names:\n",
    "    try:\n",
    "        #Obtener el año y semana del nombre del archivo\n",
    "        year = int(file.split('_')[0])\n",
    "        week = int(file.split('_')[1])\n",
    "        \n",
    "        #Revisar con que sucursal se esta trabajando\n",
    "        sucursal = file.split('_')[3].split('.')[0]\n",
    "        if sucursal == 'MDZA':\n",
    "            nombre_suc = '88158 Cofarmen - Belgrano 1294, Godoy Cruz'\n",
    "            cod_suc = '88158'\n",
    "    \n",
    "        else:\n",
    "            nombre_suc = 'Cofarmen San Juan - Genérico'\n",
    "            cod_suc = 'SANJ_01'\n",
    "        \n",
    "        #Leer datos\n",
    "        df = pd.read_csv('C:/Users/jvelazquezh/OneDrive - genommalabinternacional/Stocks_canal/Sell Out - No B2b/Cofarmen/'+file, encoding='latin1', error_bad_lines=False, sep='\\t')\n",
    "        df.dropna(how='all',inplace=True)\n",
    "\n",
    "        df.columns = [i.strip() for i in df.columns]\n",
    "\n",
    "        #df.fillna(value={'EAN':0},inplace=True)\n",
    "        \n",
    "        data_final = pd.DataFrame()\n",
    "        \n",
    "        #Crear dataframe final con las columnas correspondientes\n",
    "        data_final['Unidades'] = df['VENTA']\n",
    "        data_final['Fecha_Venta'] = dates[(dates['TmpAnioSemanaGenomma'] == year) & (dates['TmpSemanaAnioGenomma'] == week)]['TmpFecha'].unique()[0]\n",
    "        data_final['Fecha_Venta'] = data_final['Fecha_Venta'].dt.date\n",
    "        data_final['Cadena'] = 'Cofarmed'\n",
    "        data_final['Cod_Prod de la Cadena'] = df['MATERIAL CODIGO'].astype('int64')\n",
    "        data_final['EAN o UPC Genomma'] = df['EAN'].astype('int64')\n",
    "        data_final['Descripcion_Prod'] = df['MATERIAL DESCRIPCION']\n",
    "        data_final['Cod_Local'] = cod_suc\n",
    "        data_final['Descripcion_Local'] = nombre_suc\n",
    "        \n",
    "        #Reordenar el dataframe y hacer ultimas modificaciones\n",
    "        data_final = data_final[['Fecha_Venta','Cadena','Cod_Prod de la Cadena','EAN o UPC Genomma','Descripcion_Prod','Cod_Local','Descripcion_Local','Unidades']]\n",
    "        data_final.dropna(subset=['Unidades'],inplace=True)\n",
    "        data_final['Descripcion_Prod'] = data_final['Descripcion_Prod'].apply(lambda x: x.strip())\n",
    "        df_all_sales = pd.concat([df_all_sales,data_final])\n",
    "        print('Listo archivo ' + file)\n",
    "        \n",
    "    except:\n",
    "        #En caso de haber archivos con un layout diferente o que se genere un error al correr el codigo se guarda el nombre \n",
    "        #en una lista para su revision\n",
    "        files_to_check.append(file)\n"
   ]
  },
  {
   "cell_type": "code",
   "execution_count": 8,
   "metadata": {},
   "outputs": [
    {
     "data": {
      "text/plain": [
       "[]"
      ]
     },
     "execution_count": 8,
     "metadata": {},
     "output_type": "execute_result"
    }
   ],
   "source": [
    "#Si no aparece vacio quiere decir que hubo un error con algun archivo y se mostrara el nombre\n",
    "files_to_check"
   ]
  },
  {
   "cell_type": "code",
   "execution_count": 9,
   "metadata": {},
   "outputs": [
    {
     "name": "stdout",
     "output_type": "stream",
     "text": [
      "Listo archivo 2021_23_Cofarmen_MDZA.xls\n",
      "Listo archivo 2021_23_Cofarmen_SANJ.xls\n",
      "Listo archivo 2021_24_Cofarmen_MDZA.xls\n",
      "Listo archivo 2021_24_Cofarmen_SANJ.xls\n",
      "Listo archivo 2021_25_Cofarmen_MDZA.xls\n",
      "Listo archivo 2021_25_Cofarmen_SANJ.xls\n",
      "Listo archivo 2021_26_Cofarmen_MDZA.xls\n",
      "Listo archivo 2021_26_Cofarmen_SANJ.xls\n",
      "Listo archivo 2021_27_Cofarmen_MDZA.xls\n",
      "Listo archivo 2021_27_Cofarmen_SANJ.xls\n",
      "Listo archivo 2021_28_Cofarmen_MDZA.xls\n",
      "Listo archivo 2021_28_Cofarmen_SANJ.xls\n",
      "Listo archivo 2021_29_Cofarmen_MDZA.xls\n",
      "Listo archivo 2021_29_Cofarmen_SANJ.xls\n",
      "Listo archivo 2021_30_Cofarmen_MDZA.xls\n",
      "Listo archivo 2021_30_Cofarmen_SANJ.xls\n"
     ]
    }
   ],
   "source": [
    "#STOCK\n",
    "dates = pd.read_sql(query_dates,conn1)\n",
    "df_all_stock = pd.DataFrame()\n",
    "files_to_check = []\n",
    "\n",
    "for file in file_names:\n",
    "    try:\n",
    "        #Obtener el año y semana del nombre del archivo\n",
    "        year = int(file.split('_')[0])\n",
    "        week = int(file.split('_')[1])\n",
    "        \n",
    "        #Revisar con que sucursal se esta trabajando\n",
    "        sucursal = file.split('_')[3].split('.')[0]\n",
    "        if sucursal == 'MDZA':\n",
    "            nombre_suc = '88158 Cofarmen - Belgrano 1294, Godoy Cruz'\n",
    "            cod_suc = '88158'\n",
    "    \n",
    "        else:\n",
    "            nombre_suc = 'Cofarmen San Juan - Genérico'\n",
    "            cod_suc = 'SANJ_01'\n",
    "        \n",
    "        #Leer datos\n",
    "        df = pd.read_csv('C:/Users/jvelazquezh/OneDrive - genommalabinternacional/Stocks_canal/Sell Out - No B2b/Cofarmen/'+file, encoding='latin1', error_bad_lines=False, sep='\\t')\n",
    "        df.dropna(how='all',inplace=True)\n",
    "\n",
    "        df.columns = [i.strip() for i in df.columns]\n",
    "\n",
    "        #df.fillna(value={'EAN':0},inplace=True)\n",
    "\n",
    "        data_final = pd.DataFrame()\n",
    "        \n",
    "        #Crear dataframe final con las columnas correspondientes\n",
    "        data_final['Unidades'] = df['STOCK']\n",
    "        data_final['Fecha_Venta'] = dates[(dates['TmpAnioSemanaGenomma'] == year) & (dates['TmpSemanaAnioGenomma'] == week)]['TmpFecha'].unique()[0]\n",
    "        data_final['Fecha_Venta'] = data_final['Fecha_Venta'].dt.date\n",
    "        data_final['Cadena'] = 'Cofarmed'\n",
    "        data_final['Cod_Prod de la Cadena'] = df['MATERIAL CODIGO'].astype('int64')\n",
    "        data_final['EAN o UPC Genomma'] = df['EAN'].astype('int64')\n",
    "        data_final['Descripcion_Prod'] = df['MATERIAL DESCRIPCION']\n",
    "        data_final['Cod_Local'] = cod_suc\n",
    "        data_final['Descripcion_Local'] = nombre_suc\n",
    "        \n",
    "        #Reordenar el dataframe y hacer ultimas modificaciones\n",
    "        data_final = data_final[['Fecha_Venta','Cadena','Cod_Prod de la Cadena','EAN o UPC Genomma','Descripcion_Prod','Cod_Local','Descripcion_Local','Unidades']]\n",
    "        data_final.dropna(subset=['Unidades'],inplace=True)\n",
    "        data_final['Descripcion_Prod'] = data_final['Descripcion_Prod'].apply(lambda x: x.strip())\n",
    "        df_all_stock = pd.concat([df_all_stock,data_final])\n",
    "        print('Listo archivo ' + file)\n",
    "        \n",
    "    except:\n",
    "        files_to_check.append(file)"
   ]
  },
  {
   "cell_type": "code",
   "execution_count": 10,
   "metadata": {},
   "outputs": [
    {
     "data": {
      "text/plain": [
       "[]"
      ]
     },
     "execution_count": 10,
     "metadata": {},
     "output_type": "execute_result"
    }
   ],
   "source": [
    "#Si no aparece vacio quiere decir que hubo un error con algun archivo y se mostrara el nombre\n",
    "files_to_check"
   ]
  },
  {
   "cell_type": "code",
   "execution_count": 11,
   "metadata": {},
   "outputs": [],
   "source": [
    "def write_layout(filename, df, sellout=True):\n",
    "    writer = pd.ExcelWriter(filename, engine='openpyxl')\n",
    "    writer.book = load_workbook(filename)\n",
    "    writer.sheets = {ws.title:ws for ws in writer.book.worksheets}\n",
    "    if sellout == True:\n",
    "        df.to_excel(writer, sheet_name='Ventas', startcol=1, startrow=18, index=False, header=None)\n",
    "    else:\n",
    "        df.to_excel(writer, sheet_name='Stock', startcol=1, startrow=18, index=False, header=None)\n",
    "    writer.save()"
   ]
  },
  {
   "cell_type": "code",
   "execution_count": 13,
   "metadata": {},
   "outputs": [
    {
     "name": "stdout",
     "output_type": "stream",
     "text": [
      "Wall time: 13.1 s\n"
     ]
    }
   ],
   "source": [
    "%%time\n",
    "original = '../../../../../COL/1Data//2Catalogue/toISV/Formato No B2B Orig.xlsx'\n",
    "new_folder = '../../../../1Data/2Catalogue/toISV/S'+ str(week) +'/'\n",
    "try:\n",
    "    os.mkdir(new_folder)\n",
    "except:\n",
    "    pass\n",
    "\n",
    "filename = 'Formato No B2B Cofarmen Sem ' + str(week)\n",
    "path_export = new_folder + '/' + filename +'.xlsx'\n",
    "shutil.copy(original, path_export)\n",
    "write_layout(path_export, df_all_sales, True)\n",
    "write_layout(path_export, df_all_stock, False)"
   ]
  },
  {
   "cell_type": "code",
   "execution_count": null,
   "metadata": {},
   "outputs": [],
   "source": []
  },
  {
   "cell_type": "code",
   "execution_count": null,
   "metadata": {},
   "outputs": [],
   "source": []
  }
 ],
 "metadata": {
  "kernelspec": {
   "display_name": "Python 3",
   "language": "python",
   "name": "python3"
  },
  "language_info": {
   "codemirror_mode": {
    "name": "ipython",
    "version": 3
   },
   "file_extension": ".py",
   "mimetype": "text/x-python",
   "name": "python",
   "nbconvert_exporter": "python",
   "pygments_lexer": "ipython3",
   "version": "3.8.3"
  }
 },
 "nbformat": 4,
 "nbformat_minor": 4
}
